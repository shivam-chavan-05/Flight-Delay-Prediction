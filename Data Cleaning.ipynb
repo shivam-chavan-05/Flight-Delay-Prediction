{
  "cells": [
    {
      "cell_type": "markdown",
      "metadata": {
        "id": "WCQg_9D8qD9f"
      },
      "source": [
        "The dataset used for this project can be found in this link below:\n",
        "https://www.kaggle.com/datasets/patrickzel/flight-delay-and-cancellation-dataset-2019-2023/data\n",
        "\n",
        "After the data set is loaded press Ctrl + F9 to run all cells"
      ]
    },
    {
      "cell_type": "markdown",
      "metadata": {
        "id": "k6RXGCosq7y3"
      },
      "source": [
        "This file contains Data Preprocessing and Implementation of Decision Tree : Baseline Model and XGBoost"
      ]
    },
    {
      "cell_type": "code",
      "execution_count": 94,
      "metadata": {
        "id": "Fo41mlsNFpwm"
      },
      "outputs": [],
      "source": [
        "import pandas as pd\n",
        "import numpy as np\n",
        "import matplotlib.pyplot as plt\n",
        "%matplotlib inline\n",
        "import seaborn as sns\n",
        "pd.set_option('display.max_columns', None)\n",
        "import datetime, warnings, scipy\n",
        "warnings.filterwarnings(\"ignore\")"
      ]
    },
    {
      "cell_type": "code",
      "execution_count": 95,
      "metadata": {
        "id": "2cdvFsZRJJP_"
      },
      "outputs": [],
      "source": [
        "df1 = pd.read_csv('flights_sample_3m.csv')"
      ]
    },
    {
      "cell_type": "code",
      "execution_count": 96,
      "metadata": {
        "colab": {
          "base_uri": "https://localhost:8080/"
        },
        "id": "3cs7WTahJWSE",
        "outputId": "183270b3-f464-411c-b36c-ed4dd06f2455"
      },
      "outputs": [
        {
          "data": {
            "text/plain": [
              "(3000000, 32)"
            ]
          },
          "execution_count": 96,
          "metadata": {},
          "output_type": "execute_result"
        }
      ],
      "source": [
        "df1.shape"
      ]
    },
    {
      "cell_type": "code",
      "execution_count": 97,
      "metadata": {
        "colab": {
          "base_uri": "https://localhost:8080/"
        },
        "id": "BA2focT-Ld0A",
        "outputId": "ad288a40-c8eb-4249-adae-01212efe54ca"
      },
      "outputs": [
        {
          "name": "stdout",
          "output_type": "stream",
          "text": [
            "<class 'pandas.core.frame.DataFrame'>\n",
            "RangeIndex: 3000000 entries, 0 to 2999999\n",
            "Data columns (total 32 columns):\n",
            " #   Column                   Dtype  \n",
            "---  ------                   -----  \n",
            " 0   FL_DATE                  object \n",
            " 1   AIRLINE                  object \n",
            " 2   AIRLINE_DOT              object \n",
            " 3   AIRLINE_CODE             object \n",
            " 4   DOT_CODE                 int64  \n",
            " 5   FL_NUMBER                int64  \n",
            " 6   ORIGIN                   object \n",
            " 7   ORIGIN_CITY              object \n",
            " 8   DEST                     object \n",
            " 9   DEST_CITY                object \n",
            " 10  CRS_DEP_TIME             int64  \n",
            " 11  DEP_TIME                 float64\n",
            " 12  DEP_DELAY                float64\n",
            " 13  TAXI_OUT                 float64\n",
            " 14  WHEELS_OFF               float64\n",
            " 15  WHEELS_ON                float64\n",
            " 16  TAXI_IN                  float64\n",
            " 17  CRS_ARR_TIME             int64  \n",
            " 18  ARR_TIME                 float64\n",
            " 19  ARR_DELAY                float64\n",
            " 20  CANCELLED                float64\n",
            " 21  CANCELLATION_CODE        object \n",
            " 22  DIVERTED                 float64\n",
            " 23  CRS_ELAPSED_TIME         float64\n",
            " 24  ELAPSED_TIME             float64\n",
            " 25  AIR_TIME                 float64\n",
            " 26  DISTANCE                 float64\n",
            " 27  DELAY_DUE_CARRIER        float64\n",
            " 28  DELAY_DUE_WEATHER        float64\n",
            " 29  DELAY_DUE_NAS            float64\n",
            " 30  DELAY_DUE_SECURITY       float64\n",
            " 31  DELAY_DUE_LATE_AIRCRAFT  float64\n",
            "dtypes: float64(19), int64(4), object(9)\n",
            "memory usage: 732.4+ MB\n"
          ]
        }
      ],
      "source": [
        "df1.info()"
      ]
    },
    {
      "cell_type": "markdown",
      "metadata": {
        "id": "5XNW9vayMfNd"
      },
      "source": [
        "Dropping Unwanted Columns"
      ]
    },
    {
      "cell_type": "code",
      "execution_count": 98,
      "metadata": {
        "id": "BQ-iBq0ANZgm"
      },
      "outputs": [],
      "source": [
        "df1 = df1.drop(['CANCELLED', 'CANCELLATION_CODE', 'DIVERTED', 'FL_NUMBER', 'DEP_TIME', 'ARR_TIME', ], axis = 1)"
      ]
    },
    {
      "cell_type": "code",
      "execution_count": 99,
      "metadata": {
        "colab": {
          "base_uri": "https://localhost:8080/"
        },
        "id": "me_zHiGzNa7i",
        "outputId": "1f401345-2aae-430a-fdd9-0da869bd0aa7"
      },
      "outputs": [
        {
          "data": {
            "text/plain": [
              "(3000000, 26)"
            ]
          },
          "execution_count": 99,
          "metadata": {},
          "output_type": "execute_result"
        }
      ],
      "source": [
        "df1.shape"
      ]
    },
    {
      "cell_type": "markdown",
      "metadata": {
        "id": "4sDiqltuOP3H"
      },
      "source": [
        "Dropping Duplicates"
      ]
    },
    {
      "cell_type": "code",
      "execution_count": 100,
      "metadata": {
        "id": "CEMLZnCQN9I8"
      },
      "outputs": [],
      "source": [
        "df1 = df1.drop_duplicates()"
      ]
    },
    {
      "cell_type": "code",
      "execution_count": 101,
      "metadata": {
        "colab": {
          "base_uri": "https://localhost:8080/"
        },
        "id": "mJx348bSSkTc",
        "outputId": "6a38a20e-b778-433e-a51e-73dd80b9934d"
      },
      "outputs": [
        {
          "data": {
            "text/plain": [
              "(3000000, 26)"
            ]
          },
          "execution_count": 101,
          "metadata": {},
          "output_type": "execute_result"
        }
      ],
      "source": [
        "df1.shape"
      ]
    },
    {
      "cell_type": "markdown",
      "metadata": {
        "id": "e3t-45J6OlMm"
      },
      "source": [
        "Dropping the year 2018 & 2019"
      ]
    },
    {
      "cell_type": "code",
      "execution_count": 102,
      "metadata": {
        "id": "-beE3jr1O0wI"
      },
      "outputs": [],
      "source": [
        "df1['FL_DATE'] = pd.to_datetime(df1['FL_DATE'])\n",
        "\n",
        "df1 = df1[~df1['FL_DATE'].dt.year.isin([2018, 2019])]\n",
        "\n",
        "df1.reset_index(drop=True, inplace=True)"
      ]
    },
    {
      "cell_type": "code",
      "execution_count": 103,
      "metadata": {
        "colab": {
          "base_uri": "https://localhost:8080/"
        },
        "id": "wFG01SjlR6kf",
        "outputId": "2a4cc64c-3da1-4c22-e5bd-f81e768ab492"
      },
      "outputs": [
        {
          "data": {
            "text/plain": [
              "(2242327, 26)"
            ]
          },
          "execution_count": 103,
          "metadata": {},
          "output_type": "execute_result"
        }
      ],
      "source": [
        "df1.shape"
      ]
    },
    {
      "cell_type": "markdown",
      "metadata": {
        "id": "HHf_wIKESrHK"
      },
      "source": [
        "Dropping Airline"
      ]
    },
    {
      "cell_type": "code",
      "execution_count": 104,
      "metadata": {
        "id": "Yf7sMQqaSuNA"
      },
      "outputs": [],
      "source": [
        "specified_airlines = ['United Air Lines Inc.', 'Delta Air Lines Inc.', 'Spirit Air Lines',\n",
        "                      'Southwest Airlines Co.', 'American Airlines Inc.', 'Republic Airline',\n",
        "                      'Alaska Airlines Inc.', 'JetBlue Airways', 'SkyWest Airlines Inc.',\n",
        "                      'Frontier Airlines Inc.']"
      ]
    },
    {
      "cell_type": "code",
      "execution_count": 105,
      "metadata": {
        "id": "voYzslbCTj5u"
      },
      "outputs": [],
      "source": [
        "df1 = df1[df1['AIRLINE'].isin(specified_airlines)]"
      ]
    },
    {
      "cell_type": "code",
      "execution_count": 106,
      "metadata": {
        "id": "genm8OE1TkCf"
      },
      "outputs": [],
      "source": [
        "df1.reset_index(drop=True, inplace=True)"
      ]
    },
    {
      "cell_type": "code",
      "execution_count": 107,
      "metadata": {
        "colab": {
          "base_uri": "https://localhost:8080/"
        },
        "id": "AF_FNXJITred",
        "outputId": "cf23e6e1-e24b-4ac9-ce66-eb78f3642594"
      },
      "outputs": [
        {
          "data": {
            "text/plain": [
              "(1857356, 26)"
            ]
          },
          "execution_count": 107,
          "metadata": {},
          "output_type": "execute_result"
        }
      ],
      "source": [
        "df1.shape"
      ]
    },
    {
      "cell_type": "markdown",
      "metadata": {
        "id": "6jkAbycsUi9y"
      },
      "source": [
        "Delay"
      ]
    },
    {
      "cell_type": "code",
      "execution_count": 108,
      "metadata": {
        "colab": {
          "base_uri": "https://localhost:8080/"
        },
        "id": "6bPqsYytUibs",
        "outputId": "080635aa-1aed-451f-ed30-cc470686859b"
      },
      "outputs": [
        {
          "name": "stdout",
          "output_type": "stream",
          "text": [
            "1526158\n",
            "1526158\n",
            "1526158\n",
            "1526158\n",
            "1526158\n"
          ]
        }
      ],
      "source": [
        "print(df1.DELAY_DUE_CARRIER.isna().sum())\n",
        "print(df1.DELAY_DUE_WEATHER.isna().sum())\n",
        "print(df1.DELAY_DUE_NAS.isna().sum())\n",
        "print(df1.DELAY_DUE_SECURITY.isna().sum())\n",
        "print(df1.DELAY_DUE_LATE_AIRCRAFT.isna().sum())"
      ]
    },
    {
      "cell_type": "code",
      "execution_count": 109,
      "metadata": {
        "colab": {
          "base_uri": "https://localhost:8080/"
        },
        "id": "Ytw0gmyCVOCN",
        "outputId": "23eb87c5-eefd-44c1-e1fe-a1f6d8369c67"
      },
      "outputs": [
        {
          "name": "stdout",
          "output_type": "stream",
          "text": [
            "Percentage of valid data: 17.831691931972117\n",
            "Percentage of missing values: 82.16830806802788\n"
          ]
        }
      ],
      "source": [
        "print(\"Percentage of valid data:\", 100 - (df1.DELAY_DUE_CARRIER.isna().sum()*100/len(df1)))\n",
        "print(\"Percentage of missing values:\", (df1.DELAY_DUE_CARRIER.isna().sum()*100/len(df1)))"
      ]
    },
    {
      "cell_type": "code",
      "execution_count": 110,
      "metadata": {
        "colab": {
          "base_uri": "https://localhost:8080/"
        },
        "id": "QQpqOoGiZzVx",
        "outputId": "f74e39eb-8ba0-494b-ff44-661a2c7b43d9"
      },
      "outputs": [
        {
          "name": "stdout",
          "output_type": "stream",
          "text": [
            "The current shape of df1 is: (1857356, 21)\n"
          ]
        }
      ],
      "source": [
        "df1 = df1.drop(['DELAY_DUE_CARRIER', 'DELAY_DUE_WEATHER', 'DELAY_DUE_NAS', 'DELAY_DUE_SECURITY', 'DELAY_DUE_LATE_AIRCRAFT'], axis=1)\n",
        "print('The current shape of df1 is:', df1.shape)"
      ]
    },
    {
      "cell_type": "markdown",
      "metadata": {
        "id": "bbWDOs-ObDrx"
      },
      "source": [
        "Saving DataFrame"
      ]
    },
    {
      "cell_type": "code",
      "execution_count": 111,
      "metadata": {
        "id": "Vz2UwT2IbLFY"
      },
      "outputs": [],
      "source": [
        "df1.to_csv('df1.csv')"
      ]
    },
    {
      "cell_type": "markdown",
      "metadata": {
        "id": "5HUE9xS_bYWq"
      },
      "source": [
        "Dealing with NaN"
      ]
    },
    {
      "cell_type": "code",
      "execution_count": 112,
      "metadata": {
        "colab": {
          "base_uri": "https://localhost:8080/"
        },
        "id": "Sj-mOWJfbcQq",
        "outputId": "761eb161-159c-4729-da70-53be552805e8"
      },
      "outputs": [
        {
          "name": "stdout",
          "output_type": "stream",
          "text": [
            "<class 'pandas.core.frame.DataFrame'>\n",
            "RangeIndex: 1857356 entries, 0 to 1857355\n",
            "Data columns (total 21 columns):\n",
            " #   Column            Dtype         \n",
            "---  ------            -----         \n",
            " 0   FL_DATE           datetime64[ns]\n",
            " 1   AIRLINE           object        \n",
            " 2   AIRLINE_DOT       object        \n",
            " 3   AIRLINE_CODE      object        \n",
            " 4   DOT_CODE          int64         \n",
            " 5   ORIGIN            object        \n",
            " 6   ORIGIN_CITY       object        \n",
            " 7   DEST              object        \n",
            " 8   DEST_CITY         object        \n",
            " 9   CRS_DEP_TIME      int64         \n",
            " 10  DEP_DELAY         float64       \n",
            " 11  TAXI_OUT          float64       \n",
            " 12  WHEELS_OFF        float64       \n",
            " 13  WHEELS_ON         float64       \n",
            " 14  TAXI_IN           float64       \n",
            " 15  CRS_ARR_TIME      int64         \n",
            " 16  ARR_DELAY         float64       \n",
            " 17  CRS_ELAPSED_TIME  float64       \n",
            " 18  ELAPSED_TIME      float64       \n",
            " 19  AIR_TIME          float64       \n",
            " 20  DISTANCE          float64       \n",
            "dtypes: datetime64[ns](1), float64(10), int64(3), object(7)\n",
            "memory usage: 297.6+ MB\n"
          ]
        }
      ],
      "source": [
        "df1.info()"
      ]
    },
    {
      "cell_type": "code",
      "execution_count": 113,
      "metadata": {
        "colab": {
          "base_uri": "https://localhost:8080/"
        },
        "id": "sck6SlWkbfQZ",
        "outputId": "894451d3-95a0-424f-a762-9b0be6ab7cf7"
      },
      "outputs": [
        {
          "data": {
            "text/plain": [
              "FL_DATE                 0\n",
              "AIRLINE                 0\n",
              "AIRLINE_DOT             0\n",
              "AIRLINE_CODE            0\n",
              "DOT_CODE                0\n",
              "ORIGIN                  0\n",
              "ORIGIN_CITY             0\n",
              "DEST                    0\n",
              "DEST_CITY               0\n",
              "CRS_DEP_TIME            0\n",
              "DEP_DELAY           52504\n",
              "TAXI_OUT            53123\n",
              "WHEELS_OFF          53123\n",
              "WHEELS_ON           53742\n",
              "TAXI_IN             53742\n",
              "CRS_ARR_TIME            0\n",
              "ARR_DELAY           57551\n",
              "CRS_ELAPSED_TIME        1\n",
              "ELAPSED_TIME        57551\n",
              "AIR_TIME            57551\n",
              "DISTANCE                0\n",
              "dtype: int64"
            ]
          },
          "execution_count": 113,
          "metadata": {},
          "output_type": "execute_result"
        }
      ],
      "source": [
        "df1.isna().sum()"
      ]
    },
    {
      "cell_type": "code",
      "execution_count": 114,
      "metadata": {
        "colab": {
          "base_uri": "https://localhost:8080/"
        },
        "id": "QXGw5339bky5",
        "outputId": "c131a721-11a8-4fc9-b422-d05b9d8ac2d6"
      },
      "outputs": [
        {
          "name": "stdout",
          "output_type": "stream",
          "text": [
            "Number of total missing values: 438888\n",
            "df1 shape: (1857356, 21)\n"
          ]
        }
      ],
      "source": [
        "print('Number of total missing values:', df1.isna().sum().sum())\n",
        "print('df1 shape:', df1.shape)"
      ]
    },
    {
      "cell_type": "code",
      "execution_count": 115,
      "metadata": {
        "id": "blpHpYXmcUOW"
      },
      "outputs": [],
      "source": [
        "df_NaN = df1.loc[df1.isnull().any(axis=1)]"
      ]
    },
    {
      "cell_type": "code",
      "execution_count": 116,
      "metadata": {
        "colab": {
          "base_uri": "https://localhost:8080/"
        },
        "id": "1CoXq9FYcVG-",
        "outputId": "d71c38c2-1317-4007-91f9-33eaebc9ede2"
      },
      "outputs": [
        {
          "data": {
            "text/plain": [
              "(57551, 21)"
            ]
          },
          "execution_count": 116,
          "metadata": {},
          "output_type": "execute_result"
        }
      ],
      "source": [
        "df_NaN.shape"
      ]
    },
    {
      "cell_type": "code",
      "execution_count": 117,
      "metadata": {
        "colab": {
          "base_uri": "https://localhost:8080/"
        },
        "id": "V-4vdB9xcdq9",
        "outputId": "ac67a81f-dc09-4c1a-9b9a-eac9d0741ff2"
      },
      "outputs": [
        {
          "name": "stdout",
          "output_type": "stream",
          "text": [
            "Percentage of rows with at least 1 NaN value: 3.0985443824447225\n"
          ]
        }
      ],
      "source": [
        "percentage_NaN = (len(df_NaN)*100)/len(df1)\n",
        "print('Percentage of rows with at least 1 NaN value:', percentage_NaN)"
      ]
    },
    {
      "cell_type": "markdown",
      "metadata": {
        "id": "glfdus7acodm"
      },
      "source": [
        "Depature Delay"
      ]
    },
    {
      "cell_type": "code",
      "execution_count": 118,
      "metadata": {
        "colab": {
          "base_uri": "https://localhost:8080/"
        },
        "id": "8VDUrfh8cqZg",
        "outputId": "bb0f3b86-b6c9-4be0-9e6a-1cf319fdb22d"
      },
      "outputs": [
        {
          "data": {
            "text/plain": [
              "FL_DATE                 0\n",
              "AIRLINE                 0\n",
              "AIRLINE_DOT             0\n",
              "AIRLINE_CODE            0\n",
              "DOT_CODE                0\n",
              "ORIGIN                  0\n",
              "ORIGIN_CITY             0\n",
              "DEST                    0\n",
              "DEST_CITY               0\n",
              "CRS_DEP_TIME            0\n",
              "DEP_DELAY               0\n",
              "TAXI_OUT            53123\n",
              "WHEELS_OFF          53123\n",
              "WHEELS_ON           53742\n",
              "TAXI_IN             53742\n",
              "CRS_ARR_TIME            0\n",
              "ARR_DELAY           57551\n",
              "CRS_ELAPSED_TIME        1\n",
              "ELAPSED_TIME        57551\n",
              "AIR_TIME            57551\n",
              "DISTANCE                0\n",
              "dtype: int64"
            ]
          },
          "execution_count": 118,
          "metadata": {},
          "output_type": "execute_result"
        }
      ],
      "source": [
        "df1[\"DEP_DELAY\"] = df1[\"DEP_DELAY\"].fillna(0)\n",
        "df1.isna().sum()"
      ]
    },
    {
      "cell_type": "markdown",
      "metadata": {
        "id": "wQiHFyaSc0jU"
      },
      "source": [
        "Taxi In"
      ]
    },
    {
      "cell_type": "code",
      "execution_count": 119,
      "metadata": {
        "id": "PlopU_ZuczRb"
      },
      "outputs": [],
      "source": [
        "df1['TAXI_IN'].fillna((df1['TAXI_IN'].mean()), inplace=True)\n",
        "df_NaN['TAXI_IN'].fillna((df_NaN['TAXI_IN'].mean()), inplace=True)"
      ]
    },
    {
      "cell_type": "code",
      "execution_count": 120,
      "metadata": {
        "colab": {
          "base_uri": "https://localhost:8080/",
          "height": 382
        },
        "id": "iBalrgZKc3ms",
        "outputId": "3929138b-7c93-4c70-984d-52e2f90f1071"
      },
      "outputs": [
        {
          "data": {
            "text/html": [
              "<div>\n",
              "<style scoped>\n",
              "    .dataframe tbody tr th:only-of-type {\n",
              "        vertical-align: middle;\n",
              "    }\n",
              "\n",
              "    .dataframe tbody tr th {\n",
              "        vertical-align: top;\n",
              "    }\n",
              "\n",
              "    .dataframe thead th {\n",
              "        text-align: right;\n",
              "    }\n",
              "</style>\n",
              "<table border=\"1\" class=\"dataframe\">\n",
              "  <thead>\n",
              "    <tr style=\"text-align: right;\">\n",
              "      <th></th>\n",
              "      <th>FL_DATE</th>\n",
              "      <th>AIRLINE</th>\n",
              "      <th>AIRLINE_DOT</th>\n",
              "      <th>AIRLINE_CODE</th>\n",
              "      <th>DOT_CODE</th>\n",
              "      <th>ORIGIN</th>\n",
              "      <th>ORIGIN_CITY</th>\n",
              "      <th>DEST</th>\n",
              "      <th>DEST_CITY</th>\n",
              "      <th>CRS_DEP_TIME</th>\n",
              "      <th>DEP_DELAY</th>\n",
              "      <th>TAXI_OUT</th>\n",
              "      <th>WHEELS_OFF</th>\n",
              "      <th>WHEELS_ON</th>\n",
              "      <th>TAXI_IN</th>\n",
              "      <th>CRS_ARR_TIME</th>\n",
              "      <th>ARR_DELAY</th>\n",
              "      <th>CRS_ELAPSED_TIME</th>\n",
              "      <th>ELAPSED_TIME</th>\n",
              "      <th>AIR_TIME</th>\n",
              "      <th>DISTANCE</th>\n",
              "    </tr>\n",
              "  </thead>\n",
              "  <tbody>\n",
              "    <tr>\n",
              "      <th>10</th>\n",
              "      <td>2020-04-07</td>\n",
              "      <td>Southwest Airlines Co.</td>\n",
              "      <td>Southwest Airlines Co.: WN</td>\n",
              "      <td>WN</td>\n",
              "      <td>19393</td>\n",
              "      <td>SJC</td>\n",
              "      <td>San Jose, CA</td>\n",
              "      <td>LAX</td>\n",
              "      <td>Los Angeles, CA</td>\n",
              "      <td>2155</td>\n",
              "      <td>NaN</td>\n",
              "      <td>NaN</td>\n",
              "      <td>NaN</td>\n",
              "      <td>NaN</td>\n",
              "      <td>10.573641</td>\n",
              "      <td>2315</td>\n",
              "      <td>NaN</td>\n",
              "      <td>80.0</td>\n",
              "      <td>NaN</td>\n",
              "      <td>NaN</td>\n",
              "      <td>308.0</td>\n",
              "    </tr>\n",
              "    <tr>\n",
              "      <th>26</th>\n",
              "      <td>2022-01-02</td>\n",
              "      <td>Republic Airline</td>\n",
              "      <td>Republic Airline: YX</td>\n",
              "      <td>YX</td>\n",
              "      <td>20452</td>\n",
              "      <td>ORD</td>\n",
              "      <td>Chicago, IL</td>\n",
              "      <td>DCA</td>\n",
              "      <td>Washington, DC</td>\n",
              "      <td>1935</td>\n",
              "      <td>NaN</td>\n",
              "      <td>NaN</td>\n",
              "      <td>NaN</td>\n",
              "      <td>NaN</td>\n",
              "      <td>10.573641</td>\n",
              "      <td>2241</td>\n",
              "      <td>NaN</td>\n",
              "      <td>126.0</td>\n",
              "      <td>NaN</td>\n",
              "      <td>NaN</td>\n",
              "      <td>612.0</td>\n",
              "    </tr>\n",
              "    <tr>\n",
              "      <th>47</th>\n",
              "      <td>2020-04-20</td>\n",
              "      <td>Southwest Airlines Co.</td>\n",
              "      <td>Southwest Airlines Co.: WN</td>\n",
              "      <td>WN</td>\n",
              "      <td>19393</td>\n",
              "      <td>BNA</td>\n",
              "      <td>Nashville, TN</td>\n",
              "      <td>ATL</td>\n",
              "      <td>Atlanta, GA</td>\n",
              "      <td>1055</td>\n",
              "      <td>NaN</td>\n",
              "      <td>NaN</td>\n",
              "      <td>NaN</td>\n",
              "      <td>NaN</td>\n",
              "      <td>10.573641</td>\n",
              "      <td>1300</td>\n",
              "      <td>NaN</td>\n",
              "      <td>65.0</td>\n",
              "      <td>NaN</td>\n",
              "      <td>NaN</td>\n",
              "      <td>214.0</td>\n",
              "    </tr>\n",
              "    <tr>\n",
              "      <th>112</th>\n",
              "      <td>2021-12-31</td>\n",
              "      <td>Alaska Airlines Inc.</td>\n",
              "      <td>Alaska Airlines Inc.: AS</td>\n",
              "      <td>AS</td>\n",
              "      <td>19930</td>\n",
              "      <td>IAD</td>\n",
              "      <td>Washington, DC</td>\n",
              "      <td>LAX</td>\n",
              "      <td>Los Angeles, CA</td>\n",
              "      <td>1720</td>\n",
              "      <td>NaN</td>\n",
              "      <td>NaN</td>\n",
              "      <td>NaN</td>\n",
              "      <td>NaN</td>\n",
              "      <td>10.573641</td>\n",
              "      <td>2024</td>\n",
              "      <td>NaN</td>\n",
              "      <td>364.0</td>\n",
              "      <td>NaN</td>\n",
              "      <td>NaN</td>\n",
              "      <td>2288.0</td>\n",
              "    </tr>\n",
              "    <tr>\n",
              "      <th>140</th>\n",
              "      <td>2020-04-14</td>\n",
              "      <td>Southwest Airlines Co.</td>\n",
              "      <td>Southwest Airlines Co.: WN</td>\n",
              "      <td>WN</td>\n",
              "      <td>19393</td>\n",
              "      <td>LAS</td>\n",
              "      <td>Las Vegas, NV</td>\n",
              "      <td>HOU</td>\n",
              "      <td>Houston, TX</td>\n",
              "      <td>500</td>\n",
              "      <td>NaN</td>\n",
              "      <td>NaN</td>\n",
              "      <td>NaN</td>\n",
              "      <td>NaN</td>\n",
              "      <td>10.573641</td>\n",
              "      <td>955</td>\n",
              "      <td>NaN</td>\n",
              "      <td>175.0</td>\n",
              "      <td>NaN</td>\n",
              "      <td>NaN</td>\n",
              "      <td>1235.0</td>\n",
              "    </tr>\n",
              "  </tbody>\n",
              "</table>\n",
              "</div>"
            ],
            "text/plain": [
              "       FL_DATE                 AIRLINE                 AIRLINE_DOT  \\\n",
              "10  2020-04-07  Southwest Airlines Co.  Southwest Airlines Co.: WN   \n",
              "26  2022-01-02        Republic Airline        Republic Airline: YX   \n",
              "47  2020-04-20  Southwest Airlines Co.  Southwest Airlines Co.: WN   \n",
              "112 2021-12-31    Alaska Airlines Inc.    Alaska Airlines Inc.: AS   \n",
              "140 2020-04-14  Southwest Airlines Co.  Southwest Airlines Co.: WN   \n",
              "\n",
              "    AIRLINE_CODE  DOT_CODE ORIGIN     ORIGIN_CITY DEST        DEST_CITY  \\\n",
              "10            WN     19393    SJC    San Jose, CA  LAX  Los Angeles, CA   \n",
              "26            YX     20452    ORD     Chicago, IL  DCA   Washington, DC   \n",
              "47            WN     19393    BNA   Nashville, TN  ATL      Atlanta, GA   \n",
              "112           AS     19930    IAD  Washington, DC  LAX  Los Angeles, CA   \n",
              "140           WN     19393    LAS   Las Vegas, NV  HOU      Houston, TX   \n",
              "\n",
              "     CRS_DEP_TIME  DEP_DELAY  TAXI_OUT  WHEELS_OFF  WHEELS_ON    TAXI_IN  \\\n",
              "10           2155        NaN       NaN         NaN        NaN  10.573641   \n",
              "26           1935        NaN       NaN         NaN        NaN  10.573641   \n",
              "47           1055        NaN       NaN         NaN        NaN  10.573641   \n",
              "112          1720        NaN       NaN         NaN        NaN  10.573641   \n",
              "140           500        NaN       NaN         NaN        NaN  10.573641   \n",
              "\n",
              "     CRS_ARR_TIME  ARR_DELAY  CRS_ELAPSED_TIME  ELAPSED_TIME  AIR_TIME  \\\n",
              "10           2315        NaN              80.0           NaN       NaN   \n",
              "26           2241        NaN             126.0           NaN       NaN   \n",
              "47           1300        NaN              65.0           NaN       NaN   \n",
              "112          2024        NaN             364.0           NaN       NaN   \n",
              "140           955        NaN             175.0           NaN       NaN   \n",
              "\n",
              "     DISTANCE  \n",
              "10      308.0  \n",
              "26      612.0  \n",
              "47      214.0  \n",
              "112    2288.0  \n",
              "140    1235.0  "
            ]
          },
          "execution_count": 120,
          "metadata": {},
          "output_type": "execute_result"
        }
      ],
      "source": [
        "df_NaN.head()"
      ]
    },
    {
      "cell_type": "code",
      "execution_count": 121,
      "metadata": {
        "colab": {
          "base_uri": "https://localhost:8080/"
        },
        "id": "o6Cl7DhddAqI",
        "outputId": "d34d8ff4-6e98-45ee-ad2f-a67b0b7e1986"
      },
      "outputs": [
        {
          "data": {
            "text/plain": [
              "0"
            ]
          },
          "execution_count": 121,
          "metadata": {},
          "output_type": "execute_result"
        }
      ],
      "source": [
        "df1.TAXI_IN.isna().sum()"
      ]
    },
    {
      "cell_type": "markdown",
      "metadata": {
        "id": "J34C6Id7dIyt"
      },
      "source": [
        "Dropping NaN"
      ]
    },
    {
      "cell_type": "code",
      "execution_count": 122,
      "metadata": {
        "id": "AkkFxoybdKiw"
      },
      "outputs": [],
      "source": [
        "df1 = df1.dropna()"
      ]
    },
    {
      "cell_type": "code",
      "execution_count": 123,
      "metadata": {
        "colab": {
          "base_uri": "https://localhost:8080/"
        },
        "id": "HGR2IyOHdND4",
        "outputId": "e07252c7-48d8-4f5c-d704-7688b4b102e3"
      },
      "outputs": [
        {
          "data": {
            "text/plain": [
              "(1799805, 21)"
            ]
          },
          "execution_count": 123,
          "metadata": {},
          "output_type": "execute_result"
        }
      ],
      "source": [
        "df1.shape"
      ]
    },
    {
      "cell_type": "code",
      "execution_count": 124,
      "metadata": {
        "colab": {
          "base_uri": "https://localhost:8080/"
        },
        "id": "HWlW4_vZdXtm",
        "outputId": "194c9b14-4a75-4c75-c337-6d0be76101ff"
      },
      "outputs": [
        {
          "data": {
            "text/plain": [
              "FL_DATE             0\n",
              "AIRLINE             0\n",
              "AIRLINE_DOT         0\n",
              "AIRLINE_CODE        0\n",
              "DOT_CODE            0\n",
              "ORIGIN              0\n",
              "ORIGIN_CITY         0\n",
              "DEST                0\n",
              "DEST_CITY           0\n",
              "CRS_DEP_TIME        0\n",
              "DEP_DELAY           0\n",
              "TAXI_OUT            0\n",
              "WHEELS_OFF          0\n",
              "WHEELS_ON           0\n",
              "TAXI_IN             0\n",
              "CRS_ARR_TIME        0\n",
              "ARR_DELAY           0\n",
              "CRS_ELAPSED_TIME    0\n",
              "ELAPSED_TIME        0\n",
              "AIR_TIME            0\n",
              "DISTANCE            0\n",
              "dtype: int64"
            ]
          },
          "execution_count": 124,
          "metadata": {},
          "output_type": "execute_result"
        }
      ],
      "source": [
        "df1.isna().sum()"
      ]
    },
    {
      "cell_type": "markdown",
      "metadata": {
        "id": "2NnbpSaAdm-x"
      },
      "source": [
        "Time Related Columns"
      ]
    },
    {
      "cell_type": "code",
      "execution_count": 125,
      "metadata": {
        "id": "XwRbJok_di16"
      },
      "outputs": [],
      "source": [
        "df1['CRS_DEP_TIME'] = np.ceil(df1['CRS_DEP_TIME']/600).apply(int)\n",
        "df1['WHEELS_OFF'] = np.ceil(df1['WHEELS_OFF']/600).apply(int)\n",
        "df1['WHEELS_ON'] = np.ceil(df1['WHEELS_ON']/600).apply(int)\n",
        "df1['CRS_ARR_TIME'] = np.ceil(df1['CRS_ARR_TIME']/600).apply(int)"
      ]
    },
    {
      "cell_type": "markdown",
      "metadata": {
        "id": "Rb9teabRd3LI"
      },
      "source": [
        "Data Engineering\n",
        "Date Format"
      ]
    },
    {
      "cell_type": "code",
      "execution_count": 126,
      "metadata": {
        "id": "_YlZfelkd61R"
      },
      "outputs": [],
      "source": [
        "df1['DAY'] = pd.DatetimeIndex(df1['FL_DATE']).day\n",
        "df1['MONTH'] = pd.DatetimeIndex(df1['FL_DATE']).month\n",
        "df1['YEAR'] = pd.DatetimeIndex(df1['FL_DATE']).year"
      ]
    },
    {
      "cell_type": "code",
      "execution_count": 127,
      "metadata": {
        "colab": {
          "base_uri": "https://localhost:8080/"
        },
        "id": "eGp_2iPceQlt",
        "outputId": "24fc630f-3078-47be-abeb-59940fa84e8b"
      },
      "outputs": [
        {
          "name": "stdout",
          "output_type": "stream",
          "text": [
            "Days present in dataframe: [19 22  6 23 11 12 31  5  1 25 15  8 28 17  4 20  3 26 16  7 14  2 30 29\n",
            " 27 10  9 13 24 18 21]\n",
            "Months present in dataframe: [11  7  3  2  6  8  5 12  9  4 10  1]\n",
            "Years present in dataframe: [2022 2023 2020 2021]\n"
          ]
        }
      ],
      "source": [
        "print('Days present in dataframe:', df1.DAY.unique())\n",
        "print('Months present in dataframe:', df1.MONTH.unique())\n",
        "print('Years present in dataframe:', df1.YEAR.unique())"
      ]
    },
    {
      "cell_type": "markdown",
      "metadata": {
        "id": "zBxbnd4jevTh"
      },
      "source": [
        "Binary Classification"
      ]
    },
    {
      "cell_type": "code",
      "execution_count": 128,
      "metadata": {
        "id": "0yhWCGc8euo4"
      },
      "outputs": [],
      "source": [
        "status = []\n",
        "\n",
        "for value in df1['ARR_DELAY']:\n",
        "    if value < 0:\n",
        "        status.append(0)\n",
        "    else:\n",
        "        status.append(1)\n",
        "df1['FLIGHT_STATUS'] = status"
      ]
    },
    {
      "cell_type": "code",
      "execution_count": 129,
      "metadata": {
        "colab": {
          "base_uri": "https://localhost:8080/"
        },
        "id": "JNcsbSrTe0iv",
        "outputId": "06c35860-a30c-4761-b16c-cc38eca01dd8"
      },
      "outputs": [
        {
          "data": {
            "text/plain": [
              "FLIGHT_STATUS\n",
              "0    0.6457\n",
              "1    0.3543\n",
              "Name: proportion, dtype: float64"
            ]
          },
          "execution_count": 129,
          "metadata": {},
          "output_type": "execute_result"
        }
      ],
      "source": [
        "df1.FLIGHT_STATUS.value_counts(normalize=True)"
      ]
    },
    {
      "cell_type": "markdown",
      "metadata": {
        "id": "B9hf3AfmfVFd"
      },
      "source": [
        "Saving DataFrame"
      ]
    },
    {
      "cell_type": "code",
      "execution_count": 130,
      "metadata": {
        "id": "XLL8jQYjfSu_"
      },
      "outputs": [],
      "source": [
        "df1.to_csv('df1.csv')"
      ]
    },
    {
      "cell_type": "code",
      "execution_count": 131,
      "metadata": {
        "colab": {
          "base_uri": "https://localhost:8080/"
        },
        "id": "arUzgz31T1fk",
        "outputId": "4948d3f3-c3a0-44be-ee41-d8b518d1d164"
      },
      "outputs": [
        {
          "data": {
            "text/plain": [
              "FL_DATE             0\n",
              "AIRLINE             0\n",
              "AIRLINE_DOT         0\n",
              "AIRLINE_CODE        0\n",
              "DOT_CODE            0\n",
              "ORIGIN              0\n",
              "ORIGIN_CITY         0\n",
              "DEST                0\n",
              "DEST_CITY           0\n",
              "CRS_DEP_TIME        0\n",
              "DEP_DELAY           0\n",
              "TAXI_OUT            0\n",
              "WHEELS_OFF          0\n",
              "WHEELS_ON           0\n",
              "TAXI_IN             0\n",
              "CRS_ARR_TIME        0\n",
              "ARR_DELAY           0\n",
              "CRS_ELAPSED_TIME    0\n",
              "ELAPSED_TIME        0\n",
              "AIR_TIME            0\n",
              "DISTANCE            0\n",
              "DAY                 0\n",
              "MONTH               0\n",
              "YEAR                0\n",
              "FLIGHT_STATUS       0\n",
              "dtype: int64"
            ]
          },
          "execution_count": 131,
          "metadata": {},
          "output_type": "execute_result"
        }
      ],
      "source": [
        "df1.isna().sum()"
      ]
    },
    {
      "cell_type": "markdown",
      "metadata": {
        "id": "CDgfJoGVf01X"
      },
      "source": [
        "Data Loading"
      ]
    },
    {
      "cell_type": "code",
      "execution_count": 132,
      "metadata": {
        "id": "nox2H5M0f0fb"
      },
      "outputs": [],
      "source": [
        "sns.set_style('darkgrid')\n",
        "\n",
        "pd.set_option('display.max_columns', None)\n",
        "import datetime, warnings\n",
        "warnings.filterwarnings(\"ignore\")"
      ]
    },
    {
      "cell_type": "code",
      "execution_count": 133,
      "metadata": {
        "id": "gkdN48ovf7Kq"
      },
      "outputs": [],
      "source": [
        "df = pd.read_csv('df1.csv', index_col=0)"
      ]
    },
    {
      "cell_type": "code",
      "execution_count": 134,
      "metadata": {
        "id": "TysllKspgIFG"
      },
      "outputs": [],
      "source": [
        "df['FL_DATE'] = pd.to_datetime(df['FL_DATE'])\n",
        "df['WEEKDAY'] = df['FL_DATE'].dt.dayofweek"
      ]
    },
    {
      "cell_type": "code",
      "execution_count": 135,
      "metadata": {
        "colab": {
          "base_uri": "https://localhost:8080/"
        },
        "id": "As6wcPn9gKQO",
        "outputId": "a9b29c12-4626-45cd-d9ff-2d19ce0be160"
      },
      "outputs": [
        {
          "data": {
            "text/plain": [
              "WEEKDAY\n",
              "3    266688\n",
              "0    266493\n",
              "4    265677\n",
              "6    261381\n",
              "2    253507\n",
              "1    251374\n",
              "5    234685\n",
              "Name: count, dtype: int64"
            ]
          },
          "execution_count": 135,
          "metadata": {},
          "output_type": "execute_result"
        }
      ],
      "source": [
        "df.WEEKDAY.value_counts()"
      ]
    },
    {
      "cell_type": "code",
      "execution_count": 136,
      "metadata": {
        "colab": {
          "base_uri": "https://localhost:8080/"
        },
        "id": "rmgaerjrMlCj",
        "outputId": "b44de2e5-0995-4bc8-cbe2-55a142d0ea65"
      },
      "outputs": [
        {
          "data": {
            "text/plain": [
              "YEAR\n",
              "2022    559928\n",
              "2021    480294\n",
              "2023    399884\n",
              "2020    359699\n",
              "Name: count, dtype: int64"
            ]
          },
          "execution_count": 136,
          "metadata": {},
          "output_type": "execute_result"
        }
      ],
      "source": [
        "df.YEAR.value_counts()"
      ]
    },
    {
      "cell_type": "markdown",
      "metadata": {
        "id": "AhdIc84Td2yo"
      },
      "source": [
        "Destination City"
      ]
    },
    {
      "cell_type": "code",
      "execution_count": 137,
      "metadata": {
        "colab": {
          "base_uri": "https://localhost:8080/"
        },
        "id": "--D24kNagWLv",
        "outputId": "4b9801f4-2d77-4410-e507-b4a63daeb85c"
      },
      "outputs": [
        {
          "data": {
            "text/plain": [
              "DEST_CITY\n",
              "Chicago, IL              95579\n",
              "Atlanta, GA              95546\n",
              "Denver, CO               90635\n",
              "Dallas/Fort Worth, TX    66916\n",
              "New York, NY             64824\n",
              "Los Angeles, CA          60090\n",
              "Phoenix, AZ              52036\n",
              "Las Vegas, NV            51218\n",
              "Houston, TX              49763\n",
              "Seattle, WA              48682\n",
              "Orlando, FL              47496\n",
              "Charlotte, NC            43076\n",
              "Washington, DC           41695\n",
              "San Francisco, CA        39773\n",
              "Salt Lake City, UT       39344\n",
              "Boston, MA               38047\n",
              "Minneapolis, MN          36294\n",
              "Newark, NJ               36046\n",
              "Detroit, MI              35184\n",
              "Baltimore, MD            28411\n",
              "Fort Lauderdale, FL      28014\n",
              "Miami, FL                27802\n",
              "San Diego, CA            25506\n",
              "Nashville, TN            25308\n",
              "Philadelphia, PA         24289\n",
              "Name: count, dtype: int64"
            ]
          },
          "execution_count": 137,
          "metadata": {},
          "output_type": "execute_result"
        }
      ],
      "source": [
        "df.DEST_CITY.value_counts().iloc[:25]"
      ]
    },
    {
      "cell_type": "code",
      "execution_count": 138,
      "metadata": {
        "colab": {
          "base_uri": "https://localhost:8080/",
          "height": 206
        },
        "id": "u6noUPlzhAvE",
        "outputId": "e8d96dbf-c3b6-4bad-a417-bc467169c7d5"
      },
      "outputs": [
        {
          "data": {
            "text/html": [
              "<div>\n",
              "<style scoped>\n",
              "    .dataframe tbody tr th:only-of-type {\n",
              "        vertical-align: middle;\n",
              "    }\n",
              "\n",
              "    .dataframe tbody tr th {\n",
              "        vertical-align: top;\n",
              "    }\n",
              "\n",
              "    .dataframe thead th {\n",
              "        text-align: right;\n",
              "    }\n",
              "</style>\n",
              "<table border=\"1\" class=\"dataframe\">\n",
              "  <thead>\n",
              "    <tr style=\"text-align: right;\">\n",
              "      <th></th>\n",
              "      <th>DEST_CITY</th>\n",
              "      <th>TOTAL_FLIGHTS</th>\n",
              "    </tr>\n",
              "  </thead>\n",
              "  <tbody>\n",
              "    <tr>\n",
              "      <th>0</th>\n",
              "      <td>Chicago, IL</td>\n",
              "      <td>95579</td>\n",
              "    </tr>\n",
              "    <tr>\n",
              "      <th>1</th>\n",
              "      <td>Atlanta, GA</td>\n",
              "      <td>95546</td>\n",
              "    </tr>\n",
              "    <tr>\n",
              "      <th>2</th>\n",
              "      <td>Denver, CO</td>\n",
              "      <td>90635</td>\n",
              "    </tr>\n",
              "    <tr>\n",
              "      <th>3</th>\n",
              "      <td>Dallas/Fort Worth, TX</td>\n",
              "      <td>66916</td>\n",
              "    </tr>\n",
              "    <tr>\n",
              "      <th>4</th>\n",
              "      <td>New York, NY</td>\n",
              "      <td>64824</td>\n",
              "    </tr>\n",
              "  </tbody>\n",
              "</table>\n",
              "</div>"
            ],
            "text/plain": [
              "               DEST_CITY  TOTAL_FLIGHTS\n",
              "0            Chicago, IL          95579\n",
              "1            Atlanta, GA          95546\n",
              "2             Denver, CO          90635\n",
              "3  Dallas/Fort Worth, TX          66916\n",
              "4           New York, NY          64824"
            ]
          },
          "execution_count": 138,
          "metadata": {},
          "output_type": "execute_result"
        }
      ],
      "source": [
        "top_cities = df.DEST_CITY.value_counts().iloc[0:25].rename_axis('DEST_CITY').reset_index(name='TOTAL_FLIGHTS')\n",
        "top_cities.head()"
      ]
    },
    {
      "cell_type": "code",
      "execution_count": 139,
      "metadata": {
        "colab": {
          "base_uri": "https://localhost:8080/"
        },
        "id": "FdejfOMDhEod",
        "outputId": "e1d03401-cb59-4dfb-a684-1a1db3cbf1a4"
      },
      "outputs": [
        {
          "data": {
            "text/plain": [
              "array(['Chicago, IL', 'Atlanta, GA', 'Denver, CO',\n",
              "       'Dallas/Fort Worth, TX', 'New York, NY', 'Los Angeles, CA',\n",
              "       'Phoenix, AZ', 'Las Vegas, NV', 'Houston, TX', 'Seattle, WA',\n",
              "       'Orlando, FL', 'Charlotte, NC', 'Washington, DC',\n",
              "       'San Francisco, CA', 'Salt Lake City, UT', 'Boston, MA',\n",
              "       'Minneapolis, MN', 'Newark, NJ', 'Detroit, MI', 'Baltimore, MD',\n",
              "       'Fort Lauderdale, FL', 'Miami, FL', 'San Diego, CA',\n",
              "       'Nashville, TN', 'Philadelphia, PA'], dtype=object)"
            ]
          },
          "execution_count": 139,
          "metadata": {},
          "output_type": "execute_result"
        }
      ],
      "source": [
        "# Checking the cities within the numpy array just to verify that it worked\n",
        "top_cities.DEST_CITY.unique()"
      ]
    },
    {
      "cell_type": "code",
      "execution_count": 140,
      "metadata": {
        "id": "N8nw39xmhK9g"
      },
      "outputs": [],
      "source": [
        "# Creating a list with top 25 cities only:\n",
        "city_list = top_cities['DEST_CITY'].tolist()"
      ]
    },
    {
      "cell_type": "code",
      "execution_count": 141,
      "metadata": {
        "colab": {
          "base_uri": "https://localhost:8080/"
        },
        "id": "ZTO7lElMhOQ4",
        "outputId": "45470f20-8eef-4b16-b2e6-471e41f81b63"
      },
      "outputs": [
        {
          "data": {
            "text/plain": [
              "['Chicago, IL',\n",
              " 'Atlanta, GA',\n",
              " 'Denver, CO',\n",
              " 'Dallas/Fort Worth, TX',\n",
              " 'New York, NY',\n",
              " 'Los Angeles, CA',\n",
              " 'Phoenix, AZ',\n",
              " 'Las Vegas, NV',\n",
              " 'Houston, TX',\n",
              " 'Seattle, WA',\n",
              " 'Orlando, FL',\n",
              " 'Charlotte, NC',\n",
              " 'Washington, DC',\n",
              " 'San Francisco, CA',\n",
              " 'Salt Lake City, UT',\n",
              " 'Boston, MA',\n",
              " 'Minneapolis, MN',\n",
              " 'Newark, NJ',\n",
              " 'Detroit, MI',\n",
              " 'Baltimore, MD',\n",
              " 'Fort Lauderdale, FL',\n",
              " 'Miami, FL',\n",
              " 'San Diego, CA',\n",
              " 'Nashville, TN',\n",
              " 'Philadelphia, PA']"
            ]
          },
          "execution_count": 141,
          "metadata": {},
          "output_type": "execute_result"
        }
      ],
      "source": [
        "# Checking the list's content\n",
        "city_list"
      ]
    },
    {
      "cell_type": "code",
      "execution_count": 142,
      "metadata": {
        "colab": {
          "base_uri": "https://localhost:8080/",
          "height": 365
        },
        "id": "zfaHH7RRhRSJ",
        "outputId": "cc59f7a5-acec-4e6e-8f47-309dd60abe58"
      },
      "outputs": [
        {
          "data": {
            "text/html": [
              "<div>\n",
              "<style scoped>\n",
              "    .dataframe tbody tr th:only-of-type {\n",
              "        vertical-align: middle;\n",
              "    }\n",
              "\n",
              "    .dataframe tbody tr th {\n",
              "        vertical-align: top;\n",
              "    }\n",
              "\n",
              "    .dataframe thead th {\n",
              "        text-align: right;\n",
              "    }\n",
              "</style>\n",
              "<table border=\"1\" class=\"dataframe\">\n",
              "  <thead>\n",
              "    <tr style=\"text-align: right;\">\n",
              "      <th></th>\n",
              "      <th>FL_DATE</th>\n",
              "      <th>AIRLINE</th>\n",
              "      <th>AIRLINE_DOT</th>\n",
              "      <th>AIRLINE_CODE</th>\n",
              "      <th>DOT_CODE</th>\n",
              "      <th>ORIGIN</th>\n",
              "      <th>ORIGIN_CITY</th>\n",
              "      <th>DEST</th>\n",
              "      <th>DEST_CITY</th>\n",
              "      <th>CRS_DEP_TIME</th>\n",
              "      <th>DEP_DELAY</th>\n",
              "      <th>TAXI_OUT</th>\n",
              "      <th>WHEELS_OFF</th>\n",
              "      <th>WHEELS_ON</th>\n",
              "      <th>TAXI_IN</th>\n",
              "      <th>CRS_ARR_TIME</th>\n",
              "      <th>ARR_DELAY</th>\n",
              "      <th>CRS_ELAPSED_TIME</th>\n",
              "      <th>ELAPSED_TIME</th>\n",
              "      <th>AIR_TIME</th>\n",
              "      <th>DISTANCE</th>\n",
              "      <th>DAY</th>\n",
              "      <th>MONTH</th>\n",
              "      <th>YEAR</th>\n",
              "      <th>FLIGHT_STATUS</th>\n",
              "      <th>WEEKDAY</th>\n",
              "    </tr>\n",
              "  </thead>\n",
              "  <tbody>\n",
              "    <tr>\n",
              "      <th>0</th>\n",
              "      <td>2022-11-19</td>\n",
              "      <td>Delta Air Lines Inc.</td>\n",
              "      <td>Delta Air Lines Inc.: DL</td>\n",
              "      <td>DL</td>\n",
              "      <td>19790</td>\n",
              "      <td>MSP</td>\n",
              "      <td>Minneapolis, MN</td>\n",
              "      <td>SEA</td>\n",
              "      <td>Seattle, WA</td>\n",
              "      <td>4</td>\n",
              "      <td>-6.0</td>\n",
              "      <td>9.0</td>\n",
              "      <td>4</td>\n",
              "      <td>4</td>\n",
              "      <td>38.0</td>\n",
              "      <td>4</td>\n",
              "      <td>-5.0</td>\n",
              "      <td>235.0</td>\n",
              "      <td>236.0</td>\n",
              "      <td>189.0</td>\n",
              "      <td>1399.0</td>\n",
              "      <td>19</td>\n",
              "      <td>11</td>\n",
              "      <td>2022</td>\n",
              "      <td>0</td>\n",
              "      <td>5</td>\n",
              "    </tr>\n",
              "    <tr>\n",
              "      <th>1</th>\n",
              "      <td>2022-07-22</td>\n",
              "      <td>United Air Lines Inc.</td>\n",
              "      <td>United Air Lines Inc.: UA</td>\n",
              "      <td>UA</td>\n",
              "      <td>19977</td>\n",
              "      <td>DEN</td>\n",
              "      <td>Denver, CO</td>\n",
              "      <td>MSP</td>\n",
              "      <td>Minneapolis, MN</td>\n",
              "      <td>2</td>\n",
              "      <td>6.0</td>\n",
              "      <td>20.0</td>\n",
              "      <td>2</td>\n",
              "      <td>3</td>\n",
              "      <td>5.0</td>\n",
              "      <td>3</td>\n",
              "      <td>0.0</td>\n",
              "      <td>118.0</td>\n",
              "      <td>112.0</td>\n",
              "      <td>87.0</td>\n",
              "      <td>680.0</td>\n",
              "      <td>22</td>\n",
              "      <td>7</td>\n",
              "      <td>2022</td>\n",
              "      <td>1</td>\n",
              "      <td>4</td>\n",
              "    </tr>\n",
              "    <tr>\n",
              "      <th>2</th>\n",
              "      <td>2023-03-06</td>\n",
              "      <td>Delta Air Lines Inc.</td>\n",
              "      <td>Delta Air Lines Inc.: DL</td>\n",
              "      <td>DL</td>\n",
              "      <td>19790</td>\n",
              "      <td>MSP</td>\n",
              "      <td>Minneapolis, MN</td>\n",
              "      <td>SFO</td>\n",
              "      <td>San Francisco, CA</td>\n",
              "      <td>3</td>\n",
              "      <td>-1.0</td>\n",
              "      <td>27.0</td>\n",
              "      <td>3</td>\n",
              "      <td>4</td>\n",
              "      <td>9.0</td>\n",
              "      <td>4</td>\n",
              "      <td>24.0</td>\n",
              "      <td>260.0</td>\n",
              "      <td>285.0</td>\n",
              "      <td>249.0</td>\n",
              "      <td>1589.0</td>\n",
              "      <td>6</td>\n",
              "      <td>3</td>\n",
              "      <td>2023</td>\n",
              "      <td>1</td>\n",
              "      <td>0</td>\n",
              "    </tr>\n",
              "    <tr>\n",
              "      <th>3</th>\n",
              "      <td>2020-02-23</td>\n",
              "      <td>Spirit Air Lines</td>\n",
              "      <td>Spirit Air Lines: NK</td>\n",
              "      <td>NK</td>\n",
              "      <td>20416</td>\n",
              "      <td>MCO</td>\n",
              "      <td>Orlando, FL</td>\n",
              "      <td>DFW</td>\n",
              "      <td>Dallas/Fort Worth, TX</td>\n",
              "      <td>4</td>\n",
              "      <td>-2.0</td>\n",
              "      <td>15.0</td>\n",
              "      <td>4</td>\n",
              "      <td>4</td>\n",
              "      <td>14.0</td>\n",
              "      <td>4</td>\n",
              "      <td>-1.0</td>\n",
              "      <td>181.0</td>\n",
              "      <td>182.0</td>\n",
              "      <td>153.0</td>\n",
              "      <td>985.0</td>\n",
              "      <td>23</td>\n",
              "      <td>2</td>\n",
              "      <td>2020</td>\n",
              "      <td>0</td>\n",
              "      <td>6</td>\n",
              "    </tr>\n",
              "    <tr>\n",
              "      <th>4</th>\n",
              "      <td>2023-06-11</td>\n",
              "      <td>American Airlines Inc.</td>\n",
              "      <td>American Airlines Inc.: AA</td>\n",
              "      <td>AA</td>\n",
              "      <td>19805</td>\n",
              "      <td>DCA</td>\n",
              "      <td>Washington, DC</td>\n",
              "      <td>BOS</td>\n",
              "      <td>Boston, MA</td>\n",
              "      <td>2</td>\n",
              "      <td>-9.0</td>\n",
              "      <td>23.0</td>\n",
              "      <td>2</td>\n",
              "      <td>2</td>\n",
              "      <td>8.0</td>\n",
              "      <td>2</td>\n",
              "      <td>-29.0</td>\n",
              "      <td>109.0</td>\n",
              "      <td>89.0</td>\n",
              "      <td>58.0</td>\n",
              "      <td>399.0</td>\n",
              "      <td>11</td>\n",
              "      <td>6</td>\n",
              "      <td>2023</td>\n",
              "      <td>0</td>\n",
              "      <td>6</td>\n",
              "    </tr>\n",
              "  </tbody>\n",
              "</table>\n",
              "</div>"
            ],
            "text/plain": [
              "     FL_DATE                 AIRLINE                 AIRLINE_DOT AIRLINE_CODE  \\\n",
              "0 2022-11-19    Delta Air Lines Inc.    Delta Air Lines Inc.: DL           DL   \n",
              "1 2022-07-22   United Air Lines Inc.   United Air Lines Inc.: UA           UA   \n",
              "2 2023-03-06    Delta Air Lines Inc.    Delta Air Lines Inc.: DL           DL   \n",
              "3 2020-02-23        Spirit Air Lines        Spirit Air Lines: NK           NK   \n",
              "4 2023-06-11  American Airlines Inc.  American Airlines Inc.: AA           AA   \n",
              "\n",
              "   DOT_CODE ORIGIN      ORIGIN_CITY DEST              DEST_CITY  CRS_DEP_TIME  \\\n",
              "0     19790    MSP  Minneapolis, MN  SEA            Seattle, WA             4   \n",
              "1     19977    DEN       Denver, CO  MSP        Minneapolis, MN             2   \n",
              "2     19790    MSP  Minneapolis, MN  SFO      San Francisco, CA             3   \n",
              "3     20416    MCO      Orlando, FL  DFW  Dallas/Fort Worth, TX             4   \n",
              "4     19805    DCA   Washington, DC  BOS             Boston, MA             2   \n",
              "\n",
              "   DEP_DELAY  TAXI_OUT  WHEELS_OFF  WHEELS_ON  TAXI_IN  CRS_ARR_TIME  \\\n",
              "0       -6.0       9.0           4          4     38.0             4   \n",
              "1        6.0      20.0           2          3      5.0             3   \n",
              "2       -1.0      27.0           3          4      9.0             4   \n",
              "3       -2.0      15.0           4          4     14.0             4   \n",
              "4       -9.0      23.0           2          2      8.0             2   \n",
              "\n",
              "   ARR_DELAY  CRS_ELAPSED_TIME  ELAPSED_TIME  AIR_TIME  DISTANCE  DAY  MONTH  \\\n",
              "0       -5.0             235.0         236.0     189.0    1399.0   19     11   \n",
              "1        0.0             118.0         112.0      87.0     680.0   22      7   \n",
              "2       24.0             260.0         285.0     249.0    1589.0    6      3   \n",
              "3       -1.0             181.0         182.0     153.0     985.0   23      2   \n",
              "4      -29.0             109.0          89.0      58.0     399.0   11      6   \n",
              "\n",
              "   YEAR  FLIGHT_STATUS  WEEKDAY  \n",
              "0  2022              0        5  \n",
              "1  2022              1        4  \n",
              "2  2023              1        0  \n",
              "3  2020              0        6  \n",
              "4  2023              0        6  "
            ]
          },
          "execution_count": 142,
          "metadata": {},
          "output_type": "execute_result"
        }
      ],
      "source": [
        "boolean_series = df.DEST_CITY.isin(city_list)\n",
        "dfm = df[boolean_series]\n",
        "dfm.head()"
      ]
    },
    {
      "cell_type": "code",
      "execution_count": 143,
      "metadata": {
        "colab": {
          "base_uri": "https://localhost:8080/"
        },
        "id": "aZrzVGvRhZCJ",
        "outputId": "92f3da5e-81c4-4e16-9ae7-4ef9aab477cd"
      },
      "outputs": [
        {
          "data": {
            "text/plain": [
              "array(['Seattle, WA', 'Minneapolis, MN', 'San Francisco, CA',\n",
              "       'Dallas/Fort Worth, TX', 'Boston, MA', 'Los Angeles, CA',\n",
              "       'Nashville, TN', 'Atlanta, GA', 'Newark, NJ', 'Houston, TX',\n",
              "       'Denver, CO', 'New York, NY', 'Salt Lake City, UT', 'Orlando, FL',\n",
              "       'Chicago, IL', 'San Diego, CA', 'Las Vegas, NV', 'Detroit, MI',\n",
              "       'Charlotte, NC', 'Miami, FL', 'Philadelphia, PA', 'Washington, DC',\n",
              "       'Phoenix, AZ', 'Fort Lauderdale, FL', 'Baltimore, MD'],\n",
              "      dtype=object)"
            ]
          },
          "execution_count": 143,
          "metadata": {},
          "output_type": "execute_result"
        }
      ],
      "source": [
        "dfm.DEST_CITY.unique()"
      ]
    },
    {
      "cell_type": "code",
      "execution_count": 144,
      "metadata": {
        "colab": {
          "base_uri": "https://localhost:8080/"
        },
        "id": "cCYZDwK5hcJo",
        "outputId": "69b7fdaa-272a-4c73-bd0c-cf4a09bb11a3"
      },
      "outputs": [
        {
          "data": {
            "text/plain": [
              "DEST_CITY\n",
              "Chicago, IL              95579\n",
              "Atlanta, GA              95546\n",
              "Denver, CO               90635\n",
              "Dallas/Fort Worth, TX    66916\n",
              "New York, NY             64824\n",
              "Los Angeles, CA          60090\n",
              "Phoenix, AZ              52036\n",
              "Las Vegas, NV            51218\n",
              "Houston, TX              49763\n",
              "Seattle, WA              48682\n",
              "Orlando, FL              47496\n",
              "Charlotte, NC            43076\n",
              "Washington, DC           41695\n",
              "San Francisco, CA        39773\n",
              "Salt Lake City, UT       39344\n",
              "Boston, MA               38047\n",
              "Minneapolis, MN          36294\n",
              "Newark, NJ               36046\n",
              "Detroit, MI              35184\n",
              "Baltimore, MD            28411\n",
              "Fort Lauderdale, FL      28014\n",
              "Miami, FL                27802\n",
              "San Diego, CA            25506\n",
              "Nashville, TN            25308\n",
              "Philadelphia, PA         24289\n",
              "Name: count, dtype: int64"
            ]
          },
          "execution_count": 144,
          "metadata": {},
          "output_type": "execute_result"
        }
      ],
      "source": [
        "dfm.DEST_CITY.value_counts()"
      ]
    },
    {
      "cell_type": "code",
      "execution_count": 145,
      "metadata": {
        "colab": {
          "base_uri": "https://localhost:8080/"
        },
        "id": "YL980mHqhfoX",
        "outputId": "b34c3131-90d8-433d-baf8-aeac1f11496c"
      },
      "outputs": [
        {
          "data": {
            "text/plain": [
              "(1191574, 26)"
            ]
          },
          "execution_count": 145,
          "metadata": {},
          "output_type": "execute_result"
        }
      ],
      "source": [
        "dfm.shape"
      ]
    },
    {
      "cell_type": "code",
      "execution_count": 146,
      "metadata": {
        "colab": {
          "base_uri": "https://localhost:8080/"
        },
        "id": "jQIb412ShjXl",
        "outputId": "2f74d624-1b84-437b-d2a7-5e13b38f7aba"
      },
      "outputs": [
        {
          "data": {
            "text/plain": [
              "(1799805, 26)"
            ]
          },
          "execution_count": 146,
          "metadata": {},
          "output_type": "execute_result"
        }
      ],
      "source": [
        "df.shape"
      ]
    },
    {
      "cell_type": "code",
      "execution_count": 147,
      "metadata": {
        "colab": {
          "base_uri": "https://localhost:8080/"
        },
        "id": "xgI9BXGIhpur",
        "outputId": "20cc241b-8fb3-4eb3-fab1-20e4e99f58ab"
      },
      "outputs": [
        {
          "name": "stdout",
          "output_type": "stream",
          "text": [
            "<class 'pandas.core.frame.DataFrame'>\n",
            "Index: 1191574 entries, 0 to 1857355\n",
            "Data columns (total 26 columns):\n",
            " #   Column            Non-Null Count    Dtype         \n",
            "---  ------            --------------    -----         \n",
            " 0   FL_DATE           1191574 non-null  datetime64[ns]\n",
            " 1   AIRLINE           1191574 non-null  object        \n",
            " 2   AIRLINE_DOT       1191574 non-null  object        \n",
            " 3   AIRLINE_CODE      1191574 non-null  object        \n",
            " 4   DOT_CODE          1191574 non-null  int64         \n",
            " 5   ORIGIN            1191574 non-null  object        \n",
            " 6   ORIGIN_CITY       1191574 non-null  object        \n",
            " 7   DEST              1191574 non-null  object        \n",
            " 8   DEST_CITY         1191574 non-null  object        \n",
            " 9   CRS_DEP_TIME      1191574 non-null  int64         \n",
            " 10  DEP_DELAY         1191574 non-null  float64       \n",
            " 11  TAXI_OUT          1191574 non-null  float64       \n",
            " 12  WHEELS_OFF        1191574 non-null  int64         \n",
            " 13  WHEELS_ON         1191574 non-null  int64         \n",
            " 14  TAXI_IN           1191574 non-null  float64       \n",
            " 15  CRS_ARR_TIME      1191574 non-null  int64         \n",
            " 16  ARR_DELAY         1191574 non-null  float64       \n",
            " 17  CRS_ELAPSED_TIME  1191574 non-null  float64       \n",
            " 18  ELAPSED_TIME      1191574 non-null  float64       \n",
            " 19  AIR_TIME          1191574 non-null  float64       \n",
            " 20  DISTANCE          1191574 non-null  float64       \n",
            " 21  DAY               1191574 non-null  int64         \n",
            " 22  MONTH             1191574 non-null  int64         \n",
            " 23  YEAR              1191574 non-null  int64         \n",
            " 24  FLIGHT_STATUS     1191574 non-null  int64         \n",
            " 25  WEEKDAY           1191574 non-null  int32         \n",
            "dtypes: datetime64[ns](1), float64(8), int32(1), int64(9), object(7)\n",
            "memory usage: 240.9+ MB\n"
          ]
        }
      ],
      "source": [
        "dfm.info()"
      ]
    },
    {
      "cell_type": "code",
      "execution_count": 148,
      "metadata": {
        "id": "Ic8vOLrwh9TC"
      },
      "outputs": [],
      "source": [
        "dfm = dfm.drop(columns=['FL_DATE'])"
      ]
    },
    {
      "cell_type": "code",
      "execution_count": 149,
      "metadata": {
        "colab": {
          "base_uri": "https://localhost:8080/",
          "height": 365
        },
        "id": "Xmgwy-aAiGb_",
        "outputId": "f51b7cb1-c721-479e-e56e-6aa13b316271"
      },
      "outputs": [
        {
          "data": {
            "text/html": [
              "<div>\n",
              "<style scoped>\n",
              "    .dataframe tbody tr th:only-of-type {\n",
              "        vertical-align: middle;\n",
              "    }\n",
              "\n",
              "    .dataframe tbody tr th {\n",
              "        vertical-align: top;\n",
              "    }\n",
              "\n",
              "    .dataframe thead th {\n",
              "        text-align: right;\n",
              "    }\n",
              "</style>\n",
              "<table border=\"1\" class=\"dataframe\">\n",
              "  <thead>\n",
              "    <tr style=\"text-align: right;\">\n",
              "      <th></th>\n",
              "      <th>AIRLINE</th>\n",
              "      <th>AIRLINE_DOT</th>\n",
              "      <th>AIRLINE_CODE</th>\n",
              "      <th>DOT_CODE</th>\n",
              "      <th>ORIGIN</th>\n",
              "      <th>ORIGIN_CITY</th>\n",
              "      <th>DEST</th>\n",
              "      <th>DEST_CITY</th>\n",
              "      <th>CRS_DEP_TIME</th>\n",
              "      <th>DEP_DELAY</th>\n",
              "      <th>TAXI_OUT</th>\n",
              "      <th>WHEELS_OFF</th>\n",
              "      <th>WHEELS_ON</th>\n",
              "      <th>TAXI_IN</th>\n",
              "      <th>CRS_ARR_TIME</th>\n",
              "      <th>ARR_DELAY</th>\n",
              "      <th>CRS_ELAPSED_TIME</th>\n",
              "      <th>ELAPSED_TIME</th>\n",
              "      <th>AIR_TIME</th>\n",
              "      <th>DISTANCE</th>\n",
              "      <th>DAY</th>\n",
              "      <th>MONTH</th>\n",
              "      <th>YEAR</th>\n",
              "      <th>FLIGHT_STATUS</th>\n",
              "      <th>WEEKDAY</th>\n",
              "    </tr>\n",
              "  </thead>\n",
              "  <tbody>\n",
              "    <tr>\n",
              "      <th>0</th>\n",
              "      <td>Delta Air Lines Inc.</td>\n",
              "      <td>Delta Air Lines Inc.: DL</td>\n",
              "      <td>DL</td>\n",
              "      <td>19790</td>\n",
              "      <td>MSP</td>\n",
              "      <td>Minneapolis, MN</td>\n",
              "      <td>SEA</td>\n",
              "      <td>Seattle, WA</td>\n",
              "      <td>4</td>\n",
              "      <td>-6.0</td>\n",
              "      <td>9.0</td>\n",
              "      <td>4</td>\n",
              "      <td>4</td>\n",
              "      <td>38.0</td>\n",
              "      <td>4</td>\n",
              "      <td>-5.0</td>\n",
              "      <td>235.0</td>\n",
              "      <td>236.0</td>\n",
              "      <td>189.0</td>\n",
              "      <td>1399.0</td>\n",
              "      <td>19</td>\n",
              "      <td>11</td>\n",
              "      <td>2022</td>\n",
              "      <td>0</td>\n",
              "      <td>5</td>\n",
              "    </tr>\n",
              "    <tr>\n",
              "      <th>1</th>\n",
              "      <td>United Air Lines Inc.</td>\n",
              "      <td>United Air Lines Inc.: UA</td>\n",
              "      <td>UA</td>\n",
              "      <td>19977</td>\n",
              "      <td>DEN</td>\n",
              "      <td>Denver, CO</td>\n",
              "      <td>MSP</td>\n",
              "      <td>Minneapolis, MN</td>\n",
              "      <td>2</td>\n",
              "      <td>6.0</td>\n",
              "      <td>20.0</td>\n",
              "      <td>2</td>\n",
              "      <td>3</td>\n",
              "      <td>5.0</td>\n",
              "      <td>3</td>\n",
              "      <td>0.0</td>\n",
              "      <td>118.0</td>\n",
              "      <td>112.0</td>\n",
              "      <td>87.0</td>\n",
              "      <td>680.0</td>\n",
              "      <td>22</td>\n",
              "      <td>7</td>\n",
              "      <td>2022</td>\n",
              "      <td>1</td>\n",
              "      <td>4</td>\n",
              "    </tr>\n",
              "    <tr>\n",
              "      <th>2</th>\n",
              "      <td>Delta Air Lines Inc.</td>\n",
              "      <td>Delta Air Lines Inc.: DL</td>\n",
              "      <td>DL</td>\n",
              "      <td>19790</td>\n",
              "      <td>MSP</td>\n",
              "      <td>Minneapolis, MN</td>\n",
              "      <td>SFO</td>\n",
              "      <td>San Francisco, CA</td>\n",
              "      <td>3</td>\n",
              "      <td>-1.0</td>\n",
              "      <td>27.0</td>\n",
              "      <td>3</td>\n",
              "      <td>4</td>\n",
              "      <td>9.0</td>\n",
              "      <td>4</td>\n",
              "      <td>24.0</td>\n",
              "      <td>260.0</td>\n",
              "      <td>285.0</td>\n",
              "      <td>249.0</td>\n",
              "      <td>1589.0</td>\n",
              "      <td>6</td>\n",
              "      <td>3</td>\n",
              "      <td>2023</td>\n",
              "      <td>1</td>\n",
              "      <td>0</td>\n",
              "    </tr>\n",
              "    <tr>\n",
              "      <th>3</th>\n",
              "      <td>Spirit Air Lines</td>\n",
              "      <td>Spirit Air Lines: NK</td>\n",
              "      <td>NK</td>\n",
              "      <td>20416</td>\n",
              "      <td>MCO</td>\n",
              "      <td>Orlando, FL</td>\n",
              "      <td>DFW</td>\n",
              "      <td>Dallas/Fort Worth, TX</td>\n",
              "      <td>4</td>\n",
              "      <td>-2.0</td>\n",
              "      <td>15.0</td>\n",
              "      <td>4</td>\n",
              "      <td>4</td>\n",
              "      <td>14.0</td>\n",
              "      <td>4</td>\n",
              "      <td>-1.0</td>\n",
              "      <td>181.0</td>\n",
              "      <td>182.0</td>\n",
              "      <td>153.0</td>\n",
              "      <td>985.0</td>\n",
              "      <td>23</td>\n",
              "      <td>2</td>\n",
              "      <td>2020</td>\n",
              "      <td>0</td>\n",
              "      <td>6</td>\n",
              "    </tr>\n",
              "    <tr>\n",
              "      <th>4</th>\n",
              "      <td>American Airlines Inc.</td>\n",
              "      <td>American Airlines Inc.: AA</td>\n",
              "      <td>AA</td>\n",
              "      <td>19805</td>\n",
              "      <td>DCA</td>\n",
              "      <td>Washington, DC</td>\n",
              "      <td>BOS</td>\n",
              "      <td>Boston, MA</td>\n",
              "      <td>2</td>\n",
              "      <td>-9.0</td>\n",
              "      <td>23.0</td>\n",
              "      <td>2</td>\n",
              "      <td>2</td>\n",
              "      <td>8.0</td>\n",
              "      <td>2</td>\n",
              "      <td>-29.0</td>\n",
              "      <td>109.0</td>\n",
              "      <td>89.0</td>\n",
              "      <td>58.0</td>\n",
              "      <td>399.0</td>\n",
              "      <td>11</td>\n",
              "      <td>6</td>\n",
              "      <td>2023</td>\n",
              "      <td>0</td>\n",
              "      <td>6</td>\n",
              "    </tr>\n",
              "  </tbody>\n",
              "</table>\n",
              "</div>"
            ],
            "text/plain": [
              "                  AIRLINE                 AIRLINE_DOT AIRLINE_CODE  DOT_CODE  \\\n",
              "0    Delta Air Lines Inc.    Delta Air Lines Inc.: DL           DL     19790   \n",
              "1   United Air Lines Inc.   United Air Lines Inc.: UA           UA     19977   \n",
              "2    Delta Air Lines Inc.    Delta Air Lines Inc.: DL           DL     19790   \n",
              "3        Spirit Air Lines        Spirit Air Lines: NK           NK     20416   \n",
              "4  American Airlines Inc.  American Airlines Inc.: AA           AA     19805   \n",
              "\n",
              "  ORIGIN      ORIGIN_CITY DEST              DEST_CITY  CRS_DEP_TIME  \\\n",
              "0    MSP  Minneapolis, MN  SEA            Seattle, WA             4   \n",
              "1    DEN       Denver, CO  MSP        Minneapolis, MN             2   \n",
              "2    MSP  Minneapolis, MN  SFO      San Francisco, CA             3   \n",
              "3    MCO      Orlando, FL  DFW  Dallas/Fort Worth, TX             4   \n",
              "4    DCA   Washington, DC  BOS             Boston, MA             2   \n",
              "\n",
              "   DEP_DELAY  TAXI_OUT  WHEELS_OFF  WHEELS_ON  TAXI_IN  CRS_ARR_TIME  \\\n",
              "0       -6.0       9.0           4          4     38.0             4   \n",
              "1        6.0      20.0           2          3      5.0             3   \n",
              "2       -1.0      27.0           3          4      9.0             4   \n",
              "3       -2.0      15.0           4          4     14.0             4   \n",
              "4       -9.0      23.0           2          2      8.0             2   \n",
              "\n",
              "   ARR_DELAY  CRS_ELAPSED_TIME  ELAPSED_TIME  AIR_TIME  DISTANCE  DAY  MONTH  \\\n",
              "0       -5.0             235.0         236.0     189.0    1399.0   19     11   \n",
              "1        0.0             118.0         112.0      87.0     680.0   22      7   \n",
              "2       24.0             260.0         285.0     249.0    1589.0    6      3   \n",
              "3       -1.0             181.0         182.0     153.0     985.0   23      2   \n",
              "4      -29.0             109.0          89.0      58.0     399.0   11      6   \n",
              "\n",
              "   YEAR  FLIGHT_STATUS  WEEKDAY  \n",
              "0  2022              0        5  \n",
              "1  2022              1        4  \n",
              "2  2023              1        0  \n",
              "3  2020              0        6  \n",
              "4  2023              0        6  "
            ]
          },
          "execution_count": 149,
          "metadata": {},
          "output_type": "execute_result"
        }
      ],
      "source": [
        "dfm.head()"
      ]
    },
    {
      "cell_type": "code",
      "execution_count": 150,
      "metadata": {
        "colab": {
          "base_uri": "https://localhost:8080/"
        },
        "id": "RScYrwjuiJ5c",
        "outputId": "22aacd31-cd0c-4a97-bce3-e2ff5ed20fd8"
      },
      "outputs": [
        {
          "data": {
            "text/plain": [
              "(1191574, 25)"
            ]
          },
          "execution_count": 150,
          "metadata": {},
          "output_type": "execute_result"
        }
      ],
      "source": [
        "dfm.shape"
      ]
    },
    {
      "cell_type": "markdown",
      "metadata": {
        "id": "WQoHlZhDiMb_"
      },
      "source": [
        "Saving DataFrame"
      ]
    },
    {
      "cell_type": "code",
      "execution_count": 151,
      "metadata": {
        "id": "VMJwMVX3iOuY"
      },
      "outputs": [],
      "source": [
        "#dfm.to_csv('dfm.csv')"
      ]
    },
    {
      "cell_type": "markdown",
      "metadata": {
        "id": "hF6iVKNyiV95"
      },
      "source": [
        "Collinearity"
      ]
    },
    {
      "cell_type": "code",
      "execution_count": 152,
      "metadata": {
        "colab": {
          "base_uri": "https://localhost:8080/",
          "height": 633
        },
        "id": "GtwuWfVFiYvT",
        "outputId": "f5bc4f9b-3a5c-4cd1-9bd1-97eaa15dbac8"
      },
      "outputs": [
        {
          "data": {
            "text/html": [
              "<div>\n",
              "<style scoped>\n",
              "    .dataframe tbody tr th:only-of-type {\n",
              "        vertical-align: middle;\n",
              "    }\n",
              "\n",
              "    .dataframe tbody tr th {\n",
              "        vertical-align: top;\n",
              "    }\n",
              "\n",
              "    .dataframe thead th {\n",
              "        text-align: right;\n",
              "    }\n",
              "</style>\n",
              "<table border=\"1\" class=\"dataframe\">\n",
              "  <thead>\n",
              "    <tr style=\"text-align: right;\">\n",
              "      <th></th>\n",
              "      <th>DOT_CODE</th>\n",
              "      <th>CRS_DEP_TIME</th>\n",
              "      <th>DEP_DELAY</th>\n",
              "      <th>TAXI_OUT</th>\n",
              "      <th>WHEELS_OFF</th>\n",
              "      <th>WHEELS_ON</th>\n",
              "      <th>TAXI_IN</th>\n",
              "      <th>CRS_ARR_TIME</th>\n",
              "      <th>ARR_DELAY</th>\n",
              "      <th>CRS_ELAPSED_TIME</th>\n",
              "      <th>ELAPSED_TIME</th>\n",
              "      <th>AIR_TIME</th>\n",
              "      <th>DISTANCE</th>\n",
              "      <th>DAY</th>\n",
              "      <th>MONTH</th>\n",
              "      <th>YEAR</th>\n",
              "      <th>FLIGHT_STATUS</th>\n",
              "      <th>WEEKDAY</th>\n",
              "    </tr>\n",
              "  </thead>\n",
              "  <tbody>\n",
              "    <tr>\n",
              "      <th>DOT_CODE</th>\n",
              "      <td>1.000000</td>\n",
              "      <td>-0.005938</td>\n",
              "      <td>0.006085</td>\n",
              "      <td>0.161756</td>\n",
              "      <td>-0.006640</td>\n",
              "      <td>-2.018824e-02</td>\n",
              "      <td>0.174005</td>\n",
              "      <td>-0.016092</td>\n",
              "      <td>0.022047</td>\n",
              "      <td>0.003443</td>\n",
              "      <td>0.015511</td>\n",
              "      <td>-0.019980</td>\n",
              "      <td>-0.034176</td>\n",
              "      <td>0.000439</td>\n",
              "      <td>-0.002200</td>\n",
              "      <td>-0.002661</td>\n",
              "      <td>-0.006849</td>\n",
              "      <td>6.423976e-03</td>\n",
              "    </tr>\n",
              "    <tr>\n",
              "      <th>CRS_DEP_TIME</th>\n",
              "      <td>-0.005938</td>\n",
              "      <td>1.000000</td>\n",
              "      <td>0.084944</td>\n",
              "      <td>-0.002226</td>\n",
              "      <td>0.887876</td>\n",
              "      <td>5.665248e-01</td>\n",
              "      <td>0.015228</td>\n",
              "      <td>0.604134</td>\n",
              "      <td>0.081486</td>\n",
              "      <td>0.062216</td>\n",
              "      <td>0.062070</td>\n",
              "      <td>0.062540</td>\n",
              "      <td>0.065028</td>\n",
              "      <td>-0.000498</td>\n",
              "      <td>-0.001806</td>\n",
              "      <td>0.016370</td>\n",
              "      <td>0.127362</td>\n",
              "      <td>3.942532e-03</td>\n",
              "    </tr>\n",
              "    <tr>\n",
              "      <th>DEP_DELAY</th>\n",
              "      <td>0.006085</td>\n",
              "      <td>0.084944</td>\n",
              "      <td>1.000000</td>\n",
              "      <td>0.057516</td>\n",
              "      <td>0.110059</td>\n",
              "      <td>3.548183e-02</td>\n",
              "      <td>0.019843</td>\n",
              "      <td>0.064827</td>\n",
              "      <td>0.966794</td>\n",
              "      <td>0.018871</td>\n",
              "      <td>0.022903</td>\n",
              "      <td>0.014652</td>\n",
              "      <td>0.016357</td>\n",
              "      <td>0.004578</td>\n",
              "      <td>0.004429</td>\n",
              "      <td>0.086727</td>\n",
              "      <td>0.362436</td>\n",
              "      <td>1.672602e-02</td>\n",
              "    </tr>\n",
              "    <tr>\n",
              "      <th>TAXI_OUT</th>\n",
              "      <td>0.161756</td>\n",
              "      <td>-0.002226</td>\n",
              "      <td>0.057516</td>\n",
              "      <td>1.000000</td>\n",
              "      <td>0.028169</td>\n",
              "      <td>1.364284e-02</td>\n",
              "      <td>0.046917</td>\n",
              "      <td>0.009116</td>\n",
              "      <td>0.188698</td>\n",
              "      <td>0.103294</td>\n",
              "      <td>0.202596</td>\n",
              "      <td>0.081750</td>\n",
              "      <td>0.068346</td>\n",
              "      <td>0.003491</td>\n",
              "      <td>-0.034385</td>\n",
              "      <td>0.105064</td>\n",
              "      <td>0.289845</td>\n",
              "      <td>-4.641587e-04</td>\n",
              "    </tr>\n",
              "    <tr>\n",
              "      <th>WHEELS_OFF</th>\n",
              "      <td>-0.006640</td>\n",
              "      <td>0.887876</td>\n",
              "      <td>0.110059</td>\n",
              "      <td>0.028169</td>\n",
              "      <td>1.000000</td>\n",
              "      <td>6.339383e-01</td>\n",
              "      <td>0.020779</td>\n",
              "      <td>0.647291</td>\n",
              "      <td>0.111315</td>\n",
              "      <td>0.030576</td>\n",
              "      <td>0.034666</td>\n",
              "      <td>0.030205</td>\n",
              "      <td>0.026462</td>\n",
              "      <td>-0.001031</td>\n",
              "      <td>-0.004573</td>\n",
              "      <td>0.020671</td>\n",
              "      <td>0.158656</td>\n",
              "      <td>3.590629e-03</td>\n",
              "    </tr>\n",
              "    <tr>\n",
              "      <th>WHEELS_ON</th>\n",
              "      <td>-0.020188</td>\n",
              "      <td>0.566525</td>\n",
              "      <td>0.035482</td>\n",
              "      <td>0.013643</td>\n",
              "      <td>0.633938</td>\n",
              "      <td>1.000000e+00</td>\n",
              "      <td>0.034479</td>\n",
              "      <td>0.883543</td>\n",
              "      <td>0.042569</td>\n",
              "      <td>0.026809</td>\n",
              "      <td>0.033097</td>\n",
              "      <td>0.029089</td>\n",
              "      <td>0.020270</td>\n",
              "      <td>-0.002486</td>\n",
              "      <td>-0.001975</td>\n",
              "      <td>-0.014083</td>\n",
              "      <td>0.103034</td>\n",
              "      <td>3.137998e-07</td>\n",
              "    </tr>\n",
              "    <tr>\n",
              "      <th>TAXI_IN</th>\n",
              "      <td>0.174005</td>\n",
              "      <td>0.015228</td>\n",
              "      <td>0.019843</td>\n",
              "      <td>0.046917</td>\n",
              "      <td>0.020779</td>\n",
              "      <td>3.447935e-02</td>\n",
              "      <td>1.000000</td>\n",
              "      <td>0.031875</td>\n",
              "      <td>0.121930</td>\n",
              "      <td>0.063301</td>\n",
              "      <td>0.139844</td>\n",
              "      <td>0.044692</td>\n",
              "      <td>0.038284</td>\n",
              "      <td>0.000791</td>\n",
              "      <td>0.010062</td>\n",
              "      <td>0.082515</td>\n",
              "      <td>0.193907</td>\n",
              "      <td>9.691259e-03</td>\n",
              "    </tr>\n",
              "    <tr>\n",
              "      <th>CRS_ARR_TIME</th>\n",
              "      <td>-0.016092</td>\n",
              "      <td>0.604134</td>\n",
              "      <td>0.064827</td>\n",
              "      <td>0.009116</td>\n",
              "      <td>0.647291</td>\n",
              "      <td>8.835430e-01</td>\n",
              "      <td>0.031875</td>\n",
              "      <td>1.000000</td>\n",
              "      <td>0.065792</td>\n",
              "      <td>0.037021</td>\n",
              "      <td>0.039590</td>\n",
              "      <td>0.036544</td>\n",
              "      <td>0.029382</td>\n",
              "      <td>-0.001514</td>\n",
              "      <td>-0.001337</td>\n",
              "      <td>-0.008939</td>\n",
              "      <td>0.106837</td>\n",
              "      <td>2.404310e-04</td>\n",
              "    </tr>\n",
              "    <tr>\n",
              "      <th>ARR_DELAY</th>\n",
              "      <td>0.022047</td>\n",
              "      <td>0.081486</td>\n",
              "      <td>0.966794</td>\n",
              "      <td>0.188698</td>\n",
              "      <td>0.111315</td>\n",
              "      <td>4.256902e-02</td>\n",
              "      <td>0.121930</td>\n",
              "      <td>0.065792</td>\n",
              "      <td>1.000000</td>\n",
              "      <td>-0.006172</td>\n",
              "      <td>0.046322</td>\n",
              "      <td>0.013207</td>\n",
              "      <td>-0.001892</td>\n",
              "      <td>0.005441</td>\n",
              "      <td>0.008212</td>\n",
              "      <td>0.099090</td>\n",
              "      <td>0.468488</td>\n",
              "      <td>1.627704e-02</td>\n",
              "    </tr>\n",
              "    <tr>\n",
              "      <th>CRS_ELAPSED_TIME</th>\n",
              "      <td>0.003443</td>\n",
              "      <td>0.062216</td>\n",
              "      <td>0.018871</td>\n",
              "      <td>0.103294</td>\n",
              "      <td>0.030576</td>\n",
              "      <td>2.680889e-02</td>\n",
              "      <td>0.063301</td>\n",
              "      <td>0.037021</td>\n",
              "      <td>-0.006172</td>\n",
              "      <td>1.000000</td>\n",
              "      <td>0.981903</td>\n",
              "      <td>0.989013</td>\n",
              "      <td>0.981256</td>\n",
              "      <td>0.001452</td>\n",
              "      <td>-0.010803</td>\n",
              "      <td>0.014053</td>\n",
              "      <td>0.026747</td>\n",
              "      <td>1.035573e-02</td>\n",
              "    </tr>\n",
              "    <tr>\n",
              "      <th>ELAPSED_TIME</th>\n",
              "      <td>0.015511</td>\n",
              "      <td>0.062070</td>\n",
              "      <td>0.022903</td>\n",
              "      <td>0.202596</td>\n",
              "      <td>0.034666</td>\n",
              "      <td>3.309679e-02</td>\n",
              "      <td>0.139844</td>\n",
              "      <td>0.039590</td>\n",
              "      <td>0.046322</td>\n",
              "      <td>0.981903</td>\n",
              "      <td>1.000000</td>\n",
              "      <td>0.988366</td>\n",
              "      <td>0.968151</td>\n",
              "      <td>0.002227</td>\n",
              "      <td>-0.007855</td>\n",
              "      <td>0.025734</td>\n",
              "      <td>0.116106</td>\n",
              "      <td>1.049390e-02</td>\n",
              "    </tr>\n",
              "    <tr>\n",
              "      <th>AIR_TIME</th>\n",
              "      <td>-0.019980</td>\n",
              "      <td>0.062540</td>\n",
              "      <td>0.014652</td>\n",
              "      <td>0.081750</td>\n",
              "      <td>0.030205</td>\n",
              "      <td>2.908871e-02</td>\n",
              "      <td>0.044692</td>\n",
              "      <td>0.036544</td>\n",
              "      <td>0.013207</td>\n",
              "      <td>0.989013</td>\n",
              "      <td>0.988366</td>\n",
              "      <td>1.000000</td>\n",
              "      <td>0.981487</td>\n",
              "      <td>0.001785</td>\n",
              "      <td>-0.004810</td>\n",
              "      <td>0.005930</td>\n",
              "      <td>0.065788</td>\n",
              "      <td>9.922585e-03</td>\n",
              "    </tr>\n",
              "    <tr>\n",
              "      <th>DISTANCE</th>\n",
              "      <td>-0.034176</td>\n",
              "      <td>0.065028</td>\n",
              "      <td>0.016357</td>\n",
              "      <td>0.068346</td>\n",
              "      <td>0.026462</td>\n",
              "      <td>2.027005e-02</td>\n",
              "      <td>0.038284</td>\n",
              "      <td>0.029382</td>\n",
              "      <td>-0.001892</td>\n",
              "      <td>0.981256</td>\n",
              "      <td>0.968151</td>\n",
              "      <td>0.981487</td>\n",
              "      <td>1.000000</td>\n",
              "      <td>0.001872</td>\n",
              "      <td>0.002880</td>\n",
              "      <td>0.007257</td>\n",
              "      <td>0.034706</td>\n",
              "      <td>1.125703e-02</td>\n",
              "    </tr>\n",
              "    <tr>\n",
              "      <th>DAY</th>\n",
              "      <td>0.000439</td>\n",
              "      <td>-0.000498</td>\n",
              "      <td>0.004578</td>\n",
              "      <td>0.003491</td>\n",
              "      <td>-0.001031</td>\n",
              "      <td>-2.486077e-03</td>\n",
              "      <td>0.000791</td>\n",
              "      <td>-0.001514</td>\n",
              "      <td>0.005441</td>\n",
              "      <td>0.001452</td>\n",
              "      <td>0.002227</td>\n",
              "      <td>0.001785</td>\n",
              "      <td>0.001872</td>\n",
              "      <td>1.000000</td>\n",
              "      <td>0.010768</td>\n",
              "      <td>0.004590</td>\n",
              "      <td>0.006896</td>\n",
              "      <td>-5.275122e-03</td>\n",
              "    </tr>\n",
              "    <tr>\n",
              "      <th>MONTH</th>\n",
              "      <td>-0.002200</td>\n",
              "      <td>-0.001806</td>\n",
              "      <td>0.004429</td>\n",
              "      <td>-0.034385</td>\n",
              "      <td>-0.004573</td>\n",
              "      <td>-1.975245e-03</td>\n",
              "      <td>0.010062</td>\n",
              "      <td>-0.001337</td>\n",
              "      <td>0.008212</td>\n",
              "      <td>-0.010803</td>\n",
              "      <td>-0.007855</td>\n",
              "      <td>-0.004810</td>\n",
              "      <td>0.002880</td>\n",
              "      <td>0.010768</td>\n",
              "      <td>1.000000</td>\n",
              "      <td>-0.148085</td>\n",
              "      <td>0.011120</td>\n",
              "      <td>1.730635e-03</td>\n",
              "    </tr>\n",
              "    <tr>\n",
              "      <th>YEAR</th>\n",
              "      <td>-0.002661</td>\n",
              "      <td>0.016370</td>\n",
              "      <td>0.086727</td>\n",
              "      <td>0.105064</td>\n",
              "      <td>0.020671</td>\n",
              "      <td>-1.408287e-02</td>\n",
              "      <td>0.082515</td>\n",
              "      <td>-0.008939</td>\n",
              "      <td>0.099090</td>\n",
              "      <td>0.014053</td>\n",
              "      <td>0.025734</td>\n",
              "      <td>0.005930</td>\n",
              "      <td>0.007257</td>\n",
              "      <td>0.004590</td>\n",
              "      <td>-0.148085</td>\n",
              "      <td>1.000000</td>\n",
              "      <td>0.132689</td>\n",
              "      <td>-8.108835e-03</td>\n",
              "    </tr>\n",
              "    <tr>\n",
              "      <th>FLIGHT_STATUS</th>\n",
              "      <td>-0.006849</td>\n",
              "      <td>0.127362</td>\n",
              "      <td>0.362436</td>\n",
              "      <td>0.289845</td>\n",
              "      <td>0.158656</td>\n",
              "      <td>1.030338e-01</td>\n",
              "      <td>0.193907</td>\n",
              "      <td>0.106837</td>\n",
              "      <td>0.468488</td>\n",
              "      <td>0.026747</td>\n",
              "      <td>0.116106</td>\n",
              "      <td>0.065788</td>\n",
              "      <td>0.034706</td>\n",
              "      <td>0.006896</td>\n",
              "      <td>0.011120</td>\n",
              "      <td>0.132689</td>\n",
              "      <td>1.000000</td>\n",
              "      <td>2.292573e-02</td>\n",
              "    </tr>\n",
              "    <tr>\n",
              "      <th>WEEKDAY</th>\n",
              "      <td>0.006424</td>\n",
              "      <td>0.003943</td>\n",
              "      <td>0.016726</td>\n",
              "      <td>-0.000464</td>\n",
              "      <td>0.003591</td>\n",
              "      <td>3.137998e-07</td>\n",
              "      <td>0.009691</td>\n",
              "      <td>0.000240</td>\n",
              "      <td>0.016277</td>\n",
              "      <td>0.010356</td>\n",
              "      <td>0.010494</td>\n",
              "      <td>0.009923</td>\n",
              "      <td>0.011257</td>\n",
              "      <td>-0.005275</td>\n",
              "      <td>0.001731</td>\n",
              "      <td>-0.008109</td>\n",
              "      <td>0.022926</td>\n",
              "      <td>1.000000e+00</td>\n",
              "    </tr>\n",
              "  </tbody>\n",
              "</table>\n",
              "</div>"
            ],
            "text/plain": [
              "                  DOT_CODE  CRS_DEP_TIME  DEP_DELAY  TAXI_OUT  WHEELS_OFF  \\\n",
              "DOT_CODE          1.000000     -0.005938   0.006085  0.161756   -0.006640   \n",
              "CRS_DEP_TIME     -0.005938      1.000000   0.084944 -0.002226    0.887876   \n",
              "DEP_DELAY         0.006085      0.084944   1.000000  0.057516    0.110059   \n",
              "TAXI_OUT          0.161756     -0.002226   0.057516  1.000000    0.028169   \n",
              "WHEELS_OFF       -0.006640      0.887876   0.110059  0.028169    1.000000   \n",
              "WHEELS_ON        -0.020188      0.566525   0.035482  0.013643    0.633938   \n",
              "TAXI_IN           0.174005      0.015228   0.019843  0.046917    0.020779   \n",
              "CRS_ARR_TIME     -0.016092      0.604134   0.064827  0.009116    0.647291   \n",
              "ARR_DELAY         0.022047      0.081486   0.966794  0.188698    0.111315   \n",
              "CRS_ELAPSED_TIME  0.003443      0.062216   0.018871  0.103294    0.030576   \n",
              "ELAPSED_TIME      0.015511      0.062070   0.022903  0.202596    0.034666   \n",
              "AIR_TIME         -0.019980      0.062540   0.014652  0.081750    0.030205   \n",
              "DISTANCE         -0.034176      0.065028   0.016357  0.068346    0.026462   \n",
              "DAY               0.000439     -0.000498   0.004578  0.003491   -0.001031   \n",
              "MONTH            -0.002200     -0.001806   0.004429 -0.034385   -0.004573   \n",
              "YEAR             -0.002661      0.016370   0.086727  0.105064    0.020671   \n",
              "FLIGHT_STATUS    -0.006849      0.127362   0.362436  0.289845    0.158656   \n",
              "WEEKDAY           0.006424      0.003943   0.016726 -0.000464    0.003591   \n",
              "\n",
              "                     WHEELS_ON   TAXI_IN  CRS_ARR_TIME  ARR_DELAY  \\\n",
              "DOT_CODE         -2.018824e-02  0.174005     -0.016092   0.022047   \n",
              "CRS_DEP_TIME      5.665248e-01  0.015228      0.604134   0.081486   \n",
              "DEP_DELAY         3.548183e-02  0.019843      0.064827   0.966794   \n",
              "TAXI_OUT          1.364284e-02  0.046917      0.009116   0.188698   \n",
              "WHEELS_OFF        6.339383e-01  0.020779      0.647291   0.111315   \n",
              "WHEELS_ON         1.000000e+00  0.034479      0.883543   0.042569   \n",
              "TAXI_IN           3.447935e-02  1.000000      0.031875   0.121930   \n",
              "CRS_ARR_TIME      8.835430e-01  0.031875      1.000000   0.065792   \n",
              "ARR_DELAY         4.256902e-02  0.121930      0.065792   1.000000   \n",
              "CRS_ELAPSED_TIME  2.680889e-02  0.063301      0.037021  -0.006172   \n",
              "ELAPSED_TIME      3.309679e-02  0.139844      0.039590   0.046322   \n",
              "AIR_TIME          2.908871e-02  0.044692      0.036544   0.013207   \n",
              "DISTANCE          2.027005e-02  0.038284      0.029382  -0.001892   \n",
              "DAY              -2.486077e-03  0.000791     -0.001514   0.005441   \n",
              "MONTH            -1.975245e-03  0.010062     -0.001337   0.008212   \n",
              "YEAR             -1.408287e-02  0.082515     -0.008939   0.099090   \n",
              "FLIGHT_STATUS     1.030338e-01  0.193907      0.106837   0.468488   \n",
              "WEEKDAY           3.137998e-07  0.009691      0.000240   0.016277   \n",
              "\n",
              "                  CRS_ELAPSED_TIME  ELAPSED_TIME  AIR_TIME  DISTANCE  \\\n",
              "DOT_CODE                  0.003443      0.015511 -0.019980 -0.034176   \n",
              "CRS_DEP_TIME              0.062216      0.062070  0.062540  0.065028   \n",
              "DEP_DELAY                 0.018871      0.022903  0.014652  0.016357   \n",
              "TAXI_OUT                  0.103294      0.202596  0.081750  0.068346   \n",
              "WHEELS_OFF                0.030576      0.034666  0.030205  0.026462   \n",
              "WHEELS_ON                 0.026809      0.033097  0.029089  0.020270   \n",
              "TAXI_IN                   0.063301      0.139844  0.044692  0.038284   \n",
              "CRS_ARR_TIME              0.037021      0.039590  0.036544  0.029382   \n",
              "ARR_DELAY                -0.006172      0.046322  0.013207 -0.001892   \n",
              "CRS_ELAPSED_TIME          1.000000      0.981903  0.989013  0.981256   \n",
              "ELAPSED_TIME              0.981903      1.000000  0.988366  0.968151   \n",
              "AIR_TIME                  0.989013      0.988366  1.000000  0.981487   \n",
              "DISTANCE                  0.981256      0.968151  0.981487  1.000000   \n",
              "DAY                       0.001452      0.002227  0.001785  0.001872   \n",
              "MONTH                    -0.010803     -0.007855 -0.004810  0.002880   \n",
              "YEAR                      0.014053      0.025734  0.005930  0.007257   \n",
              "FLIGHT_STATUS             0.026747      0.116106  0.065788  0.034706   \n",
              "WEEKDAY                   0.010356      0.010494  0.009923  0.011257   \n",
              "\n",
              "                       DAY     MONTH      YEAR  FLIGHT_STATUS       WEEKDAY  \n",
              "DOT_CODE          0.000439 -0.002200 -0.002661      -0.006849  6.423976e-03  \n",
              "CRS_DEP_TIME     -0.000498 -0.001806  0.016370       0.127362  3.942532e-03  \n",
              "DEP_DELAY         0.004578  0.004429  0.086727       0.362436  1.672602e-02  \n",
              "TAXI_OUT          0.003491 -0.034385  0.105064       0.289845 -4.641587e-04  \n",
              "WHEELS_OFF       -0.001031 -0.004573  0.020671       0.158656  3.590629e-03  \n",
              "WHEELS_ON        -0.002486 -0.001975 -0.014083       0.103034  3.137998e-07  \n",
              "TAXI_IN           0.000791  0.010062  0.082515       0.193907  9.691259e-03  \n",
              "CRS_ARR_TIME     -0.001514 -0.001337 -0.008939       0.106837  2.404310e-04  \n",
              "ARR_DELAY         0.005441  0.008212  0.099090       0.468488  1.627704e-02  \n",
              "CRS_ELAPSED_TIME  0.001452 -0.010803  0.014053       0.026747  1.035573e-02  \n",
              "ELAPSED_TIME      0.002227 -0.007855  0.025734       0.116106  1.049390e-02  \n",
              "AIR_TIME          0.001785 -0.004810  0.005930       0.065788  9.922585e-03  \n",
              "DISTANCE          0.001872  0.002880  0.007257       0.034706  1.125703e-02  \n",
              "DAY               1.000000  0.010768  0.004590       0.006896 -5.275122e-03  \n",
              "MONTH             0.010768  1.000000 -0.148085       0.011120  1.730635e-03  \n",
              "YEAR              0.004590 -0.148085  1.000000       0.132689 -8.108835e-03  \n",
              "FLIGHT_STATUS     0.006896  0.011120  0.132689       1.000000  2.292573e-02  \n",
              "WEEKDAY          -0.005275  0.001731 -0.008109       0.022926  1.000000e+00  "
            ]
          },
          "execution_count": 152,
          "metadata": {},
          "output_type": "execute_result"
        }
      ],
      "source": [
        "# Select only the numeric columns\n",
        "numeric_columns = dfm.select_dtypes(include=['float64', 'int32', 'int64']).columns\n",
        "dfm_numeric = dfm[numeric_columns]\n",
        "\n",
        "# Calculate the correlation matrix for numeric columns\n",
        "dfm_numeric.corr()"
      ]
    },
    {
      "cell_type": "code",
      "execution_count": 153,
      "metadata": {
        "id": "AGi7ziIUuMae"
      },
      "outputs": [],
      "source": [
        "dfm = dfm.drop(columns=['AIRLINE_DOT', 'AIRLINE_CODE', 'DOT_CODE', 'ORIGIN', 'DEST'])"
      ]
    },
    {
      "cell_type": "code",
      "execution_count": 154,
      "metadata": {
        "colab": {
          "base_uri": "https://localhost:8080/",
          "height": 602
        },
        "id": "82F7CUe-vRo2",
        "outputId": "a8bf03ab-3ff7-4470-8fdd-15f22786caa2"
      },
      "outputs": [
        {
          "data": {
            "text/html": [
              "<div>\n",
              "<style scoped>\n",
              "    .dataframe tbody tr th:only-of-type {\n",
              "        vertical-align: middle;\n",
              "    }\n",
              "\n",
              "    .dataframe tbody tr th {\n",
              "        vertical-align: top;\n",
              "    }\n",
              "\n",
              "    .dataframe thead th {\n",
              "        text-align: right;\n",
              "    }\n",
              "</style>\n",
              "<table border=\"1\" class=\"dataframe\">\n",
              "  <thead>\n",
              "    <tr style=\"text-align: right;\">\n",
              "      <th></th>\n",
              "      <th>CRS_DEP_TIME</th>\n",
              "      <th>DEP_DELAY</th>\n",
              "      <th>TAXI_OUT</th>\n",
              "      <th>WHEELS_OFF</th>\n",
              "      <th>WHEELS_ON</th>\n",
              "      <th>TAXI_IN</th>\n",
              "      <th>CRS_ARR_TIME</th>\n",
              "      <th>ARR_DELAY</th>\n",
              "      <th>CRS_ELAPSED_TIME</th>\n",
              "      <th>ELAPSED_TIME</th>\n",
              "      <th>AIR_TIME</th>\n",
              "      <th>DISTANCE</th>\n",
              "      <th>DAY</th>\n",
              "      <th>MONTH</th>\n",
              "      <th>YEAR</th>\n",
              "      <th>FLIGHT_STATUS</th>\n",
              "      <th>WEEKDAY</th>\n",
              "    </tr>\n",
              "  </thead>\n",
              "  <tbody>\n",
              "    <tr>\n",
              "      <th>CRS_DEP_TIME</th>\n",
              "      <td>1.000000</td>\n",
              "      <td>0.084944</td>\n",
              "      <td>-0.002226</td>\n",
              "      <td>0.887876</td>\n",
              "      <td>5.665248e-01</td>\n",
              "      <td>0.015228</td>\n",
              "      <td>0.604134</td>\n",
              "      <td>0.081486</td>\n",
              "      <td>0.062216</td>\n",
              "      <td>0.062070</td>\n",
              "      <td>0.062540</td>\n",
              "      <td>0.065028</td>\n",
              "      <td>-0.000498</td>\n",
              "      <td>-0.001806</td>\n",
              "      <td>0.016370</td>\n",
              "      <td>0.127362</td>\n",
              "      <td>3.942532e-03</td>\n",
              "    </tr>\n",
              "    <tr>\n",
              "      <th>DEP_DELAY</th>\n",
              "      <td>0.084944</td>\n",
              "      <td>1.000000</td>\n",
              "      <td>0.057516</td>\n",
              "      <td>0.110059</td>\n",
              "      <td>3.548183e-02</td>\n",
              "      <td>0.019843</td>\n",
              "      <td>0.064827</td>\n",
              "      <td>0.966794</td>\n",
              "      <td>0.018871</td>\n",
              "      <td>0.022903</td>\n",
              "      <td>0.014652</td>\n",
              "      <td>0.016357</td>\n",
              "      <td>0.004578</td>\n",
              "      <td>0.004429</td>\n",
              "      <td>0.086727</td>\n",
              "      <td>0.362436</td>\n",
              "      <td>1.672602e-02</td>\n",
              "    </tr>\n",
              "    <tr>\n",
              "      <th>TAXI_OUT</th>\n",
              "      <td>-0.002226</td>\n",
              "      <td>0.057516</td>\n",
              "      <td>1.000000</td>\n",
              "      <td>0.028169</td>\n",
              "      <td>1.364284e-02</td>\n",
              "      <td>0.046917</td>\n",
              "      <td>0.009116</td>\n",
              "      <td>0.188698</td>\n",
              "      <td>0.103294</td>\n",
              "      <td>0.202596</td>\n",
              "      <td>0.081750</td>\n",
              "      <td>0.068346</td>\n",
              "      <td>0.003491</td>\n",
              "      <td>-0.034385</td>\n",
              "      <td>0.105064</td>\n",
              "      <td>0.289845</td>\n",
              "      <td>-4.641587e-04</td>\n",
              "    </tr>\n",
              "    <tr>\n",
              "      <th>WHEELS_OFF</th>\n",
              "      <td>0.887876</td>\n",
              "      <td>0.110059</td>\n",
              "      <td>0.028169</td>\n",
              "      <td>1.000000</td>\n",
              "      <td>6.339383e-01</td>\n",
              "      <td>0.020779</td>\n",
              "      <td>0.647291</td>\n",
              "      <td>0.111315</td>\n",
              "      <td>0.030576</td>\n",
              "      <td>0.034666</td>\n",
              "      <td>0.030205</td>\n",
              "      <td>0.026462</td>\n",
              "      <td>-0.001031</td>\n",
              "      <td>-0.004573</td>\n",
              "      <td>0.020671</td>\n",
              "      <td>0.158656</td>\n",
              "      <td>3.590629e-03</td>\n",
              "    </tr>\n",
              "    <tr>\n",
              "      <th>WHEELS_ON</th>\n",
              "      <td>0.566525</td>\n",
              "      <td>0.035482</td>\n",
              "      <td>0.013643</td>\n",
              "      <td>0.633938</td>\n",
              "      <td>1.000000e+00</td>\n",
              "      <td>0.034479</td>\n",
              "      <td>0.883543</td>\n",
              "      <td>0.042569</td>\n",
              "      <td>0.026809</td>\n",
              "      <td>0.033097</td>\n",
              "      <td>0.029089</td>\n",
              "      <td>0.020270</td>\n",
              "      <td>-0.002486</td>\n",
              "      <td>-0.001975</td>\n",
              "      <td>-0.014083</td>\n",
              "      <td>0.103034</td>\n",
              "      <td>3.137998e-07</td>\n",
              "    </tr>\n",
              "    <tr>\n",
              "      <th>TAXI_IN</th>\n",
              "      <td>0.015228</td>\n",
              "      <td>0.019843</td>\n",
              "      <td>0.046917</td>\n",
              "      <td>0.020779</td>\n",
              "      <td>3.447935e-02</td>\n",
              "      <td>1.000000</td>\n",
              "      <td>0.031875</td>\n",
              "      <td>0.121930</td>\n",
              "      <td>0.063301</td>\n",
              "      <td>0.139844</td>\n",
              "      <td>0.044692</td>\n",
              "      <td>0.038284</td>\n",
              "      <td>0.000791</td>\n",
              "      <td>0.010062</td>\n",
              "      <td>0.082515</td>\n",
              "      <td>0.193907</td>\n",
              "      <td>9.691259e-03</td>\n",
              "    </tr>\n",
              "    <tr>\n",
              "      <th>CRS_ARR_TIME</th>\n",
              "      <td>0.604134</td>\n",
              "      <td>0.064827</td>\n",
              "      <td>0.009116</td>\n",
              "      <td>0.647291</td>\n",
              "      <td>8.835430e-01</td>\n",
              "      <td>0.031875</td>\n",
              "      <td>1.000000</td>\n",
              "      <td>0.065792</td>\n",
              "      <td>0.037021</td>\n",
              "      <td>0.039590</td>\n",
              "      <td>0.036544</td>\n",
              "      <td>0.029382</td>\n",
              "      <td>-0.001514</td>\n",
              "      <td>-0.001337</td>\n",
              "      <td>-0.008939</td>\n",
              "      <td>0.106837</td>\n",
              "      <td>2.404310e-04</td>\n",
              "    </tr>\n",
              "    <tr>\n",
              "      <th>ARR_DELAY</th>\n",
              "      <td>0.081486</td>\n",
              "      <td>0.966794</td>\n",
              "      <td>0.188698</td>\n",
              "      <td>0.111315</td>\n",
              "      <td>4.256902e-02</td>\n",
              "      <td>0.121930</td>\n",
              "      <td>0.065792</td>\n",
              "      <td>1.000000</td>\n",
              "      <td>-0.006172</td>\n",
              "      <td>0.046322</td>\n",
              "      <td>0.013207</td>\n",
              "      <td>-0.001892</td>\n",
              "      <td>0.005441</td>\n",
              "      <td>0.008212</td>\n",
              "      <td>0.099090</td>\n",
              "      <td>0.468488</td>\n",
              "      <td>1.627704e-02</td>\n",
              "    </tr>\n",
              "    <tr>\n",
              "      <th>CRS_ELAPSED_TIME</th>\n",
              "      <td>0.062216</td>\n",
              "      <td>0.018871</td>\n",
              "      <td>0.103294</td>\n",
              "      <td>0.030576</td>\n",
              "      <td>2.680889e-02</td>\n",
              "      <td>0.063301</td>\n",
              "      <td>0.037021</td>\n",
              "      <td>-0.006172</td>\n",
              "      <td>1.000000</td>\n",
              "      <td>0.981903</td>\n",
              "      <td>0.989013</td>\n",
              "      <td>0.981256</td>\n",
              "      <td>0.001452</td>\n",
              "      <td>-0.010803</td>\n",
              "      <td>0.014053</td>\n",
              "      <td>0.026747</td>\n",
              "      <td>1.035573e-02</td>\n",
              "    </tr>\n",
              "    <tr>\n",
              "      <th>ELAPSED_TIME</th>\n",
              "      <td>0.062070</td>\n",
              "      <td>0.022903</td>\n",
              "      <td>0.202596</td>\n",
              "      <td>0.034666</td>\n",
              "      <td>3.309679e-02</td>\n",
              "      <td>0.139844</td>\n",
              "      <td>0.039590</td>\n",
              "      <td>0.046322</td>\n",
              "      <td>0.981903</td>\n",
              "      <td>1.000000</td>\n",
              "      <td>0.988366</td>\n",
              "      <td>0.968151</td>\n",
              "      <td>0.002227</td>\n",
              "      <td>-0.007855</td>\n",
              "      <td>0.025734</td>\n",
              "      <td>0.116106</td>\n",
              "      <td>1.049390e-02</td>\n",
              "    </tr>\n",
              "    <tr>\n",
              "      <th>AIR_TIME</th>\n",
              "      <td>0.062540</td>\n",
              "      <td>0.014652</td>\n",
              "      <td>0.081750</td>\n",
              "      <td>0.030205</td>\n",
              "      <td>2.908871e-02</td>\n",
              "      <td>0.044692</td>\n",
              "      <td>0.036544</td>\n",
              "      <td>0.013207</td>\n",
              "      <td>0.989013</td>\n",
              "      <td>0.988366</td>\n",
              "      <td>1.000000</td>\n",
              "      <td>0.981487</td>\n",
              "      <td>0.001785</td>\n",
              "      <td>-0.004810</td>\n",
              "      <td>0.005930</td>\n",
              "      <td>0.065788</td>\n",
              "      <td>9.922585e-03</td>\n",
              "    </tr>\n",
              "    <tr>\n",
              "      <th>DISTANCE</th>\n",
              "      <td>0.065028</td>\n",
              "      <td>0.016357</td>\n",
              "      <td>0.068346</td>\n",
              "      <td>0.026462</td>\n",
              "      <td>2.027005e-02</td>\n",
              "      <td>0.038284</td>\n",
              "      <td>0.029382</td>\n",
              "      <td>-0.001892</td>\n",
              "      <td>0.981256</td>\n",
              "      <td>0.968151</td>\n",
              "      <td>0.981487</td>\n",
              "      <td>1.000000</td>\n",
              "      <td>0.001872</td>\n",
              "      <td>0.002880</td>\n",
              "      <td>0.007257</td>\n",
              "      <td>0.034706</td>\n",
              "      <td>1.125703e-02</td>\n",
              "    </tr>\n",
              "    <tr>\n",
              "      <th>DAY</th>\n",
              "      <td>-0.000498</td>\n",
              "      <td>0.004578</td>\n",
              "      <td>0.003491</td>\n",
              "      <td>-0.001031</td>\n",
              "      <td>-2.486077e-03</td>\n",
              "      <td>0.000791</td>\n",
              "      <td>-0.001514</td>\n",
              "      <td>0.005441</td>\n",
              "      <td>0.001452</td>\n",
              "      <td>0.002227</td>\n",
              "      <td>0.001785</td>\n",
              "      <td>0.001872</td>\n",
              "      <td>1.000000</td>\n",
              "      <td>0.010768</td>\n",
              "      <td>0.004590</td>\n",
              "      <td>0.006896</td>\n",
              "      <td>-5.275122e-03</td>\n",
              "    </tr>\n",
              "    <tr>\n",
              "      <th>MONTH</th>\n",
              "      <td>-0.001806</td>\n",
              "      <td>0.004429</td>\n",
              "      <td>-0.034385</td>\n",
              "      <td>-0.004573</td>\n",
              "      <td>-1.975245e-03</td>\n",
              "      <td>0.010062</td>\n",
              "      <td>-0.001337</td>\n",
              "      <td>0.008212</td>\n",
              "      <td>-0.010803</td>\n",
              "      <td>-0.007855</td>\n",
              "      <td>-0.004810</td>\n",
              "      <td>0.002880</td>\n",
              "      <td>0.010768</td>\n",
              "      <td>1.000000</td>\n",
              "      <td>-0.148085</td>\n",
              "      <td>0.011120</td>\n",
              "      <td>1.730635e-03</td>\n",
              "    </tr>\n",
              "    <tr>\n",
              "      <th>YEAR</th>\n",
              "      <td>0.016370</td>\n",
              "      <td>0.086727</td>\n",
              "      <td>0.105064</td>\n",
              "      <td>0.020671</td>\n",
              "      <td>-1.408287e-02</td>\n",
              "      <td>0.082515</td>\n",
              "      <td>-0.008939</td>\n",
              "      <td>0.099090</td>\n",
              "      <td>0.014053</td>\n",
              "      <td>0.025734</td>\n",
              "      <td>0.005930</td>\n",
              "      <td>0.007257</td>\n",
              "      <td>0.004590</td>\n",
              "      <td>-0.148085</td>\n",
              "      <td>1.000000</td>\n",
              "      <td>0.132689</td>\n",
              "      <td>-8.108835e-03</td>\n",
              "    </tr>\n",
              "    <tr>\n",
              "      <th>FLIGHT_STATUS</th>\n",
              "      <td>0.127362</td>\n",
              "      <td>0.362436</td>\n",
              "      <td>0.289845</td>\n",
              "      <td>0.158656</td>\n",
              "      <td>1.030338e-01</td>\n",
              "      <td>0.193907</td>\n",
              "      <td>0.106837</td>\n",
              "      <td>0.468488</td>\n",
              "      <td>0.026747</td>\n",
              "      <td>0.116106</td>\n",
              "      <td>0.065788</td>\n",
              "      <td>0.034706</td>\n",
              "      <td>0.006896</td>\n",
              "      <td>0.011120</td>\n",
              "      <td>0.132689</td>\n",
              "      <td>1.000000</td>\n",
              "      <td>2.292573e-02</td>\n",
              "    </tr>\n",
              "    <tr>\n",
              "      <th>WEEKDAY</th>\n",
              "      <td>0.003943</td>\n",
              "      <td>0.016726</td>\n",
              "      <td>-0.000464</td>\n",
              "      <td>0.003591</td>\n",
              "      <td>3.137998e-07</td>\n",
              "      <td>0.009691</td>\n",
              "      <td>0.000240</td>\n",
              "      <td>0.016277</td>\n",
              "      <td>0.010356</td>\n",
              "      <td>0.010494</td>\n",
              "      <td>0.009923</td>\n",
              "      <td>0.011257</td>\n",
              "      <td>-0.005275</td>\n",
              "      <td>0.001731</td>\n",
              "      <td>-0.008109</td>\n",
              "      <td>0.022926</td>\n",
              "      <td>1.000000e+00</td>\n",
              "    </tr>\n",
              "  </tbody>\n",
              "</table>\n",
              "</div>"
            ],
            "text/plain": [
              "                  CRS_DEP_TIME  DEP_DELAY  TAXI_OUT  WHEELS_OFF     WHEELS_ON  \\\n",
              "CRS_DEP_TIME          1.000000   0.084944 -0.002226    0.887876  5.665248e-01   \n",
              "DEP_DELAY             0.084944   1.000000  0.057516    0.110059  3.548183e-02   \n",
              "TAXI_OUT             -0.002226   0.057516  1.000000    0.028169  1.364284e-02   \n",
              "WHEELS_OFF            0.887876   0.110059  0.028169    1.000000  6.339383e-01   \n",
              "WHEELS_ON             0.566525   0.035482  0.013643    0.633938  1.000000e+00   \n",
              "TAXI_IN               0.015228   0.019843  0.046917    0.020779  3.447935e-02   \n",
              "CRS_ARR_TIME          0.604134   0.064827  0.009116    0.647291  8.835430e-01   \n",
              "ARR_DELAY             0.081486   0.966794  0.188698    0.111315  4.256902e-02   \n",
              "CRS_ELAPSED_TIME      0.062216   0.018871  0.103294    0.030576  2.680889e-02   \n",
              "ELAPSED_TIME          0.062070   0.022903  0.202596    0.034666  3.309679e-02   \n",
              "AIR_TIME              0.062540   0.014652  0.081750    0.030205  2.908871e-02   \n",
              "DISTANCE              0.065028   0.016357  0.068346    0.026462  2.027005e-02   \n",
              "DAY                  -0.000498   0.004578  0.003491   -0.001031 -2.486077e-03   \n",
              "MONTH                -0.001806   0.004429 -0.034385   -0.004573 -1.975245e-03   \n",
              "YEAR                  0.016370   0.086727  0.105064    0.020671 -1.408287e-02   \n",
              "FLIGHT_STATUS         0.127362   0.362436  0.289845    0.158656  1.030338e-01   \n",
              "WEEKDAY               0.003943   0.016726 -0.000464    0.003591  3.137998e-07   \n",
              "\n",
              "                   TAXI_IN  CRS_ARR_TIME  ARR_DELAY  CRS_ELAPSED_TIME  \\\n",
              "CRS_DEP_TIME      0.015228      0.604134   0.081486          0.062216   \n",
              "DEP_DELAY         0.019843      0.064827   0.966794          0.018871   \n",
              "TAXI_OUT          0.046917      0.009116   0.188698          0.103294   \n",
              "WHEELS_OFF        0.020779      0.647291   0.111315          0.030576   \n",
              "WHEELS_ON         0.034479      0.883543   0.042569          0.026809   \n",
              "TAXI_IN           1.000000      0.031875   0.121930          0.063301   \n",
              "CRS_ARR_TIME      0.031875      1.000000   0.065792          0.037021   \n",
              "ARR_DELAY         0.121930      0.065792   1.000000         -0.006172   \n",
              "CRS_ELAPSED_TIME  0.063301      0.037021  -0.006172          1.000000   \n",
              "ELAPSED_TIME      0.139844      0.039590   0.046322          0.981903   \n",
              "AIR_TIME          0.044692      0.036544   0.013207          0.989013   \n",
              "DISTANCE          0.038284      0.029382  -0.001892          0.981256   \n",
              "DAY               0.000791     -0.001514   0.005441          0.001452   \n",
              "MONTH             0.010062     -0.001337   0.008212         -0.010803   \n",
              "YEAR              0.082515     -0.008939   0.099090          0.014053   \n",
              "FLIGHT_STATUS     0.193907      0.106837   0.468488          0.026747   \n",
              "WEEKDAY           0.009691      0.000240   0.016277          0.010356   \n",
              "\n",
              "                  ELAPSED_TIME  AIR_TIME  DISTANCE       DAY     MONTH  \\\n",
              "CRS_DEP_TIME          0.062070  0.062540  0.065028 -0.000498 -0.001806   \n",
              "DEP_DELAY             0.022903  0.014652  0.016357  0.004578  0.004429   \n",
              "TAXI_OUT              0.202596  0.081750  0.068346  0.003491 -0.034385   \n",
              "WHEELS_OFF            0.034666  0.030205  0.026462 -0.001031 -0.004573   \n",
              "WHEELS_ON             0.033097  0.029089  0.020270 -0.002486 -0.001975   \n",
              "TAXI_IN               0.139844  0.044692  0.038284  0.000791  0.010062   \n",
              "CRS_ARR_TIME          0.039590  0.036544  0.029382 -0.001514 -0.001337   \n",
              "ARR_DELAY             0.046322  0.013207 -0.001892  0.005441  0.008212   \n",
              "CRS_ELAPSED_TIME      0.981903  0.989013  0.981256  0.001452 -0.010803   \n",
              "ELAPSED_TIME          1.000000  0.988366  0.968151  0.002227 -0.007855   \n",
              "AIR_TIME              0.988366  1.000000  0.981487  0.001785 -0.004810   \n",
              "DISTANCE              0.968151  0.981487  1.000000  0.001872  0.002880   \n",
              "DAY                   0.002227  0.001785  0.001872  1.000000  0.010768   \n",
              "MONTH                -0.007855 -0.004810  0.002880  0.010768  1.000000   \n",
              "YEAR                  0.025734  0.005930  0.007257  0.004590 -0.148085   \n",
              "FLIGHT_STATUS         0.116106  0.065788  0.034706  0.006896  0.011120   \n",
              "WEEKDAY               0.010494  0.009923  0.011257 -0.005275  0.001731   \n",
              "\n",
              "                      YEAR  FLIGHT_STATUS       WEEKDAY  \n",
              "CRS_DEP_TIME      0.016370       0.127362  3.942532e-03  \n",
              "DEP_DELAY         0.086727       0.362436  1.672602e-02  \n",
              "TAXI_OUT          0.105064       0.289845 -4.641587e-04  \n",
              "WHEELS_OFF        0.020671       0.158656  3.590629e-03  \n",
              "WHEELS_ON        -0.014083       0.103034  3.137998e-07  \n",
              "TAXI_IN           0.082515       0.193907  9.691259e-03  \n",
              "CRS_ARR_TIME     -0.008939       0.106837  2.404310e-04  \n",
              "ARR_DELAY         0.099090       0.468488  1.627704e-02  \n",
              "CRS_ELAPSED_TIME  0.014053       0.026747  1.035573e-02  \n",
              "ELAPSED_TIME      0.025734       0.116106  1.049390e-02  \n",
              "AIR_TIME          0.005930       0.065788  9.922585e-03  \n",
              "DISTANCE          0.007257       0.034706  1.125703e-02  \n",
              "DAY               0.004590       0.006896 -5.275122e-03  \n",
              "MONTH            -0.148085       0.011120  1.730635e-03  \n",
              "YEAR              1.000000       0.132689 -8.108835e-03  \n",
              "FLIGHT_STATUS     0.132689       1.000000  2.292573e-02  \n",
              "WEEKDAY          -0.008109       0.022926  1.000000e+00  "
            ]
          },
          "execution_count": 154,
          "metadata": {},
          "output_type": "execute_result"
        }
      ],
      "source": [
        "numeric_columns = dfm.select_dtypes(include=['float64', 'int32', 'int64']).columns\n",
        "dfm_numeric = dfm[numeric_columns]\n",
        "\n",
        "dfm_numeric.corr()"
      ]
    },
    {
      "cell_type": "code",
      "execution_count": 155,
      "metadata": {
        "colab": {
          "base_uri": "https://localhost:8080/",
          "height": 602
        },
        "id": "tOwMEOztxxs6",
        "outputId": "8cddbcd8-097d-44f5-9f9a-992082aa7669"
      },
      "outputs": [
        {
          "data": {
            "text/html": [
              "<div>\n",
              "<style scoped>\n",
              "    .dataframe tbody tr th:only-of-type {\n",
              "        vertical-align: middle;\n",
              "    }\n",
              "\n",
              "    .dataframe tbody tr th {\n",
              "        vertical-align: top;\n",
              "    }\n",
              "\n",
              "    .dataframe thead th {\n",
              "        text-align: right;\n",
              "    }\n",
              "</style>\n",
              "<table border=\"1\" class=\"dataframe\">\n",
              "  <thead>\n",
              "    <tr style=\"text-align: right;\">\n",
              "      <th></th>\n",
              "      <th>CRS_DEP_TIME</th>\n",
              "      <th>DEP_DELAY</th>\n",
              "      <th>TAXI_OUT</th>\n",
              "      <th>WHEELS_OFF</th>\n",
              "      <th>WHEELS_ON</th>\n",
              "      <th>TAXI_IN</th>\n",
              "      <th>CRS_ARR_TIME</th>\n",
              "      <th>ARR_DELAY</th>\n",
              "      <th>CRS_ELAPSED_TIME</th>\n",
              "      <th>ELAPSED_TIME</th>\n",
              "      <th>AIR_TIME</th>\n",
              "      <th>DISTANCE</th>\n",
              "      <th>DAY</th>\n",
              "      <th>MONTH</th>\n",
              "      <th>YEAR</th>\n",
              "      <th>FLIGHT_STATUS</th>\n",
              "      <th>WEEKDAY</th>\n",
              "    </tr>\n",
              "  </thead>\n",
              "  <tbody>\n",
              "    <tr>\n",
              "      <th>CRS_DEP_TIME</th>\n",
              "      <td>True</td>\n",
              "      <td>False</td>\n",
              "      <td>False</td>\n",
              "      <td>True</td>\n",
              "      <td>False</td>\n",
              "      <td>False</td>\n",
              "      <td>False</td>\n",
              "      <td>False</td>\n",
              "      <td>False</td>\n",
              "      <td>False</td>\n",
              "      <td>False</td>\n",
              "      <td>False</td>\n",
              "      <td>False</td>\n",
              "      <td>False</td>\n",
              "      <td>False</td>\n",
              "      <td>False</td>\n",
              "      <td>False</td>\n",
              "    </tr>\n",
              "    <tr>\n",
              "      <th>DEP_DELAY</th>\n",
              "      <td>False</td>\n",
              "      <td>True</td>\n",
              "      <td>False</td>\n",
              "      <td>False</td>\n",
              "      <td>False</td>\n",
              "      <td>False</td>\n",
              "      <td>False</td>\n",
              "      <td>True</td>\n",
              "      <td>False</td>\n",
              "      <td>False</td>\n",
              "      <td>False</td>\n",
              "      <td>False</td>\n",
              "      <td>False</td>\n",
              "      <td>False</td>\n",
              "      <td>False</td>\n",
              "      <td>False</td>\n",
              "      <td>False</td>\n",
              "    </tr>\n",
              "    <tr>\n",
              "      <th>TAXI_OUT</th>\n",
              "      <td>False</td>\n",
              "      <td>False</td>\n",
              "      <td>True</td>\n",
              "      <td>False</td>\n",
              "      <td>False</td>\n",
              "      <td>False</td>\n",
              "      <td>False</td>\n",
              "      <td>False</td>\n",
              "      <td>False</td>\n",
              "      <td>False</td>\n",
              "      <td>False</td>\n",
              "      <td>False</td>\n",
              "      <td>False</td>\n",
              "      <td>False</td>\n",
              "      <td>False</td>\n",
              "      <td>False</td>\n",
              "      <td>False</td>\n",
              "    </tr>\n",
              "    <tr>\n",
              "      <th>WHEELS_OFF</th>\n",
              "      <td>True</td>\n",
              "      <td>False</td>\n",
              "      <td>False</td>\n",
              "      <td>True</td>\n",
              "      <td>False</td>\n",
              "      <td>False</td>\n",
              "      <td>False</td>\n",
              "      <td>False</td>\n",
              "      <td>False</td>\n",
              "      <td>False</td>\n",
              "      <td>False</td>\n",
              "      <td>False</td>\n",
              "      <td>False</td>\n",
              "      <td>False</td>\n",
              "      <td>False</td>\n",
              "      <td>False</td>\n",
              "      <td>False</td>\n",
              "    </tr>\n",
              "    <tr>\n",
              "      <th>WHEELS_ON</th>\n",
              "      <td>False</td>\n",
              "      <td>False</td>\n",
              "      <td>False</td>\n",
              "      <td>False</td>\n",
              "      <td>True</td>\n",
              "      <td>False</td>\n",
              "      <td>True</td>\n",
              "      <td>False</td>\n",
              "      <td>False</td>\n",
              "      <td>False</td>\n",
              "      <td>False</td>\n",
              "      <td>False</td>\n",
              "      <td>False</td>\n",
              "      <td>False</td>\n",
              "      <td>False</td>\n",
              "      <td>False</td>\n",
              "      <td>False</td>\n",
              "    </tr>\n",
              "    <tr>\n",
              "      <th>TAXI_IN</th>\n",
              "      <td>False</td>\n",
              "      <td>False</td>\n",
              "      <td>False</td>\n",
              "      <td>False</td>\n",
              "      <td>False</td>\n",
              "      <td>True</td>\n",
              "      <td>False</td>\n",
              "      <td>False</td>\n",
              "      <td>False</td>\n",
              "      <td>False</td>\n",
              "      <td>False</td>\n",
              "      <td>False</td>\n",
              "      <td>False</td>\n",
              "      <td>False</td>\n",
              "      <td>False</td>\n",
              "      <td>False</td>\n",
              "      <td>False</td>\n",
              "    </tr>\n",
              "    <tr>\n",
              "      <th>CRS_ARR_TIME</th>\n",
              "      <td>False</td>\n",
              "      <td>False</td>\n",
              "      <td>False</td>\n",
              "      <td>False</td>\n",
              "      <td>True</td>\n",
              "      <td>False</td>\n",
              "      <td>True</td>\n",
              "      <td>False</td>\n",
              "      <td>False</td>\n",
              "      <td>False</td>\n",
              "      <td>False</td>\n",
              "      <td>False</td>\n",
              "      <td>False</td>\n",
              "      <td>False</td>\n",
              "      <td>False</td>\n",
              "      <td>False</td>\n",
              "      <td>False</td>\n",
              "    </tr>\n",
              "    <tr>\n",
              "      <th>ARR_DELAY</th>\n",
              "      <td>False</td>\n",
              "      <td>True</td>\n",
              "      <td>False</td>\n",
              "      <td>False</td>\n",
              "      <td>False</td>\n",
              "      <td>False</td>\n",
              "      <td>False</td>\n",
              "      <td>True</td>\n",
              "      <td>False</td>\n",
              "      <td>False</td>\n",
              "      <td>False</td>\n",
              "      <td>False</td>\n",
              "      <td>False</td>\n",
              "      <td>False</td>\n",
              "      <td>False</td>\n",
              "      <td>False</td>\n",
              "      <td>False</td>\n",
              "    </tr>\n",
              "    <tr>\n",
              "      <th>CRS_ELAPSED_TIME</th>\n",
              "      <td>False</td>\n",
              "      <td>False</td>\n",
              "      <td>False</td>\n",
              "      <td>False</td>\n",
              "      <td>False</td>\n",
              "      <td>False</td>\n",
              "      <td>False</td>\n",
              "      <td>False</td>\n",
              "      <td>True</td>\n",
              "      <td>True</td>\n",
              "      <td>True</td>\n",
              "      <td>True</td>\n",
              "      <td>False</td>\n",
              "      <td>False</td>\n",
              "      <td>False</td>\n",
              "      <td>False</td>\n",
              "      <td>False</td>\n",
              "    </tr>\n",
              "    <tr>\n",
              "      <th>ELAPSED_TIME</th>\n",
              "      <td>False</td>\n",
              "      <td>False</td>\n",
              "      <td>False</td>\n",
              "      <td>False</td>\n",
              "      <td>False</td>\n",
              "      <td>False</td>\n",
              "      <td>False</td>\n",
              "      <td>False</td>\n",
              "      <td>True</td>\n",
              "      <td>True</td>\n",
              "      <td>True</td>\n",
              "      <td>True</td>\n",
              "      <td>False</td>\n",
              "      <td>False</td>\n",
              "      <td>False</td>\n",
              "      <td>False</td>\n",
              "      <td>False</td>\n",
              "    </tr>\n",
              "    <tr>\n",
              "      <th>AIR_TIME</th>\n",
              "      <td>False</td>\n",
              "      <td>False</td>\n",
              "      <td>False</td>\n",
              "      <td>False</td>\n",
              "      <td>False</td>\n",
              "      <td>False</td>\n",
              "      <td>False</td>\n",
              "      <td>False</td>\n",
              "      <td>True</td>\n",
              "      <td>True</td>\n",
              "      <td>True</td>\n",
              "      <td>True</td>\n",
              "      <td>False</td>\n",
              "      <td>False</td>\n",
              "      <td>False</td>\n",
              "      <td>False</td>\n",
              "      <td>False</td>\n",
              "    </tr>\n",
              "    <tr>\n",
              "      <th>DISTANCE</th>\n",
              "      <td>False</td>\n",
              "      <td>False</td>\n",
              "      <td>False</td>\n",
              "      <td>False</td>\n",
              "      <td>False</td>\n",
              "      <td>False</td>\n",
              "      <td>False</td>\n",
              "      <td>False</td>\n",
              "      <td>True</td>\n",
              "      <td>True</td>\n",
              "      <td>True</td>\n",
              "      <td>True</td>\n",
              "      <td>False</td>\n",
              "      <td>False</td>\n",
              "      <td>False</td>\n",
              "      <td>False</td>\n",
              "      <td>False</td>\n",
              "    </tr>\n",
              "    <tr>\n",
              "      <th>DAY</th>\n",
              "      <td>False</td>\n",
              "      <td>False</td>\n",
              "      <td>False</td>\n",
              "      <td>False</td>\n",
              "      <td>False</td>\n",
              "      <td>False</td>\n",
              "      <td>False</td>\n",
              "      <td>False</td>\n",
              "      <td>False</td>\n",
              "      <td>False</td>\n",
              "      <td>False</td>\n",
              "      <td>False</td>\n",
              "      <td>True</td>\n",
              "      <td>False</td>\n",
              "      <td>False</td>\n",
              "      <td>False</td>\n",
              "      <td>False</td>\n",
              "    </tr>\n",
              "    <tr>\n",
              "      <th>MONTH</th>\n",
              "      <td>False</td>\n",
              "      <td>False</td>\n",
              "      <td>False</td>\n",
              "      <td>False</td>\n",
              "      <td>False</td>\n",
              "      <td>False</td>\n",
              "      <td>False</td>\n",
              "      <td>False</td>\n",
              "      <td>False</td>\n",
              "      <td>False</td>\n",
              "      <td>False</td>\n",
              "      <td>False</td>\n",
              "      <td>False</td>\n",
              "      <td>True</td>\n",
              "      <td>False</td>\n",
              "      <td>False</td>\n",
              "      <td>False</td>\n",
              "    </tr>\n",
              "    <tr>\n",
              "      <th>YEAR</th>\n",
              "      <td>False</td>\n",
              "      <td>False</td>\n",
              "      <td>False</td>\n",
              "      <td>False</td>\n",
              "      <td>False</td>\n",
              "      <td>False</td>\n",
              "      <td>False</td>\n",
              "      <td>False</td>\n",
              "      <td>False</td>\n",
              "      <td>False</td>\n",
              "      <td>False</td>\n",
              "      <td>False</td>\n",
              "      <td>False</td>\n",
              "      <td>False</td>\n",
              "      <td>True</td>\n",
              "      <td>False</td>\n",
              "      <td>False</td>\n",
              "    </tr>\n",
              "    <tr>\n",
              "      <th>FLIGHT_STATUS</th>\n",
              "      <td>False</td>\n",
              "      <td>False</td>\n",
              "      <td>False</td>\n",
              "      <td>False</td>\n",
              "      <td>False</td>\n",
              "      <td>False</td>\n",
              "      <td>False</td>\n",
              "      <td>False</td>\n",
              "      <td>False</td>\n",
              "      <td>False</td>\n",
              "      <td>False</td>\n",
              "      <td>False</td>\n",
              "      <td>False</td>\n",
              "      <td>False</td>\n",
              "      <td>False</td>\n",
              "      <td>True</td>\n",
              "      <td>False</td>\n",
              "    </tr>\n",
              "    <tr>\n",
              "      <th>WEEKDAY</th>\n",
              "      <td>False</td>\n",
              "      <td>False</td>\n",
              "      <td>False</td>\n",
              "      <td>False</td>\n",
              "      <td>False</td>\n",
              "      <td>False</td>\n",
              "      <td>False</td>\n",
              "      <td>False</td>\n",
              "      <td>False</td>\n",
              "      <td>False</td>\n",
              "      <td>False</td>\n",
              "      <td>False</td>\n",
              "      <td>False</td>\n",
              "      <td>False</td>\n",
              "      <td>False</td>\n",
              "      <td>False</td>\n",
              "      <td>True</td>\n",
              "    </tr>\n",
              "  </tbody>\n",
              "</table>\n",
              "</div>"
            ],
            "text/plain": [
              "                  CRS_DEP_TIME  DEP_DELAY  TAXI_OUT  WHEELS_OFF  WHEELS_ON  \\\n",
              "CRS_DEP_TIME              True      False     False        True      False   \n",
              "DEP_DELAY                False       True     False       False      False   \n",
              "TAXI_OUT                 False      False      True       False      False   \n",
              "WHEELS_OFF                True      False     False        True      False   \n",
              "WHEELS_ON                False      False     False       False       True   \n",
              "TAXI_IN                  False      False     False       False      False   \n",
              "CRS_ARR_TIME             False      False     False       False       True   \n",
              "ARR_DELAY                False       True     False       False      False   \n",
              "CRS_ELAPSED_TIME         False      False     False       False      False   \n",
              "ELAPSED_TIME             False      False     False       False      False   \n",
              "AIR_TIME                 False      False     False       False      False   \n",
              "DISTANCE                 False      False     False       False      False   \n",
              "DAY                      False      False     False       False      False   \n",
              "MONTH                    False      False     False       False      False   \n",
              "YEAR                     False      False     False       False      False   \n",
              "FLIGHT_STATUS            False      False     False       False      False   \n",
              "WEEKDAY                  False      False     False       False      False   \n",
              "\n",
              "                  TAXI_IN  CRS_ARR_TIME  ARR_DELAY  CRS_ELAPSED_TIME  \\\n",
              "CRS_DEP_TIME        False         False      False             False   \n",
              "DEP_DELAY           False         False       True             False   \n",
              "TAXI_OUT            False         False      False             False   \n",
              "WHEELS_OFF          False         False      False             False   \n",
              "WHEELS_ON           False          True      False             False   \n",
              "TAXI_IN              True         False      False             False   \n",
              "CRS_ARR_TIME        False          True      False             False   \n",
              "ARR_DELAY           False         False       True             False   \n",
              "CRS_ELAPSED_TIME    False         False      False              True   \n",
              "ELAPSED_TIME        False         False      False              True   \n",
              "AIR_TIME            False         False      False              True   \n",
              "DISTANCE            False         False      False              True   \n",
              "DAY                 False         False      False             False   \n",
              "MONTH               False         False      False             False   \n",
              "YEAR                False         False      False             False   \n",
              "FLIGHT_STATUS       False         False      False             False   \n",
              "WEEKDAY             False         False      False             False   \n",
              "\n",
              "                  ELAPSED_TIME  AIR_TIME  DISTANCE    DAY  MONTH   YEAR  \\\n",
              "CRS_DEP_TIME             False     False     False  False  False  False   \n",
              "DEP_DELAY                False     False     False  False  False  False   \n",
              "TAXI_OUT                 False     False     False  False  False  False   \n",
              "WHEELS_OFF               False     False     False  False  False  False   \n",
              "WHEELS_ON                False     False     False  False  False  False   \n",
              "TAXI_IN                  False     False     False  False  False  False   \n",
              "CRS_ARR_TIME             False     False     False  False  False  False   \n",
              "ARR_DELAY                False     False     False  False  False  False   \n",
              "CRS_ELAPSED_TIME          True      True      True  False  False  False   \n",
              "ELAPSED_TIME              True      True      True  False  False  False   \n",
              "AIR_TIME                  True      True      True  False  False  False   \n",
              "DISTANCE                  True      True      True  False  False  False   \n",
              "DAY                      False     False     False   True  False  False   \n",
              "MONTH                    False     False     False  False   True  False   \n",
              "YEAR                     False     False     False  False  False   True   \n",
              "FLIGHT_STATUS            False     False     False  False  False  False   \n",
              "WEEKDAY                  False     False     False  False  False  False   \n",
              "\n",
              "                  FLIGHT_STATUS  WEEKDAY  \n",
              "CRS_DEP_TIME              False    False  \n",
              "DEP_DELAY                 False    False  \n",
              "TAXI_OUT                  False    False  \n",
              "WHEELS_OFF                False    False  \n",
              "WHEELS_ON                 False    False  \n",
              "TAXI_IN                   False    False  \n",
              "CRS_ARR_TIME              False    False  \n",
              "ARR_DELAY                 False    False  \n",
              "CRS_ELAPSED_TIME          False    False  \n",
              "ELAPSED_TIME              False    False  \n",
              "AIR_TIME                  False    False  \n",
              "DISTANCE                  False    False  \n",
              "DAY                       False    False  \n",
              "MONTH                     False    False  \n",
              "YEAR                      False    False  \n",
              "FLIGHT_STATUS              True    False  \n",
              "WEEKDAY                   False     True  "
            ]
          },
          "execution_count": 155,
          "metadata": {},
          "output_type": "execute_result"
        }
      ],
      "source": [
        "abs(dfm_numeric.corr())>.75"
      ]
    },
    {
      "cell_type": "code",
      "execution_count": 156,
      "metadata": {
        "colab": {
          "base_uri": "https://localhost:8080/",
          "height": 1000
        },
        "id": "L5TL3yoTy3_v",
        "outputId": "e498633a-d96b-48ee-c642-43b609462f53"
      },
      "outputs": [
        {
          "data": {
            "image/png": "[encoded data removed]",
            "text/plain": [
              "<Figure size 2000x1400 with 2 Axes>"
            ]
          },
          "metadata": {},
          "output_type": "display_data"
        }
      ],
      "source": [
        "plt.figure(figsize=(20, 14))\n",
        "ax = sns.heatmap(dfm_numeric.corr(), cmap='YlGnBu', center=0, annot=True, fmt=\".2f\")\n",
        "bottom, top = ax.get_ylim()\n",
        "plt.text(0, -0.6, \"Heatmap of Numeric Variables\", fontsize=30, color='Black', fontstyle='normal')\n",
        "plt.text(0, -0.7, \"Correlation Analysis\", fontsize=18, color='Gray', fontstyle='italic')\n",
        "ax.set_ylim(bottom + 0.5, top - 0.5)\n",
        "plt.yticks(rotation=0, fontsize=14)\n",
        "plt.xticks(rotation=90, fontsize=14)\n",
        "plt.show()"
      ]
    },
    {
      "cell_type": "code",
      "execution_count": 157,
      "metadata": {
        "colab": {
          "base_uri": "https://localhost:8080/",
          "height": 1000
        },
        "id": "WsD1J92X1Sni",
        "outputId": "6c01c090-6ad2-4004-b25f-a63be449c545"
      },
      "outputs": [
        {
          "data": {
            "image/png": "[encoded data removed]",
            "text/plain": [
              "<Figure size 1500x1500 with 20 Axes>"
            ]
          },
          "metadata": {},
          "output_type": "display_data"
        }
      ],
      "source": [
        "dfm.hist(figsize  = [15, 15],bins=12)\n",
        "plt.show()"
      ]
    },
    {
      "cell_type": "code",
      "execution_count": 158,
      "metadata": {
        "colab": {
          "base_uri": "https://localhost:8080/",
          "height": 382
        },
        "id": "VKMWomHV3sc8",
        "outputId": "c0ee2020-bd9d-4161-c404-807f0a1b71dc"
      },
      "outputs": [
        {
          "data": {
            "text/html": [
              "<div>\n",
              "<style scoped>\n",
              "    .dataframe tbody tr th:only-of-type {\n",
              "        vertical-align: middle;\n",
              "    }\n",
              "\n",
              "    .dataframe tbody tr th {\n",
              "        vertical-align: top;\n",
              "    }\n",
              "\n",
              "    .dataframe thead th {\n",
              "        text-align: right;\n",
              "    }\n",
              "</style>\n",
              "<table border=\"1\" class=\"dataframe\">\n",
              "  <thead>\n",
              "    <tr style=\"text-align: right;\">\n",
              "      <th></th>\n",
              "      <th>AIRLINE</th>\n",
              "      <th>ORIGIN_CITY</th>\n",
              "      <th>DEST_CITY</th>\n",
              "      <th>CRS_DEP_TIME</th>\n",
              "      <th>DEP_DELAY</th>\n",
              "      <th>TAXI_OUT</th>\n",
              "      <th>WHEELS_OFF</th>\n",
              "      <th>WHEELS_ON</th>\n",
              "      <th>TAXI_IN</th>\n",
              "      <th>CRS_ARR_TIME</th>\n",
              "      <th>ARR_DELAY</th>\n",
              "      <th>CRS_ELAPSED_TIME</th>\n",
              "      <th>ELAPSED_TIME</th>\n",
              "      <th>AIR_TIME</th>\n",
              "      <th>DISTANCE</th>\n",
              "      <th>DAY</th>\n",
              "      <th>MONTH</th>\n",
              "      <th>YEAR</th>\n",
              "      <th>FLIGHT_STATUS</th>\n",
              "      <th>WEEKDAY</th>\n",
              "    </tr>\n",
              "  </thead>\n",
              "  <tbody>\n",
              "    <tr>\n",
              "      <th>31</th>\n",
              "      <td>Delta Air Lines Inc.</td>\n",
              "      <td>Los Angeles, CA</td>\n",
              "      <td>Atlanta, GA</td>\n",
              "      <td>2</td>\n",
              "      <td>5.0</td>\n",
              "      <td>15.0</td>\n",
              "      <td>2</td>\n",
              "      <td>3</td>\n",
              "      <td>4.0</td>\n",
              "      <td>3</td>\n",
              "      <td>-12.0</td>\n",
              "      <td>250.0</td>\n",
              "      <td>233.0</td>\n",
              "      <td>214.0</td>\n",
              "      <td>1947.0</td>\n",
              "      <td>6</td>\n",
              "      <td>1</td>\n",
              "      <td>2020</td>\n",
              "      <td>0</td>\n",
              "      <td>0</td>\n",
              "    </tr>\n",
              "    <tr>\n",
              "      <th>35</th>\n",
              "      <td>SkyWest Airlines Inc.</td>\n",
              "      <td>Denver, CO</td>\n",
              "      <td>Salt Lake City, UT</td>\n",
              "      <td>3</td>\n",
              "      <td>5.0</td>\n",
              "      <td>23.0</td>\n",
              "      <td>3</td>\n",
              "      <td>4</td>\n",
              "      <td>7.0</td>\n",
              "      <td>4</td>\n",
              "      <td>2.0</td>\n",
              "      <td>107.0</td>\n",
              "      <td>104.0</td>\n",
              "      <td>74.0</td>\n",
              "      <td>391.0</td>\n",
              "      <td>16</td>\n",
              "      <td>1</td>\n",
              "      <td>2023</td>\n",
              "      <td>1</td>\n",
              "      <td>0</td>\n",
              "    </tr>\n",
              "    <tr>\n",
              "      <th>38</th>\n",
              "      <td>Alaska Airlines Inc.</td>\n",
              "      <td>St. Louis, MO</td>\n",
              "      <td>Seattle, WA</td>\n",
              "      <td>4</td>\n",
              "      <td>-16.0</td>\n",
              "      <td>12.0</td>\n",
              "      <td>4</td>\n",
              "      <td>4</td>\n",
              "      <td>6.0</td>\n",
              "      <td>4</td>\n",
              "      <td>-8.0</td>\n",
              "      <td>275.0</td>\n",
              "      <td>283.0</td>\n",
              "      <td>265.0</td>\n",
              "      <td>1709.0</td>\n",
              "      <td>7</td>\n",
              "      <td>1</td>\n",
              "      <td>2020</td>\n",
              "      <td>0</td>\n",
              "      <td>1</td>\n",
              "    </tr>\n",
              "    <tr>\n",
              "      <th>64</th>\n",
              "      <td>Spirit Air Lines</td>\n",
              "      <td>Dallas/Fort Worth, TX</td>\n",
              "      <td>Los Angeles, CA</td>\n",
              "      <td>3</td>\n",
              "      <td>223.0</td>\n",
              "      <td>82.0</td>\n",
              "      <td>4</td>\n",
              "      <td>4</td>\n",
              "      <td>7.0</td>\n",
              "      <td>4</td>\n",
              "      <td>280.0</td>\n",
              "      <td>208.0</td>\n",
              "      <td>265.0</td>\n",
              "      <td>176.0</td>\n",
              "      <td>1235.0</td>\n",
              "      <td>30</td>\n",
              "      <td>1</td>\n",
              "      <td>2023</td>\n",
              "      <td>1</td>\n",
              "      <td>0</td>\n",
              "    </tr>\n",
              "    <tr>\n",
              "      <th>74</th>\n",
              "      <td>Southwest Airlines Co.</td>\n",
              "      <td>Baltimore, MD</td>\n",
              "      <td>Miami, FL</td>\n",
              "      <td>2</td>\n",
              "      <td>-9.0</td>\n",
              "      <td>7.0</td>\n",
              "      <td>2</td>\n",
              "      <td>3</td>\n",
              "      <td>11.0</td>\n",
              "      <td>3</td>\n",
              "      <td>-12.0</td>\n",
              "      <td>165.0</td>\n",
              "      <td>162.0</td>\n",
              "      <td>144.0</td>\n",
              "      <td>946.0</td>\n",
              "      <td>4</td>\n",
              "      <td>1</td>\n",
              "      <td>2021</td>\n",
              "      <td>0</td>\n",
              "      <td>0</td>\n",
              "    </tr>\n",
              "  </tbody>\n",
              "</table>\n",
              "</div>"
            ],
            "text/plain": [
              "                   AIRLINE            ORIGIN_CITY           DEST_CITY  \\\n",
              "31    Delta Air Lines Inc.        Los Angeles, CA         Atlanta, GA   \n",
              "35   SkyWest Airlines Inc.             Denver, CO  Salt Lake City, UT   \n",
              "38    Alaska Airlines Inc.          St. Louis, MO         Seattle, WA   \n",
              "64        Spirit Air Lines  Dallas/Fort Worth, TX     Los Angeles, CA   \n",
              "74  Southwest Airlines Co.          Baltimore, MD           Miami, FL   \n",
              "\n",
              "    CRS_DEP_TIME  DEP_DELAY  TAXI_OUT  WHEELS_OFF  WHEELS_ON  TAXI_IN  \\\n",
              "31             2        5.0      15.0           2          3      4.0   \n",
              "35             3        5.0      23.0           3          4      7.0   \n",
              "38             4      -16.0      12.0           4          4      6.0   \n",
              "64             3      223.0      82.0           4          4      7.0   \n",
              "74             2       -9.0       7.0           2          3     11.0   \n",
              "\n",
              "    CRS_ARR_TIME  ARR_DELAY  CRS_ELAPSED_TIME  ELAPSED_TIME  AIR_TIME  \\\n",
              "31             3      -12.0             250.0         233.0     214.0   \n",
              "35             4        2.0             107.0         104.0      74.0   \n",
              "38             4       -8.0             275.0         283.0     265.0   \n",
              "64             4      280.0             208.0         265.0     176.0   \n",
              "74             3      -12.0             165.0         162.0     144.0   \n",
              "\n",
              "    DISTANCE  DAY  MONTH  YEAR  FLIGHT_STATUS  WEEKDAY  \n",
              "31    1947.0    6      1  2020              0        0  \n",
              "35     391.0   16      1  2023              1        0  \n",
              "38    1709.0    7      1  2020              0        1  \n",
              "64    1235.0   30      1  2023              1        0  \n",
              "74     946.0    4      1  2021              0        0  "
            ]
          },
          "execution_count": 158,
          "metadata": {},
          "output_type": "execute_result"
        }
      ],
      "source": [
        "dfm_jan = dfm[(dfm['MONTH'] == 1)]\n",
        "dfm_jan.head()"
      ]
    },
    {
      "cell_type": "code",
      "execution_count": 159,
      "metadata": {
        "colab": {
          "base_uri": "https://localhost:8080/"
        },
        "id": "In0FITSa3yk-",
        "outputId": "2f232fc9-e55e-4405-c755-49e62c28844d"
      },
      "outputs": [
        {
          "data": {
            "text/plain": [
              "MONTH\n",
              "1    111239\n",
              "Name: count, dtype: int64"
            ]
          },
          "execution_count": 159,
          "metadata": {},
          "output_type": "execute_result"
        }
      ],
      "source": [
        "dfm_jan.MONTH.value_counts()"
      ]
    },
    {
      "cell_type": "code",
      "execution_count": 160,
      "metadata": {
        "colab": {
          "base_uri": "https://localhost:8080/",
          "height": 813
        },
        "id": "v5F-ZvjX31x9",
        "outputId": "92fa6de6-a3b1-4073-b2f3-004d5a40d4d5"
      },
      "outputs": [
        {
          "data": {
            "image/png": "[encoded data removed]",
            "text/plain": [
              "<Figure size 1500x900 with 1 Axes>"
            ]
          },
          "metadata": {},
          "output_type": "display_data"
        }
      ],
      "source": [
        "sns.set_style('darkgrid')\n",
        "\n",
        "fig = plt.figure(1, figsize=(15,9))\n",
        "ax = sns.barplot(x=\"WEEKDAY\", y=\"DEP_DELAY\", data=dfm_jan, palette=\"Blues\")\n",
        "plt.title('January ', fontsize=18)\n",
        "plt.xlabel('Weekdays', fontsize=14, labelpad=10);\n",
        "plt.show()"
      ]
    },
    {
      "cell_type": "code",
      "execution_count": 161,
      "metadata": {
        "colab": {
          "base_uri": "https://localhost:8080/"
        },
        "id": "Nk40AMtuZE9z",
        "outputId": "ec75488c-7550-47ae-80ab-8bb7922ccf94"
      },
      "outputs": [
        {
          "data": {
            "text/plain": [
              "(1191574, 20)"
            ]
          },
          "execution_count": 161,
          "metadata": {},
          "output_type": "execute_result"
        }
      ],
      "source": [
        "dfm.shape"
      ]
    },
    {
      "cell_type": "code",
      "execution_count": 162,
      "metadata": {
        "colab": {
          "base_uri": "https://localhost:8080/"
        },
        "id": "jRcip0xTZK-p",
        "outputId": "c51d9c98-2969-4e7f-a34b-6b9b8f998bbf"
      },
      "outputs": [
        {
          "data": {
            "text/plain": [
              "AIRLINE             0\n",
              "ORIGIN_CITY         0\n",
              "DEST_CITY           0\n",
              "CRS_DEP_TIME        0\n",
              "DEP_DELAY           0\n",
              "TAXI_OUT            0\n",
              "WHEELS_OFF          0\n",
              "WHEELS_ON           0\n",
              "TAXI_IN             0\n",
              "CRS_ARR_TIME        0\n",
              "ARR_DELAY           0\n",
              "CRS_ELAPSED_TIME    0\n",
              "ELAPSED_TIME        0\n",
              "AIR_TIME            0\n",
              "DISTANCE            0\n",
              "DAY                 0\n",
              "MONTH               0\n",
              "YEAR                0\n",
              "FLIGHT_STATUS       0\n",
              "WEEKDAY             0\n",
              "dtype: int64"
            ]
          },
          "execution_count": 162,
          "metadata": {},
          "output_type": "execute_result"
        }
      ],
      "source": [
        "dfm.isna().sum()"
      ]
    },
    {
      "cell_type": "markdown",
      "metadata": {
        "id": "WN15BmVkEIH6"
      },
      "source": [
        "PREDICTING FLIGHT DELAYS"
      ]
    },
    {
      "cell_type": "code",
      "execution_count": 163,
      "metadata": {
        "colab": {
          "base_uri": "https://localhost:8080/",
          "height": 365
        },
        "id": "C4L9GejQEVxm",
        "outputId": "d6d50a7b-bcd3-43b2-ce7d-dd70cc563f1f"
      },
      "outputs": [
        {
          "data": {
            "text/html": [
              "<div>\n",
              "<style scoped>\n",
              "    .dataframe tbody tr th:only-of-type {\n",
              "        vertical-align: middle;\n",
              "    }\n",
              "\n",
              "    .dataframe tbody tr th {\n",
              "        vertical-align: top;\n",
              "    }\n",
              "\n",
              "    .dataframe thead th {\n",
              "        text-align: right;\n",
              "    }\n",
              "</style>\n",
              "<table border=\"1\" class=\"dataframe\">\n",
              "  <thead>\n",
              "    <tr style=\"text-align: right;\">\n",
              "      <th></th>\n",
              "      <th>AIRLINE</th>\n",
              "      <th>AIRLINE_DOT</th>\n",
              "      <th>AIRLINE_CODE</th>\n",
              "      <th>DOT_CODE</th>\n",
              "      <th>ORIGIN</th>\n",
              "      <th>ORIGIN_CITY</th>\n",
              "      <th>DEST</th>\n",
              "      <th>DEST_CITY</th>\n",
              "      <th>CRS_DEP_TIME</th>\n",
              "      <th>DEP_DELAY</th>\n",
              "      <th>TAXI_OUT</th>\n",
              "      <th>WHEELS_OFF</th>\n",
              "      <th>WHEELS_ON</th>\n",
              "      <th>TAXI_IN</th>\n",
              "      <th>CRS_ARR_TIME</th>\n",
              "      <th>ARR_DELAY</th>\n",
              "      <th>CRS_ELAPSED_TIME</th>\n",
              "      <th>ELAPSED_TIME</th>\n",
              "      <th>AIR_TIME</th>\n",
              "      <th>DISTANCE</th>\n",
              "      <th>DAY</th>\n",
              "      <th>MONTH</th>\n",
              "      <th>YEAR</th>\n",
              "      <th>FLIGHT_STATUS</th>\n",
              "      <th>WEEKDAY</th>\n",
              "    </tr>\n",
              "  </thead>\n",
              "  <tbody>\n",
              "    <tr>\n",
              "      <th>0</th>\n",
              "      <td>Delta Air Lines Inc.</td>\n",
              "      <td>Delta Air Lines Inc.: DL</td>\n",
              "      <td>DL</td>\n",
              "      <td>19790</td>\n",
              "      <td>MSP</td>\n",
              "      <td>Minneapolis, MN</td>\n",
              "      <td>SEA</td>\n",
              "      <td>Seattle, WA</td>\n",
              "      <td>4</td>\n",
              "      <td>-6.0</td>\n",
              "      <td>9.0</td>\n",
              "      <td>4</td>\n",
              "      <td>4</td>\n",
              "      <td>38.0</td>\n",
              "      <td>4</td>\n",
              "      <td>-5.0</td>\n",
              "      <td>235.0</td>\n",
              "      <td>236.0</td>\n",
              "      <td>189.0</td>\n",
              "      <td>1399.0</td>\n",
              "      <td>19</td>\n",
              "      <td>11</td>\n",
              "      <td>2022</td>\n",
              "      <td>0</td>\n",
              "      <td>5</td>\n",
              "    </tr>\n",
              "    <tr>\n",
              "      <th>1</th>\n",
              "      <td>United Air Lines Inc.</td>\n",
              "      <td>United Air Lines Inc.: UA</td>\n",
              "      <td>UA</td>\n",
              "      <td>19977</td>\n",
              "      <td>DEN</td>\n",
              "      <td>Denver, CO</td>\n",
              "      <td>MSP</td>\n",
              "      <td>Minneapolis, MN</td>\n",
              "      <td>2</td>\n",
              "      <td>6.0</td>\n",
              "      <td>20.0</td>\n",
              "      <td>2</td>\n",
              "      <td>3</td>\n",
              "      <td>5.0</td>\n",
              "      <td>3</td>\n",
              "      <td>0.0</td>\n",
              "      <td>118.0</td>\n",
              "      <td>112.0</td>\n",
              "      <td>87.0</td>\n",
              "      <td>680.0</td>\n",
              "      <td>22</td>\n",
              "      <td>7</td>\n",
              "      <td>2022</td>\n",
              "      <td>1</td>\n",
              "      <td>4</td>\n",
              "    </tr>\n",
              "    <tr>\n",
              "      <th>2</th>\n",
              "      <td>Delta Air Lines Inc.</td>\n",
              "      <td>Delta Air Lines Inc.: DL</td>\n",
              "      <td>DL</td>\n",
              "      <td>19790</td>\n",
              "      <td>MSP</td>\n",
              "      <td>Minneapolis, MN</td>\n",
              "      <td>SFO</td>\n",
              "      <td>San Francisco, CA</td>\n",
              "      <td>3</td>\n",
              "      <td>-1.0</td>\n",
              "      <td>27.0</td>\n",
              "      <td>3</td>\n",
              "      <td>4</td>\n",
              "      <td>9.0</td>\n",
              "      <td>4</td>\n",
              "      <td>24.0</td>\n",
              "      <td>260.0</td>\n",
              "      <td>285.0</td>\n",
              "      <td>249.0</td>\n",
              "      <td>1589.0</td>\n",
              "      <td>6</td>\n",
              "      <td>3</td>\n",
              "      <td>2023</td>\n",
              "      <td>1</td>\n",
              "      <td>0</td>\n",
              "    </tr>\n",
              "    <tr>\n",
              "      <th>3</th>\n",
              "      <td>Spirit Air Lines</td>\n",
              "      <td>Spirit Air Lines: NK</td>\n",
              "      <td>NK</td>\n",
              "      <td>20416</td>\n",
              "      <td>MCO</td>\n",
              "      <td>Orlando, FL</td>\n",
              "      <td>DFW</td>\n",
              "      <td>Dallas/Fort Worth, TX</td>\n",
              "      <td>4</td>\n",
              "      <td>-2.0</td>\n",
              "      <td>15.0</td>\n",
              "      <td>4</td>\n",
              "      <td>4</td>\n",
              "      <td>14.0</td>\n",
              "      <td>4</td>\n",
              "      <td>-1.0</td>\n",
              "      <td>181.0</td>\n",
              "      <td>182.0</td>\n",
              "      <td>153.0</td>\n",
              "      <td>985.0</td>\n",
              "      <td>23</td>\n",
              "      <td>2</td>\n",
              "      <td>2020</td>\n",
              "      <td>0</td>\n",
              "      <td>6</td>\n",
              "    </tr>\n",
              "    <tr>\n",
              "      <th>4</th>\n",
              "      <td>American Airlines Inc.</td>\n",
              "      <td>American Airlines Inc.: AA</td>\n",
              "      <td>AA</td>\n",
              "      <td>19805</td>\n",
              "      <td>DCA</td>\n",
              "      <td>Washington, DC</td>\n",
              "      <td>BOS</td>\n",
              "      <td>Boston, MA</td>\n",
              "      <td>2</td>\n",
              "      <td>-9.0</td>\n",
              "      <td>23.0</td>\n",
              "      <td>2</td>\n",
              "      <td>2</td>\n",
              "      <td>8.0</td>\n",
              "      <td>2</td>\n",
              "      <td>-29.0</td>\n",
              "      <td>109.0</td>\n",
              "      <td>89.0</td>\n",
              "      <td>58.0</td>\n",
              "      <td>399.0</td>\n",
              "      <td>11</td>\n",
              "      <td>6</td>\n",
              "      <td>2023</td>\n",
              "      <td>0</td>\n",
              "      <td>6</td>\n",
              "    </tr>\n",
              "  </tbody>\n",
              "</table>\n",
              "</div>"
            ],
            "text/plain": [
              "                  AIRLINE                 AIRLINE_DOT AIRLINE_CODE  DOT_CODE  \\\n",
              "0    Delta Air Lines Inc.    Delta Air Lines Inc.: DL           DL     19790   \n",
              "1   United Air Lines Inc.   United Air Lines Inc.: UA           UA     19977   \n",
              "2    Delta Air Lines Inc.    Delta Air Lines Inc.: DL           DL     19790   \n",
              "3        Spirit Air Lines        Spirit Air Lines: NK           NK     20416   \n",
              "4  American Airlines Inc.  American Airlines Inc.: AA           AA     19805   \n",
              "\n",
              "  ORIGIN      ORIGIN_CITY DEST              DEST_CITY  CRS_DEP_TIME  \\\n",
              "0    MSP  Minneapolis, MN  SEA            Seattle, WA             4   \n",
              "1    DEN       Denver, CO  MSP        Minneapolis, MN             2   \n",
              "2    MSP  Minneapolis, MN  SFO      San Francisco, CA             3   \n",
              "3    MCO      Orlando, FL  DFW  Dallas/Fort Worth, TX             4   \n",
              "4    DCA   Washington, DC  BOS             Boston, MA             2   \n",
              "\n",
              "   DEP_DELAY  TAXI_OUT  WHEELS_OFF  WHEELS_ON  TAXI_IN  CRS_ARR_TIME  \\\n",
              "0       -6.0       9.0           4          4     38.0             4   \n",
              "1        6.0      20.0           2          3      5.0             3   \n",
              "2       -1.0      27.0           3          4      9.0             4   \n",
              "3       -2.0      15.0           4          4     14.0             4   \n",
              "4       -9.0      23.0           2          2      8.0             2   \n",
              "\n",
              "   ARR_DELAY  CRS_ELAPSED_TIME  ELAPSED_TIME  AIR_TIME  DISTANCE  DAY  MONTH  \\\n",
              "0       -5.0             235.0         236.0     189.0    1399.0   19     11   \n",
              "1        0.0             118.0         112.0      87.0     680.0   22      7   \n",
              "2       24.0             260.0         285.0     249.0    1589.0    6      3   \n",
              "3       -1.0             181.0         182.0     153.0     985.0   23      2   \n",
              "4      -29.0             109.0          89.0      58.0     399.0   11      6   \n",
              "\n",
              "   YEAR  FLIGHT_STATUS  WEEKDAY  \n",
              "0  2022              0        5  \n",
              "1  2022              1        4  \n",
              "2  2023              1        0  \n",
              "3  2020              0        6  \n",
              "4  2023              0        6  "
            ]
          },
          "execution_count": 163,
          "metadata": {},
          "output_type": "execute_result"
        }
      ],
      "source": [
        "dfm = pd.read_csv('dfm.csv', index_col=0)\n",
        "dfm.head()"
      ]
    },
    {
      "cell_type": "code",
      "execution_count": 164,
      "metadata": {
        "colab": {
          "base_uri": "https://localhost:8080/"
        },
        "id": "cne5a_XeEW6N",
        "outputId": "f1730c47-08ed-4dfa-d04e-becf2480931f"
      },
      "outputs": [
        {
          "data": {
            "text/plain": [
              "CRS_DEP_TIME\n",
              "2    0.387969\n",
              "3    0.359192\n",
              "4    0.189990\n",
              "1    0.062849\n",
              "Name: proportion, dtype: float64"
            ]
          },
          "execution_count": 164,
          "metadata": {},
          "output_type": "execute_result"
        }
      ],
      "source": [
        "dfm.CRS_DEP_TIME.value_counts(normalize=True)"
      ]
    },
    {
      "cell_type": "code",
      "execution_count": 165,
      "metadata": {
        "colab": {
          "base_uri": "https://localhost:8080/"
        },
        "id": "n8Dfr9D2EZPj",
        "outputId": "eb28ed3d-0dc0-4e5f-978f-9444ead16fd6"
      },
      "outputs": [
        {
          "data": {
            "text/plain": [
              "CRS_ARR_TIME\n",
              "3    0.351256\n",
              "4    0.315163\n",
              "2    0.307097\n",
              "1    0.026484\n",
              "Name: proportion, dtype: float64"
            ]
          },
          "execution_count": 165,
          "metadata": {},
          "output_type": "execute_result"
        }
      ],
      "source": [
        "dfm.CRS_ARR_TIME.value_counts(normalize=True)"
      ]
    },
    {
      "cell_type": "code",
      "execution_count": 166,
      "metadata": {
        "colab": {
          "base_uri": "https://localhost:8080/"
        },
        "id": "_AoZO-9gEbHz",
        "outputId": "94d7bd85-14a9-4e8d-e2d2-117d9d279d87"
      },
      "outputs": [
        {
          "name": "stdout",
          "output_type": "stream",
          "text": [
            "<class 'pandas.core.frame.DataFrame'>\n",
            "Index: 1191574 entries, 0 to 1857355\n",
            "Data columns (total 25 columns):\n",
            " #   Column            Non-Null Count    Dtype  \n",
            "---  ------            --------------    -----  \n",
            " 0   AIRLINE           1191574 non-null  object \n",
            " 1   AIRLINE_DOT       1191574 non-null  object \n",
            " 2   AIRLINE_CODE      1191574 non-null  object \n",
            " 3   DOT_CODE          1191574 non-null  int64  \n",
            " 4   ORIGIN            1191574 non-null  object \n",
            " 5   ORIGIN_CITY       1191574 non-null  object \n",
            " 6   DEST              1191574 non-null  object \n",
            " 7   DEST_CITY         1191574 non-null  object \n",
            " 8   CRS_DEP_TIME      1191574 non-null  int64  \n",
            " 9   DEP_DELAY         1191574 non-null  float64\n",
            " 10  TAXI_OUT          1191574 non-null  float64\n",
            " 11  WHEELS_OFF        1191574 non-null  int64  \n",
            " 12  WHEELS_ON         1191574 non-null  int64  \n",
            " 13  TAXI_IN           1191574 non-null  float64\n",
            " 14  CRS_ARR_TIME      1191574 non-null  int64  \n",
            " 15  ARR_DELAY         1191574 non-null  float64\n",
            " 16  CRS_ELAPSED_TIME  1191574 non-null  float64\n",
            " 17  ELAPSED_TIME      1191574 non-null  float64\n",
            " 18  AIR_TIME          1191574 non-null  float64\n",
            " 19  DISTANCE          1191574 non-null  float64\n",
            " 20  DAY               1191574 non-null  int64  \n",
            " 21  MONTH             1191574 non-null  int64  \n",
            " 22  YEAR              1191574 non-null  int64  \n",
            " 23  FLIGHT_STATUS     1191574 non-null  int64  \n",
            " 24  WEEKDAY           1191574 non-null  int64  \n",
            "dtypes: float64(8), int64(10), object(7)\n",
            "memory usage: 236.4+ MB\n"
          ]
        }
      ],
      "source": [
        "dfm.info()"
      ]
    },
    {
      "cell_type": "code",
      "execution_count": 167,
      "metadata": {
        "id": "Y2mbGlHMEvWt"
      },
      "outputs": [],
      "source": [
        "dfm = dfm.drop(columns=['AIRLINE_DOT', 'AIRLINE_CODE', 'DOT_CODE', 'ORIGIN', 'DEST'])"
      ]
    },
    {
      "cell_type": "code",
      "execution_count": 168,
      "metadata": {
        "colab": {
          "base_uri": "https://localhost:8080/"
        },
        "id": "GwXMS0ltFByp",
        "outputId": "e780d227-06b6-4091-d693-fba68cb6ed28"
      },
      "outputs": [
        {
          "name": "stdout",
          "output_type": "stream",
          "text": [
            "<class 'pandas.core.frame.DataFrame'>\n",
            "Index: 1191574 entries, 0 to 1857355\n",
            "Data columns (total 20 columns):\n",
            " #   Column            Non-Null Count    Dtype  \n",
            "---  ------            --------------    -----  \n",
            " 0   AIRLINE           1191574 non-null  object \n",
            " 1   ORIGIN_CITY       1191574 non-null  object \n",
            " 2   DEST_CITY         1191574 non-null  object \n",
            " 3   CRS_DEP_TIME      1191574 non-null  int64  \n",
            " 4   DEP_DELAY         1191574 non-null  float64\n",
            " 5   TAXI_OUT          1191574 non-null  float64\n",
            " 6   WHEELS_OFF        1191574 non-null  int64  \n",
            " 7   WHEELS_ON         1191574 non-null  int64  \n",
            " 8   TAXI_IN           1191574 non-null  float64\n",
            " 9   CRS_ARR_TIME      1191574 non-null  int64  \n",
            " 10  ARR_DELAY         1191574 non-null  float64\n",
            " 11  CRS_ELAPSED_TIME  1191574 non-null  float64\n",
            " 12  ELAPSED_TIME      1191574 non-null  float64\n",
            " 13  AIR_TIME          1191574 non-null  float64\n",
            " 14  DISTANCE          1191574 non-null  float64\n",
            " 15  DAY               1191574 non-null  int64  \n",
            " 16  MONTH             1191574 non-null  int64  \n",
            " 17  YEAR              1191574 non-null  int64  \n",
            " 18  FLIGHT_STATUS     1191574 non-null  int64  \n",
            " 19  WEEKDAY           1191574 non-null  int64  \n",
            "dtypes: float64(8), int64(9), object(3)\n",
            "memory usage: 190.9+ MB\n"
          ]
        }
      ],
      "source": [
        "dfm.info()"
      ]
    },
    {
      "cell_type": "code",
      "execution_count": 169,
      "metadata": {
        "colab": {
          "base_uri": "https://localhost:8080/"
        },
        "id": "eHqPgLU3FF2t",
        "outputId": "3c114970-605e-4e02-e413-e50e7e11892f"
      },
      "outputs": [
        {
          "name": "stdout",
          "output_type": "stream",
          "text": [
            "<class 'pandas.core.frame.DataFrame'>\n",
            "Index: 1191574 entries, 0 to 1857355\n",
            "Data columns (total 16 columns):\n",
            " #   Column            Non-Null Count    Dtype  \n",
            "---  ------            --------------    -----  \n",
            " 0   AIRLINE           1191574 non-null  object \n",
            " 1   ORIGIN_CITY       1191574 non-null  object \n",
            " 2   DEST_CITY         1191574 non-null  object \n",
            " 3   CRS_DEP_TIME      1191574 non-null  int64  \n",
            " 4   DEP_DELAY         1191574 non-null  float64\n",
            " 5   CRS_ARR_TIME      1191574 non-null  int64  \n",
            " 6   ARR_DELAY         1191574 non-null  float64\n",
            " 7   CRS_ELAPSED_TIME  1191574 non-null  float64\n",
            " 8   ELAPSED_TIME      1191574 non-null  float64\n",
            " 9   AIR_TIME          1191574 non-null  float64\n",
            " 10  DISTANCE          1191574 non-null  float64\n",
            " 11  DAY               1191574 non-null  int64  \n",
            " 12  MONTH             1191574 non-null  int64  \n",
            " 13  YEAR              1191574 non-null  int64  \n",
            " 14  FLIGHT_STATUS     1191574 non-null  int64  \n",
            " 15  WEEKDAY           1191574 non-null  int64  \n",
            "dtypes: float64(6), int64(7), object(3)\n",
            "memory usage: 154.5+ MB\n"
          ]
        }
      ],
      "source": [
        "dfm = dfm.drop(columns=['TAXI_OUT', 'WHEELS_OFF', 'WHEELS_ON', 'TAXI_IN'])\n",
        "dfm.info()"
      ]
    },
    {
      "cell_type": "code",
      "execution_count": 170,
      "metadata": {
        "colab": {
          "base_uri": "https://localhost:8080/"
        },
        "id": "vVhGnETeI2km",
        "outputId": "edf44e4c-29c2-46ad-cea7-7c225e0dfa46"
      },
      "outputs": [
        {
          "name": "stdout",
          "output_type": "stream",
          "text": [
            "<class 'pandas.core.frame.DataFrame'>\n",
            "Index: 1191574 entries, 0 to 1857355\n",
            "Data columns (total 14 columns):\n",
            " #   Column            Non-Null Count    Dtype  \n",
            "---  ------            --------------    -----  \n",
            " 0   AIRLINE           1191574 non-null  object \n",
            " 1   ORIGIN_CITY       1191574 non-null  object \n",
            " 2   DEST_CITY         1191574 non-null  object \n",
            " 3   CRS_DEP_TIME      1191574 non-null  int64  \n",
            " 4   DEP_DELAY         1191574 non-null  float64\n",
            " 5   CRS_ARR_TIME      1191574 non-null  int64  \n",
            " 6   CRS_ELAPSED_TIME  1191574 non-null  float64\n",
            " 7   ELAPSED_TIME      1191574 non-null  float64\n",
            " 8   AIR_TIME          1191574 non-null  float64\n",
            " 9   DISTANCE          1191574 non-null  float64\n",
            " 10  MONTH             1191574 non-null  int64  \n",
            " 11  YEAR              1191574 non-null  int64  \n",
            " 12  FLIGHT_STATUS     1191574 non-null  int64  \n",
            " 13  WEEKDAY           1191574 non-null  int64  \n",
            "dtypes: float64(5), int64(6), object(3)\n",
            "memory usage: 136.4+ MB\n"
          ]
        }
      ],
      "source": [
        "dfm = dfm.drop(columns=['ARR_DELAY', 'DAY'])\n",
        "dfm.info()"
      ]
    },
    {
      "cell_type": "code",
      "execution_count": 171,
      "metadata": {
        "colab": {
          "base_uri": "https://localhost:8080/"
        },
        "id": "zSXCNTYLEdBK",
        "outputId": "880a4775-d408-4df6-8cd8-c19c7146deb6"
      },
      "outputs": [
        {
          "data": {
            "text/plain": [
              "(1191574, 14)"
            ]
          },
          "execution_count": 171,
          "metadata": {},
          "output_type": "execute_result"
        }
      ],
      "source": [
        "dfm.shape"
      ]
    },
    {
      "cell_type": "code",
      "execution_count": 172,
      "metadata": {
        "colab": {
          "base_uri": "https://localhost:8080/"
        },
        "id": "u8xHRX-FEfAt",
        "outputId": "800071d3-08f4-402f-9760-db3cc5f64525"
      },
      "outputs": [
        {
          "data": {
            "text/plain": [
              "AIRLINE             0\n",
              "ORIGIN_CITY         0\n",
              "DEST_CITY           0\n",
              "CRS_DEP_TIME        0\n",
              "DEP_DELAY           0\n",
              "CRS_ARR_TIME        0\n",
              "CRS_ELAPSED_TIME    0\n",
              "ELAPSED_TIME        0\n",
              "AIR_TIME            0\n",
              "DISTANCE            0\n",
              "MONTH               0\n",
              "YEAR                0\n",
              "FLIGHT_STATUS       0\n",
              "WEEKDAY             0\n",
              "dtype: int64"
            ]
          },
          "execution_count": 172,
          "metadata": {},
          "output_type": "execute_result"
        }
      ],
      "source": [
        "dfm.isna().sum()"
      ]
    },
    {
      "cell_type": "markdown",
      "metadata": {
        "id": "DXVHs3_AEgt2"
      },
      "source": [
        "Data Distribution"
      ]
    },
    {
      "cell_type": "code",
      "execution_count": 173,
      "metadata": {
        "id": "OmFYwKRsEjD1"
      },
      "outputs": [],
      "source": [
        "def scaling_check(data):\n",
        "\n",
        "    case_count = dfm['FLIGHT_STATUS'].value_counts() # 'data' is our input which will be any of the 3 dataframes created\n",
        "    print('Legend:')\n",
        "    print(case_count)\n",
        "\n",
        "    plt.figure(figsize=(10,6))\n",
        "    sns.barplot(x=case_count.index, y=case_count.values)\n",
        "    plt.rcParams[\"figure.facecolor\"] = \"lightblue\"\n",
        "    plt.title('Data Distribution', fontsize=16)\n",
        "    plt.xlabel('Flight Status', fontsize=12)\n",
        "    plt.ylabel('Number of Flights', fontsize=12)\n",
        "    plt.xticks(range(len(case_count.index)), ['ON TIME(0)', 'DELAYED(1)'])\n",
        "    plt.show()"
      ]
    },
    {
      "cell_type": "code",
      "execution_count": 174,
      "metadata": {
        "colab": {
          "base_uri": "https://localhost:8080/",
          "height": 661
        },
        "id": "nnU9isCIF5ov",
        "outputId": "5c014c8b-c298-4b1b-a70e-b338cf62bdb1"
      },
      "outputs": [
        {
          "name": "stdout",
          "output_type": "stream",
          "text": [
            "Legend:\n",
            "FLIGHT_STATUS\n",
            "0    779519\n",
            "1    412055\n",
            "Name: count, dtype: int64\n"
          ]
        },
        {
          "data": {
            "image/png": "[encoded data removed]",
            "text/plain": [
              "<Figure size 1000x600 with 1 Axes>"
            ]
          },
          "metadata": {},
          "output_type": "display_data"
        }
      ],
      "source": [
        "scaling_check(dfm)"
      ]
    },
    {
      "cell_type": "code",
      "execution_count": 175,
      "metadata": {
        "colab": {
          "base_uri": "https://localhost:8080/"
        },
        "id": "yyo4ipNBF9SQ",
        "outputId": "59b4a20a-a2dc-4c70-a9ab-dc46821665a5"
      },
      "outputs": [
        {
          "data": {
            "text/plain": [
              "FLIGHT_STATUS\n",
              "0    0.654193\n",
              "1    0.345807\n",
              "Name: proportion, dtype: float64"
            ]
          },
          "execution_count": 175,
          "metadata": {},
          "output_type": "execute_result"
        }
      ],
      "source": [
        "dfm.FLIGHT_STATUS.value_counts(normalize=True)"
      ]
    },
    {
      "cell_type": "code",
      "execution_count": 176,
      "metadata": {
        "colab": {
          "base_uri": "https://localhost:8080/",
          "height": 1000
        },
        "id": "85bGBxdqGCdq",
        "outputId": "d63d2589-a031-4729-cf1d-0bc17bfb32e3"
      },
      "outputs": [
        {
          "data": {
            "image/png": "[encoded data removed]",
            "text/plain": [
              "<Figure size 1500x1500 with 12 Axes>"
            ]
          },
          "metadata": {},
          "output_type": "display_data"
        }
      ],
      "source": [
        "dfm.hist(figsize  = [15, 15],bins=9)\n",
        "plt.show()"
      ]
    },
    {
      "cell_type": "code",
      "execution_count": 177,
      "metadata": {
        "colab": {
          "base_uri": "https://localhost:8080/"
        },
        "id": "Ag9BHa9IGEEH",
        "outputId": "3f7e9718-034c-43cf-8bff-8536260c3c56"
      },
      "outputs": [
        {
          "data": {
            "text/plain": [
              "DEP_DELAY\n",
              "-5.0       7.628649e-02\n",
              "-4.0       7.334752e-02\n",
              "-3.0       7.104720e-02\n",
              "-6.0       6.514241e-02\n",
              "-2.0       6.511639e-02\n",
              "               ...     \n",
              " 1632.0    8.392261e-07\n",
              " 1662.0    8.392261e-07\n",
              " 1247.0    8.392261e-07\n",
              " 1088.0    8.392261e-07\n",
              " 1872.0    8.392261e-07\n",
              "Name: proportion, Length: 1359, dtype: float64"
            ]
          },
          "execution_count": 177,
          "metadata": {},
          "output_type": "execute_result"
        }
      ],
      "source": [
        "dfm.DEP_DELAY.value_counts(normalize=True)"
      ]
    },
    {
      "cell_type": "code",
      "execution_count": 178,
      "metadata": {
        "colab": {
          "base_uri": "https://localhost:8080/",
          "height": 597
        },
        "id": "Mt7xdq2eGF4O",
        "outputId": "f97c32e9-67b3-48be-a4a4-f00dba353f1f"
      },
      "outputs": [
        {
          "data": {
            "text/html": [
              "<div>\n",
              "<style scoped>\n",
              "    .dataframe tbody tr th:only-of-type {\n",
              "        vertical-align: middle;\n",
              "    }\n",
              "\n",
              "    .dataframe tbody tr th {\n",
              "        vertical-align: top;\n",
              "    }\n",
              "\n",
              "    .dataframe thead th {\n",
              "        text-align: right;\n",
              "    }\n",
              "</style>\n",
              "<table border=\"1\" class=\"dataframe\">\n",
              "  <thead>\n",
              "    <tr style=\"text-align: right;\">\n",
              "      <th></th>\n",
              "      <th>AIRLINE</th>\n",
              "      <th>ORIGIN_CITY</th>\n",
              "      <th>DEST_CITY</th>\n",
              "      <th>CRS_DEP_TIME</th>\n",
              "      <th>DEP_DELAY</th>\n",
              "      <th>CRS_ARR_TIME</th>\n",
              "      <th>CRS_ELAPSED_TIME</th>\n",
              "      <th>ELAPSED_TIME</th>\n",
              "      <th>AIR_TIME</th>\n",
              "      <th>DISTANCE</th>\n",
              "      <th>MONTH</th>\n",
              "      <th>YEAR</th>\n",
              "      <th>FLIGHT_STATUS</th>\n",
              "      <th>WEEKDAY</th>\n",
              "    </tr>\n",
              "  </thead>\n",
              "  <tbody>\n",
              "    <tr>\n",
              "      <th>18</th>\n",
              "      <td>Republic Airline</td>\n",
              "      <td>Minneapolis, MN</td>\n",
              "      <td>Newark, NJ</td>\n",
              "      <td>3</td>\n",
              "      <td>1069.0</td>\n",
              "      <td>3</td>\n",
              "      <td>178.0</td>\n",
              "      <td>233.0</td>\n",
              "      <td>145.0</td>\n",
              "      <td>1008.0</td>\n",
              "      <td>4</td>\n",
              "      <td>2023</td>\n",
              "      <td>1</td>\n",
              "      <td>5</td>\n",
              "    </tr>\n",
              "    <tr>\n",
              "      <th>2323</th>\n",
              "      <td>Delta Air Lines Inc.</td>\n",
              "      <td>Salt Lake City, UT</td>\n",
              "      <td>Los Angeles, CA</td>\n",
              "      <td>4</td>\n",
              "      <td>1022.0</td>\n",
              "      <td>4</td>\n",
              "      <td>120.0</td>\n",
              "      <td>125.0</td>\n",
              "      <td>90.0</td>\n",
              "      <td>590.0</td>\n",
              "      <td>12</td>\n",
              "      <td>2021</td>\n",
              "      <td>1</td>\n",
              "      <td>3</td>\n",
              "    </tr>\n",
              "    <tr>\n",
              "      <th>3246</th>\n",
              "      <td>American Airlines Inc.</td>\n",
              "      <td>Charlotte, NC</td>\n",
              "      <td>Newark, NJ</td>\n",
              "      <td>4</td>\n",
              "      <td>1180.0</td>\n",
              "      <td>4</td>\n",
              "      <td>117.0</td>\n",
              "      <td>122.0</td>\n",
              "      <td>76.0</td>\n",
              "      <td>529.0</td>\n",
              "      <td>2</td>\n",
              "      <td>2021</td>\n",
              "      <td>1</td>\n",
              "      <td>0</td>\n",
              "    </tr>\n",
              "    <tr>\n",
              "      <th>8541</th>\n",
              "      <td>SkyWest Airlines Inc.</td>\n",
              "      <td>Seattle, WA</td>\n",
              "      <td>Los Angeles, CA</td>\n",
              "      <td>3</td>\n",
              "      <td>1056.0</td>\n",
              "      <td>3</td>\n",
              "      <td>169.0</td>\n",
              "      <td>162.0</td>\n",
              "      <td>136.0</td>\n",
              "      <td>954.0</td>\n",
              "      <td>10</td>\n",
              "      <td>2021</td>\n",
              "      <td>1</td>\n",
              "      <td>0</td>\n",
              "    </tr>\n",
              "    <tr>\n",
              "      <th>10250</th>\n",
              "      <td>American Airlines Inc.</td>\n",
              "      <td>Chicago, IL</td>\n",
              "      <td>Charlotte, NC</td>\n",
              "      <td>2</td>\n",
              "      <td>1560.0</td>\n",
              "      <td>2</td>\n",
              "      <td>120.0</td>\n",
              "      <td>101.0</td>\n",
              "      <td>76.0</td>\n",
              "      <td>599.0</td>\n",
              "      <td>6</td>\n",
              "      <td>2023</td>\n",
              "      <td>1</td>\n",
              "      <td>3</td>\n",
              "    </tr>\n",
              "    <tr>\n",
              "      <th>...</th>\n",
              "      <td>...</td>\n",
              "      <td>...</td>\n",
              "      <td>...</td>\n",
              "      <td>...</td>\n",
              "      <td>...</td>\n",
              "      <td>...</td>\n",
              "      <td>...</td>\n",
              "      <td>...</td>\n",
              "      <td>...</td>\n",
              "      <td>...</td>\n",
              "      <td>...</td>\n",
              "      <td>...</td>\n",
              "      <td>...</td>\n",
              "      <td>...</td>\n",
              "    </tr>\n",
              "    <tr>\n",
              "      <th>1838862</th>\n",
              "      <td>SkyWest Airlines Inc.</td>\n",
              "      <td>St. Louis, MO</td>\n",
              "      <td>Denver, CO</td>\n",
              "      <td>3</td>\n",
              "      <td>1091.0</td>\n",
              "      <td>4</td>\n",
              "      <td>158.0</td>\n",
              "      <td>139.0</td>\n",
              "      <td>113.0</td>\n",
              "      <td>770.0</td>\n",
              "      <td>1</td>\n",
              "      <td>2020</td>\n",
              "      <td>1</td>\n",
              "      <td>5</td>\n",
              "    </tr>\n",
              "    <tr>\n",
              "      <th>1841247</th>\n",
              "      <td>SkyWest Airlines Inc.</td>\n",
              "      <td>South Bend, IN</td>\n",
              "      <td>Atlanta, GA</td>\n",
              "      <td>1</td>\n",
              "      <td>1142.0</td>\n",
              "      <td>2</td>\n",
              "      <td>127.0</td>\n",
              "      <td>97.0</td>\n",
              "      <td>74.0</td>\n",
              "      <td>566.0</td>\n",
              "      <td>11</td>\n",
              "      <td>2022</td>\n",
              "      <td>1</td>\n",
              "      <td>6</td>\n",
              "    </tr>\n",
              "    <tr>\n",
              "      <th>1841790</th>\n",
              "      <td>SkyWest Airlines Inc.</td>\n",
              "      <td>Eau Claire, WI</td>\n",
              "      <td>Chicago, IL</td>\n",
              "      <td>3</td>\n",
              "      <td>1080.0</td>\n",
              "      <td>3</td>\n",
              "      <td>74.0</td>\n",
              "      <td>80.0</td>\n",
              "      <td>53.0</td>\n",
              "      <td>269.0</td>\n",
              "      <td>2</td>\n",
              "      <td>2021</td>\n",
              "      <td>1</td>\n",
              "      <td>0</td>\n",
              "    </tr>\n",
              "    <tr>\n",
              "      <th>1847209</th>\n",
              "      <td>SkyWest Airlines Inc.</td>\n",
              "      <td>Grand Junction, CO</td>\n",
              "      <td>Denver, CO</td>\n",
              "      <td>3</td>\n",
              "      <td>1456.0</td>\n",
              "      <td>3</td>\n",
              "      <td>70.0</td>\n",
              "      <td>84.0</td>\n",
              "      <td>39.0</td>\n",
              "      <td>212.0</td>\n",
              "      <td>7</td>\n",
              "      <td>2020</td>\n",
              "      <td>1</td>\n",
              "      <td>1</td>\n",
              "    </tr>\n",
              "    <tr>\n",
              "      <th>1851746</th>\n",
              "      <td>American Airlines Inc.</td>\n",
              "      <td>Portland, OR</td>\n",
              "      <td>Dallas/Fort Worth, TX</td>\n",
              "      <td>1</td>\n",
              "      <td>1872.0</td>\n",
              "      <td>2</td>\n",
              "      <td>226.0</td>\n",
              "      <td>213.0</td>\n",
              "      <td>186.0</td>\n",
              "      <td>1616.0</td>\n",
              "      <td>3</td>\n",
              "      <td>2022</td>\n",
              "      <td>1</td>\n",
              "      <td>2</td>\n",
              "    </tr>\n",
              "  </tbody>\n",
              "</table>\n",
              "<p>524 rows × 14 columns</p>\n",
              "</div>"
            ],
            "text/plain": [
              "                        AIRLINE         ORIGIN_CITY              DEST_CITY  \\\n",
              "18             Republic Airline     Minneapolis, MN             Newark, NJ   \n",
              "2323       Delta Air Lines Inc.  Salt Lake City, UT        Los Angeles, CA   \n",
              "3246     American Airlines Inc.       Charlotte, NC             Newark, NJ   \n",
              "8541      SkyWest Airlines Inc.         Seattle, WA        Los Angeles, CA   \n",
              "10250    American Airlines Inc.         Chicago, IL          Charlotte, NC   \n",
              "...                         ...                 ...                    ...   \n",
              "1838862   SkyWest Airlines Inc.       St. Louis, MO             Denver, CO   \n",
              "1841247   SkyWest Airlines Inc.      South Bend, IN            Atlanta, GA   \n",
              "1841790   SkyWest Airlines Inc.      Eau Claire, WI            Chicago, IL   \n",
              "1847209   SkyWest Airlines Inc.  Grand Junction, CO             Denver, CO   \n",
              "1851746  American Airlines Inc.        Portland, OR  Dallas/Fort Worth, TX   \n",
              "\n",
              "         CRS_DEP_TIME  DEP_DELAY  CRS_ARR_TIME  CRS_ELAPSED_TIME  \\\n",
              "18                  3     1069.0             3             178.0   \n",
              "2323                4     1022.0             4             120.0   \n",
              "3246                4     1180.0             4             117.0   \n",
              "8541                3     1056.0             3             169.0   \n",
              "10250               2     1560.0             2             120.0   \n",
              "...               ...        ...           ...               ...   \n",
              "1838862             3     1091.0             4             158.0   \n",
              "1841247             1     1142.0             2             127.0   \n",
              "1841790             3     1080.0             3              74.0   \n",
              "1847209             3     1456.0             3              70.0   \n",
              "1851746             1     1872.0             2             226.0   \n",
              "\n",
              "         ELAPSED_TIME  AIR_TIME  DISTANCE  MONTH  YEAR  FLIGHT_STATUS  WEEKDAY  \n",
              "18              233.0     145.0    1008.0      4  2023              1        5  \n",
              "2323            125.0      90.0     590.0     12  2021              1        3  \n",
              "3246            122.0      76.0     529.0      2  2021              1        0  \n",
              "8541            162.0     136.0     954.0     10  2021              1        0  \n",
              "10250           101.0      76.0     599.0      6  2023              1        3  \n",
              "...               ...       ...       ...    ...   ...            ...      ...  \n",
              "1838862         139.0     113.0     770.0      1  2020              1        5  \n",
              "1841247          97.0      74.0     566.0     11  2022              1        6  \n",
              "1841790          80.0      53.0     269.0      2  2021              1        0  \n",
              "1847209          84.0      39.0     212.0      7  2020              1        1  \n",
              "1851746         213.0     186.0    1616.0      3  2022              1        2  \n",
              "\n",
              "[524 rows x 14 columns]"
            ]
          },
          "execution_count": 178,
          "metadata": {},
          "output_type": "execute_result"
        }
      ],
      "source": [
        "dfm_test=dfm[(dfm['DEP_DELAY'] > 1000)]\n",
        "dfm_test"
      ]
    },
    {
      "cell_type": "markdown",
      "metadata": {
        "id": "xuke1wG5GSRa"
      },
      "source": [
        "Categoricals"
      ]
    },
    {
      "cell_type": "code",
      "execution_count": 179,
      "metadata": {
        "id": "TQcXy50gGWez"
      },
      "outputs": [],
      "source": [
        "AIRLINE_dummies = pd.get_dummies(dfm['AIRLINE'], prefix='AIRLINE', drop_first=True)\n",
        "DEST_CITY_dummies = pd.get_dummies(dfm['DEST_CITY'], prefix='DEST_CITY', drop_first=True)\n",
        "CRS_DEP_TIME_dummies = pd.get_dummies(dfm['CRS_DEP_TIME'], prefix='CRS_DEP_TIME', drop_first=True)\n",
        "CRS_ARR_TIME_dummines = pd.get_dummies(dfm['CRS_ARR_TIME'], prefix='CRS_ARR_TIME', drop_first=True)\n",
        "MONTH_dummies = pd.get_dummies(dfm['MONTH'], prefix='MONTH', drop_first=True)\n",
        "WEEKDAY_dummies = pd.get_dummies(dfm['WEEKDAY'], prefix='WEEKDAY', drop_first=True)\n",
        "YEAR_dummies = pd.get_dummies(dfm['YEAR'], prefix='YEAR', drop_first=True)"
      ]
    },
    {
      "cell_type": "code",
      "execution_count": 180,
      "metadata": {
        "id": "a4jGlfc3Gcw_"
      },
      "outputs": [],
      "source": [
        "dfm = dfm.drop(['AIRLINE', 'ORIGIN_CITY', 'DEST_CITY', 'CRS_DEP_TIME', 'CRS_ARR_TIME', 'MONTH', 'WEEKDAY', 'YEAR'], axis=1)"
      ]
    },
    {
      "cell_type": "code",
      "execution_count": 181,
      "metadata": {
        "id": "gm_wlxZdGfGr"
      },
      "outputs": [],
      "source": [
        "dfm = pd.concat([dfm, AIRLINE_dummies, DEST_CITY_dummies, CRS_DEP_TIME_dummies, CRS_ARR_TIME_dummines, MONTH_dummies, WEEKDAY_dummies, YEAR_dummies], axis=1)"
      ]
    },
    {
      "cell_type": "code",
      "execution_count": 182,
      "metadata": {
        "colab": {
          "base_uri": "https://localhost:8080/",
          "height": 167
        },
        "id": "YWFMzYhcGhIo",
        "outputId": "1c6ae2a8-9121-49e7-d43e-73d5aed093a1"
      },
      "outputs": [
        {
          "data": {
            "text/html": [
              "<div>\n",
              "<style scoped>\n",
              "    .dataframe tbody tr th:only-of-type {\n",
              "        vertical-align: middle;\n",
              "    }\n",
              "\n",
              "    .dataframe tbody tr th {\n",
              "        vertical-align: top;\n",
              "    }\n",
              "\n",
              "    .dataframe thead th {\n",
              "        text-align: right;\n",
              "    }\n",
              "</style>\n",
              "<table border=\"1\" class=\"dataframe\">\n",
              "  <thead>\n",
              "    <tr style=\"text-align: right;\">\n",
              "      <th></th>\n",
              "      <th>DEP_DELAY</th>\n",
              "      <th>CRS_ELAPSED_TIME</th>\n",
              "      <th>ELAPSED_TIME</th>\n",
              "      <th>AIR_TIME</th>\n",
              "      <th>DISTANCE</th>\n",
              "      <th>FLIGHT_STATUS</th>\n",
              "      <th>AIRLINE_American Airlines Inc.</th>\n",
              "      <th>AIRLINE_Delta Air Lines Inc.</th>\n",
              "      <th>AIRLINE_Frontier Airlines Inc.</th>\n",
              "      <th>AIRLINE_JetBlue Airways</th>\n",
              "      <th>AIRLINE_Republic Airline</th>\n",
              "      <th>AIRLINE_SkyWest Airlines Inc.</th>\n",
              "      <th>AIRLINE_Southwest Airlines Co.</th>\n",
              "      <th>AIRLINE_Spirit Air Lines</th>\n",
              "      <th>AIRLINE_United Air Lines Inc.</th>\n",
              "      <th>DEST_CITY_Baltimore, MD</th>\n",
              "      <th>DEST_CITY_Boston, MA</th>\n",
              "      <th>DEST_CITY_Charlotte, NC</th>\n",
              "      <th>DEST_CITY_Chicago, IL</th>\n",
              "      <th>DEST_CITY_Dallas/Fort Worth, TX</th>\n",
              "      <th>DEST_CITY_Denver, CO</th>\n",
              "      <th>DEST_CITY_Detroit, MI</th>\n",
              "      <th>DEST_CITY_Fort Lauderdale, FL</th>\n",
              "      <th>DEST_CITY_Houston, TX</th>\n",
              "      <th>DEST_CITY_Las Vegas, NV</th>\n",
              "      <th>DEST_CITY_Los Angeles, CA</th>\n",
              "      <th>DEST_CITY_Miami, FL</th>\n",
              "      <th>DEST_CITY_Minneapolis, MN</th>\n",
              "      <th>DEST_CITY_Nashville, TN</th>\n",
              "      <th>DEST_CITY_New York, NY</th>\n",
              "      <th>DEST_CITY_Newark, NJ</th>\n",
              "      <th>DEST_CITY_Orlando, FL</th>\n",
              "      <th>DEST_CITY_Philadelphia, PA</th>\n",
              "      <th>DEST_CITY_Phoenix, AZ</th>\n",
              "      <th>DEST_CITY_Salt Lake City, UT</th>\n",
              "      <th>DEST_CITY_San Diego, CA</th>\n",
              "      <th>DEST_CITY_San Francisco, CA</th>\n",
              "      <th>DEST_CITY_Seattle, WA</th>\n",
              "      <th>DEST_CITY_Washington, DC</th>\n",
              "      <th>CRS_DEP_TIME_2</th>\n",
              "      <th>CRS_DEP_TIME_3</th>\n",
              "      <th>CRS_DEP_TIME_4</th>\n",
              "      <th>CRS_ARR_TIME_2</th>\n",
              "      <th>CRS_ARR_TIME_3</th>\n",
              "      <th>CRS_ARR_TIME_4</th>\n",
              "      <th>MONTH_2</th>\n",
              "      <th>MONTH_3</th>\n",
              "      <th>MONTH_4</th>\n",
              "      <th>MONTH_5</th>\n",
              "      <th>MONTH_6</th>\n",
              "      <th>MONTH_7</th>\n",
              "      <th>MONTH_8</th>\n",
              "      <th>MONTH_9</th>\n",
              "      <th>MONTH_10</th>\n",
              "      <th>MONTH_11</th>\n",
              "      <th>MONTH_12</th>\n",
              "      <th>WEEKDAY_1</th>\n",
              "      <th>WEEKDAY_2</th>\n",
              "      <th>WEEKDAY_3</th>\n",
              "      <th>WEEKDAY_4</th>\n",
              "      <th>WEEKDAY_5</th>\n",
              "      <th>WEEKDAY_6</th>\n",
              "      <th>YEAR_2021</th>\n",
              "      <th>YEAR_2022</th>\n",
              "      <th>YEAR_2023</th>\n",
              "    </tr>\n",
              "  </thead>\n",
              "  <tbody>\n",
              "    <tr>\n",
              "      <th>0</th>\n",
              "      <td>-6.0</td>\n",
              "      <td>235.0</td>\n",
              "      <td>236.0</td>\n",
              "      <td>189.0</td>\n",
              "      <td>1399.0</td>\n",
              "      <td>0</td>\n",
              "      <td>False</td>\n",
              "      <td>True</td>\n",
              "      <td>False</td>\n",
              "      <td>False</td>\n",
              "      <td>False</td>\n",
              "      <td>False</td>\n",
              "      <td>False</td>\n",
              "      <td>False</td>\n",
              "      <td>False</td>\n",
              "      <td>False</td>\n",
              "      <td>False</td>\n",
              "      <td>False</td>\n",
              "      <td>False</td>\n",
              "      <td>False</td>\n",
              "      <td>False</td>\n",
              "      <td>False</td>\n",
              "      <td>False</td>\n",
              "      <td>False</td>\n",
              "      <td>False</td>\n",
              "      <td>False</td>\n",
              "      <td>False</td>\n",
              "      <td>False</td>\n",
              "      <td>False</td>\n",
              "      <td>False</td>\n",
              "      <td>False</td>\n",
              "      <td>False</td>\n",
              "      <td>False</td>\n",
              "      <td>False</td>\n",
              "      <td>False</td>\n",
              "      <td>False</td>\n",
              "      <td>False</td>\n",
              "      <td>True</td>\n",
              "      <td>False</td>\n",
              "      <td>False</td>\n",
              "      <td>False</td>\n",
              "      <td>True</td>\n",
              "      <td>False</td>\n",
              "      <td>False</td>\n",
              "      <td>True</td>\n",
              "      <td>False</td>\n",
              "      <td>False</td>\n",
              "      <td>False</td>\n",
              "      <td>False</td>\n",
              "      <td>False</td>\n",
              "      <td>False</td>\n",
              "      <td>False</td>\n",
              "      <td>False</td>\n",
              "      <td>False</td>\n",
              "      <td>True</td>\n",
              "      <td>False</td>\n",
              "      <td>False</td>\n",
              "      <td>False</td>\n",
              "      <td>False</td>\n",
              "      <td>False</td>\n",
              "      <td>True</td>\n",
              "      <td>False</td>\n",
              "      <td>False</td>\n",
              "      <td>True</td>\n",
              "      <td>False</td>\n",
              "    </tr>\n",
              "    <tr>\n",
              "      <th>1</th>\n",
              "      <td>6.0</td>\n",
              "      <td>118.0</td>\n",
              "      <td>112.0</td>\n",
              "      <td>87.0</td>\n",
              "      <td>680.0</td>\n",
              "      <td>1</td>\n",
              "      <td>False</td>\n",
              "      <td>False</td>\n",
              "      <td>False</td>\n",
              "      <td>False</td>\n",
              "      <td>False</td>\n",
              "      <td>False</td>\n",
              "      <td>False</td>\n",
              "      <td>False</td>\n",
              "      <td>True</td>\n",
              "      <td>False</td>\n",
              "      <td>False</td>\n",
              "      <td>False</td>\n",
              "      <td>False</td>\n",
              "      <td>False</td>\n",
              "      <td>False</td>\n",
              "      <td>False</td>\n",
              "      <td>False</td>\n",
              "      <td>False</td>\n",
              "      <td>False</td>\n",
              "      <td>False</td>\n",
              "      <td>False</td>\n",
              "      <td>True</td>\n",
              "      <td>False</td>\n",
              "      <td>False</td>\n",
              "      <td>False</td>\n",
              "      <td>False</td>\n",
              "      <td>False</td>\n",
              "      <td>False</td>\n",
              "      <td>False</td>\n",
              "      <td>False</td>\n",
              "      <td>False</td>\n",
              "      <td>False</td>\n",
              "      <td>False</td>\n",
              "      <td>True</td>\n",
              "      <td>False</td>\n",
              "      <td>False</td>\n",
              "      <td>False</td>\n",
              "      <td>True</td>\n",
              "      <td>False</td>\n",
              "      <td>False</td>\n",
              "      <td>False</td>\n",
              "      <td>False</td>\n",
              "      <td>False</td>\n",
              "      <td>False</td>\n",
              "      <td>True</td>\n",
              "      <td>False</td>\n",
              "      <td>False</td>\n",
              "      <td>False</td>\n",
              "      <td>False</td>\n",
              "      <td>False</td>\n",
              "      <td>False</td>\n",
              "      <td>False</td>\n",
              "      <td>False</td>\n",
              "      <td>True</td>\n",
              "      <td>False</td>\n",
              "      <td>False</td>\n",
              "      <td>False</td>\n",
              "      <td>True</td>\n",
              "      <td>False</td>\n",
              "    </tr>\n",
              "  </tbody>\n",
              "</table>\n",
              "</div>"
            ],
            "text/plain": [
              "   DEP_DELAY  CRS_ELAPSED_TIME  ELAPSED_TIME  AIR_TIME  DISTANCE  \\\n",
              "0       -6.0             235.0         236.0     189.0    1399.0   \n",
              "1        6.0             118.0         112.0      87.0     680.0   \n",
              "\n",
              "   FLIGHT_STATUS  AIRLINE_American Airlines Inc.  \\\n",
              "0              0                           False   \n",
              "1              1                           False   \n",
              "\n",
              "   AIRLINE_Delta Air Lines Inc.  AIRLINE_Frontier Airlines Inc.  \\\n",
              "0                          True                           False   \n",
              "1                         False                           False   \n",
              "\n",
              "   AIRLINE_JetBlue Airways  AIRLINE_Republic Airline  \\\n",
              "0                    False                     False   \n",
              "1                    False                     False   \n",
              "\n",
              "   AIRLINE_SkyWest Airlines Inc.  AIRLINE_Southwest Airlines Co.  \\\n",
              "0                          False                           False   \n",
              "1                          False                           False   \n",
              "\n",
              "   AIRLINE_Spirit Air Lines  AIRLINE_United Air Lines Inc.  \\\n",
              "0                     False                          False   \n",
              "1                     False                           True   \n",
              "\n",
              "   DEST_CITY_Baltimore, MD  DEST_CITY_Boston, MA  DEST_CITY_Charlotte, NC  \\\n",
              "0                    False                 False                    False   \n",
              "1                    False                 False                    False   \n",
              "\n",
              "   DEST_CITY_Chicago, IL  DEST_CITY_Dallas/Fort Worth, TX  \\\n",
              "0                  False                            False   \n",
              "1                  False                            False   \n",
              "\n",
              "   DEST_CITY_Denver, CO  DEST_CITY_Detroit, MI  DEST_CITY_Fort Lauderdale, FL  \\\n",
              "0                 False                  False                          False   \n",
              "1                 False                  False                          False   \n",
              "\n",
              "   DEST_CITY_Houston, TX  DEST_CITY_Las Vegas, NV  DEST_CITY_Los Angeles, CA  \\\n",
              "0                  False                    False                      False   \n",
              "1                  False                    False                      False   \n",
              "\n",
              "   DEST_CITY_Miami, FL  DEST_CITY_Minneapolis, MN  DEST_CITY_Nashville, TN  \\\n",
              "0                False                      False                    False   \n",
              "1                False                       True                    False   \n",
              "\n",
              "   DEST_CITY_New York, NY  DEST_CITY_Newark, NJ  DEST_CITY_Orlando, FL  \\\n",
              "0                   False                 False                  False   \n",
              "1                   False                 False                  False   \n",
              "\n",
              "   DEST_CITY_Philadelphia, PA  DEST_CITY_Phoenix, AZ  \\\n",
              "0                       False                  False   \n",
              "1                       False                  False   \n",
              "\n",
              "   DEST_CITY_Salt Lake City, UT  DEST_CITY_San Diego, CA  \\\n",
              "0                         False                    False   \n",
              "1                         False                    False   \n",
              "\n",
              "   DEST_CITY_San Francisco, CA  DEST_CITY_Seattle, WA  \\\n",
              "0                        False                   True   \n",
              "1                        False                  False   \n",
              "\n",
              "   DEST_CITY_Washington, DC  CRS_DEP_TIME_2  CRS_DEP_TIME_3  CRS_DEP_TIME_4  \\\n",
              "0                     False           False           False            True   \n",
              "1                     False            True           False           False   \n",
              "\n",
              "   CRS_ARR_TIME_2  CRS_ARR_TIME_3  CRS_ARR_TIME_4  MONTH_2  MONTH_3  MONTH_4  \\\n",
              "0           False           False            True    False    False    False   \n",
              "1           False            True           False    False    False    False   \n",
              "\n",
              "   MONTH_5  MONTH_6  MONTH_7  MONTH_8  MONTH_9  MONTH_10  MONTH_11  MONTH_12  \\\n",
              "0    False    False    False    False    False     False      True     False   \n",
              "1    False    False     True    False    False     False     False     False   \n",
              "\n",
              "   WEEKDAY_1  WEEKDAY_2  WEEKDAY_3  WEEKDAY_4  WEEKDAY_5  WEEKDAY_6  \\\n",
              "0      False      False      False      False       True      False   \n",
              "1      False      False      False       True      False      False   \n",
              "\n",
              "   YEAR_2021  YEAR_2022  YEAR_2023  \n",
              "0      False       True      False  \n",
              "1      False       True      False  "
            ]
          },
          "execution_count": 182,
          "metadata": {},
          "output_type": "execute_result"
        }
      ],
      "source": [
        "dfm.head(2)"
      ]
    },
    {
      "cell_type": "code",
      "execution_count": 183,
      "metadata": {
        "colab": {
          "base_uri": "https://localhost:8080/"
        },
        "id": "wQfCuUb3GjM7",
        "outputId": "53f519d6-533c-4c92-b9af-e869a0296137"
      },
      "outputs": [
        {
          "data": {
            "text/plain": [
              "(1191574, 65)"
            ]
          },
          "execution_count": 183,
          "metadata": {},
          "output_type": "execute_result"
        }
      ],
      "source": [
        "dfm.shape"
      ]
    },
    {
      "cell_type": "code",
      "execution_count": 184,
      "metadata": {},
      "outputs": [],
      "source": [
        "dfm.to_csv('dfm.csv')"
      ]
    },
    {
      "cell_type": "code",
      "execution_count": null,
      "metadata": {},
      "outputs": [],
      "source": []
    }
  ],
  "metadata": {
    "colab": {
      "provenance": []
    },
    "kernelspec": {
      "display_name": "Python 3",
      "name": "python3"
    },
    "language_info": {
      "codemirror_mode": {
        "name": "ipython",
        "version": 3
      },
      "file_extension": ".py",
      "mimetype": "text/x-python",
      "name": "python",
      "nbconvert_exporter": "python",
      "pygments_lexer": "ipython3",
      "version": "3.11.9"
    }
  },
  "nbformat": 4,
  "nbformat_minor": 0
}
